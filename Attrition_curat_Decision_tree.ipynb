{
  "cells": [
    {
      "cell_type": "markdown",
      "metadata": {
        "id": "D1hlkfvxDNka"
      },
      "source": [
        "### Import libraries"
      ]
    },
    {
      "cell_type": "code",
      "execution_count": 1,
      "metadata": {
        "id": "6m8YR6X9Zx3l"
      },
      "outputs": [],
      "source": [
        "import pandas as pd\n",
        "import matplotlib.pyplot as plt\n",
        "%matplotlib inline\n",
        "import numpy as np\n",
        "import seaborn as sns\n",
        "from sklearn.ensemble import BaggingClassifier\n",
        "from sklearn.naive_bayes import GaussianNB\n",
        "from sklearn.svm import SVC\n",
        "from sklearn.tree import DecisionTreeClassifier\n",
        "from sklearn.preprocessing import Normalizer, StandardScaler\n",
        "from sklearn.metrics import accuracy_score, precision_score, recall_score, f1_score, confusion_matrix\n",
        "from sklearn.model_selection import train_test_split\n",
        "from sklearn.ensemble import BaggingClassifier\n",
        "from sklearn.tree import DecisionTreeClassifier\n",
        "from sklearn.linear_model import LinearRegression\n",
        "from sklearn.preprocessing import PolynomialFeatures\n",
        "from IPython.display import display\n",
        "pd.plotting.register_matplotlib_converters()\n",
        "from pandas.plotting import register_matplotlib_converters"
      ]
    },
    {
      "cell_type": "markdown",
      "metadata": {
        "id": "dTeA8h9VDNkp"
      },
      "source": [
        "### Read dataset"
      ]
    },
    {
      "cell_type": "code",
      "execution_count": 4,
      "metadata": {
        "id": "SqIlFEMuZ2xJ"
      },
      "outputs": [],
      "source": [
        "df1 = pd.read_csv(\"./df1.csv\")\n",
        "df2 = pd.read_csv(\"./df2.csv\")\n",
        "attrition = pd.read_csv(\"./attrition.csv\")"
      ]
    },
    {
      "cell_type": "markdown",
      "metadata": {
        "id": "53Bp3EdeDNkq"
      },
      "source": [
        "### Data preprocessing"
      ]
    },
    {
      "cell_type": "code",
      "execution_count": 5,
      "metadata": {
        "id": "7v_dfrbcZ92f"
      },
      "outputs": [],
      "source": [
        "indexes_df2 =  df2.loc[pd.isna(df2.Attrition) == True, \"EmployeeNumber\"]\n",
        "indexes_attrition = attrition.loc[pd.isna(attrition.Attrition) == True, \"EmployeeNumber\"]"
      ]
    },
    {
      "cell_type": "code",
      "execution_count": 6,
      "metadata": {
        "id": "22a4RlXNZ9y3"
      },
      "outputs": [],
      "source": [
        "df2.dropna(inplace=True)\n",
        "df1 = df1[df1[\"EmployeeNumber\"].isin(indexes_df2) == False]"
      ]
    },
    {
      "cell_type": "code",
      "execution_count": 7,
      "metadata": {
        "id": "J9RZFQUyZ9ty"
      },
      "outputs": [],
      "source": [
        "df1.drop(['EmployeeCount', 'DistanceFromHome'], axis=1, inplace=True)\n",
        "df2.drop(['Over18', 'StandardHours'], axis=1, inplace=True)"
      ]
    },
    {
      "cell_type": "code",
      "execution_count": 8,
      "metadata": {
        "id": "bp_xq9PRuB9d"
      },
      "outputs": [],
      "source": [
        "# df1.drop(\"Age\", axis=1, inplace=True)\n",
        "# df2.drop(\"YearsInCurrentRole\", axis=1, inplace=True)\n",
        "# df2.drop(\"YearsSinceLastPromotion\", axis=1, inplace=True)"
      ]
    },
    {
      "cell_type": "markdown",
      "metadata": {
        "id": "JodZYSTFDNkv"
      },
      "source": [
        "##### Deleting outliers"
      ]
    },
    {
      "cell_type": "code",
      "execution_count": 9,
      "metadata": {
        "id": "w3OY62sfkpM7"
      },
      "outputs": [],
      "source": [
        "df2 = df2[df2[\"YearsAtCompany\"] < 60]\n",
        "df2 = df2[df2['YearsWithCurrManager'] <= 17]\n",
        "df2 = df2[df2['TotalWorkingYears'] <= 40]"
      ]
    },
    {
      "cell_type": "code",
      "execution_count": 10,
      "metadata": {
        "id": "v4QAD05lZ9ng"
      },
      "outputs": [],
      "source": [
        "# def repair(x):\n",
        "#     if x > 500:\n",
        "#         x = x / 360\n",
        "#     return int(x)"
      ]
    },
    {
      "cell_type": "code",
      "execution_count": 11,
      "metadata": {
        "id": "kEkmRKWxZ9JU"
      },
      "outputs": [],
      "source": [
        "# df2[\"TotalWorkingYears\"] = df2[\"TotalWorkingYears\"].apply(lambda x: repair(x))\n",
        "# df2[\"YearsAtCompany\"] = df2[\"YearsAtCompany\"].apply(lambda x: repair(x))\n",
        "# df2[\"YearsInCurrentRole\"] = df2[\"YearsInCurrentRole\"].apply(lambda x: repair(x))\n",
        "# df2[\"YearsSinceLastPromotion\"] = df2[\"YearsSinceLastPromotion\"].apply(lambda x: repair(x))\n",
        "# df2[\"YearsWithCurrManager\"] = df2[\"YearsWithCurrManager\"].apply(lambda x: repair(x))\n",
        "# df1[\"Age\"] = df1[\"Age\"].apply(lambda x: repair(x))"
      ]
    },
    {
      "cell_type": "markdown",
      "metadata": {
        "id": "v6A_Qi95DNkz"
      },
      "source": [
        "### Categorical columns"
      ]
    },
    {
      "cell_type": "code",
      "execution_count": 12,
      "metadata": {
        "id": "ZVRIB6ARZ9GM"
      },
      "outputs": [],
      "source": [
        "df1['Department'] = df1['Department'].replace({\n",
        "    'Research & Development': 0, \n",
        "    'Human Resources': 1, \n",
        "    'Sales': 2 })\n",
        "\n",
        "df1['BusinessTravel'] = df1['BusinessTravel'].replace({\n",
        "    'Non-Travel': 0, \n",
        "    'Travel_Rarely': 1, \n",
        "    'Travel_Frequently': 2 })\n",
        "\n",
        "df1['EducationField'] = df1['EducationField'].replace({\n",
        "    'Life Sciences': 0, \n",
        "    'Human Resources': 1,\n",
        "    'Marketing': 2,\n",
        "    'Medical': 3,\n",
        "    'Technical Degree': 4,\n",
        "    'Other': 5 })\n",
        "\n",
        "df1['Gender'] = df1['Gender'].apply(lambda x: 1 if x == 'Female' else 0) \n",
        "\n",
        "df1['MaritalStatus'] = df1['MaritalStatus'].replace({\n",
        "    'Divorced': 0, \n",
        "    'Single': 1, \n",
        "    'Married': 2 })\n",
        "\n",
        "\n",
        "df2['Attrition'] = df2['Attrition'].apply(lambda x: 1 if x == 'Yes' else 0)\n",
        "\n",
        "df2['OverTime'] = df2['OverTime'].apply(lambda x: 1 if x == 'Yes' else 0) "
      ]
    },
    {
      "cell_type": "code",
      "execution_count": 13,
      "metadata": {
        "id": "l6tvsnwlZ9DT"
      },
      "outputs": [],
      "source": [
        "df1['JobRole'] = df1['JobRole'].astype('category').cat.codes"
      ]
    },
    {
      "cell_type": "markdown",
      "metadata": {
        "id": "F63Z_JZuDNk0"
      },
      "source": [
        "##### Split the dataframe into the train and test groups"
      ]
    },
    {
      "cell_type": "code",
      "execution_count": 14,
      "metadata": {
        "colab": {
          "base_uri": "https://localhost:8080/"
        },
        "id": "AQazWoh4Z9AS",
        "outputId": "20f48468-4ae3-48cf-a2dd-438f7d41792b"
      },
      "outputs": [
        {
          "output_type": "execute_result",
          "data": {
            "text/plain": [
              "0       0\n",
              "1       0\n",
              "2       0\n",
              "3       0\n",
              "4       0\n",
              "       ..\n",
              "3896    0\n",
              "3897    0\n",
              "3898    1\n",
              "3899    0\n",
              "3900    1\n",
              "Name: Attrition, Length: 3122, dtype: int64"
            ]
          },
          "metadata": {},
          "execution_count": 14
        }
      ],
      "source": [
        "X_test = df2[-400:]\n",
        "X_train = df2[:-400]\n",
        "\n",
        "y_test = X_test[\"Attrition\"]\n",
        "y_train = X_train[\"Attrition\"]\n",
        "\n",
        "X_test.pop(\"Attrition\")\n",
        "X_train.pop(\"Attrition\")"
      ]
    },
    {
      "cell_type": "markdown",
      "metadata": {
        "id": "rB8-sV5cxt6i"
      },
      "source": []
    },
    {
      "cell_type": "markdown",
      "metadata": {
        "id": "mS_NkmVTaajC"
      },
      "source": [
        "**Decision Tree df2** "
      ]
    },
    {
      "cell_type": "code",
      "execution_count": 15,
      "metadata": {
        "colab": {
          "base_uri": "https://localhost:8080/"
        },
        "id": "EXppf7I8Z888",
        "outputId": "c25b24c3-905d-45bf-9ad8-b28cab053f7d"
      },
      "outputs": [
        {
          "output_type": "stream",
          "name": "stderr",
          "text": [
            "/usr/local/lib/python3.8/dist-packages/pandas/core/frame.py:4906: SettingWithCopyWarning: \n",
            "A value is trying to be set on a copy of a slice from a DataFrame\n",
            "\n",
            "See the caveats in the documentation: https://pandas.pydata.org/pandas-docs/stable/user_guide/indexing.html#returning-a-view-versus-a-copy\n",
            "  return super().drop(\n"
          ]
        },
        {
          "output_type": "execute_result",
          "data": {
            "text/plain": [
              "DecisionTreeClassifier()"
            ]
          },
          "metadata": {},
          "execution_count": 15
        }
      ],
      "source": [
        "clf = DecisionTreeClassifier()\n",
        "\n",
        "if 'EmployeeNumber' in X_train.columns:\n",
        "    X_train.drop(\"EmployeeNumber\", axis=1, inplace=True)\n",
        "\n",
        "if 'EmployeeNumber' in X_test.columns:\n",
        "    X_test.drop(\"EmployeeNumber\", axis=1, inplace=True)\n",
        "\n",
        "clf.fit(X_train, y_train)"
      ]
    },
    {
      "cell_type": "code",
      "execution_count": 16,
      "metadata": {
        "id": "gFs4WuIFZ85o"
      },
      "outputs": [],
      "source": [
        "from sklearn.tree import plot_tree"
      ]
    },
    {
      "cell_type": "code",
      "execution_count": 17,
      "metadata": {
        "id": "Azbds9ANZ81j"
      },
      "outputs": [],
      "source": [
        "from sklearn.metrics import accuracy_score, precision_score, recall_score, f1_score, confusion_matrix\n",
        "import matplotlib.pyplot as plt\n",
        "import numpy as np\n",
        "\n",
        "# average:\n",
        "#   None - results for each class separatelyo\n",
        "#   'binary' - for the label selected in `pos_label`\n",
        "#   'micro' - for the total number of TP, FN, FP\n",
        "#   'macro' - unweighted average for each class\n",
        "#   'weighted' - weighted average for each class\n",
        "\n",
        "def calculate_metrics(target, prediction, average='macro'):\n",
        "    accuracy = accuracy_score(target, prediction)\n",
        "    precision = precision_score(target, prediction, average=average)\n",
        "    recall = recall_score(target, prediction, average=average)\n",
        "    f1 = f1_score(target, prediction, average=average)\n",
        "    mislabeled = (target != prediction).sum()\n",
        "    total = len(target)\n",
        "    return accuracy, precision, recall, f1, mislabeled, total\n",
        "\n",
        "def print_results(metrics, classifier_id='classifier'):\n",
        "    print(f'Results for {classifier_id}')\n",
        "    print('----')\n",
        "    print(f'  Accuracy:  {metrics[0]}')\n",
        "    print(f'  Precision: {metrics[1]}')\n",
        "    print(f'  Recall:    {metrics[2]}')\n",
        "    print(f'  F1 score:  {metrics[3]}')\n",
        "    print(f'  Mislabeled {metrics[4]} out of {metrics[5]}')\n",
        "    print('\\n')\n",
        "    \n",
        "def plot_confusion_matrix(confusion_matrix, classes, title=None,\n",
        "                          title_appendix='',\n",
        "                          cmap=plt.cm.Blues):\n",
        "    # plot title\n",
        "    if title_appendix:\n",
        "        title_appendix = f'({title_appendix})'\n",
        "    if title is None:\n",
        "        title = f'Confusion matrix {title_appendix}'\n",
        "    \n",
        "    fig, ax = plt.subplots()\n",
        "    # draws CM\n",
        "    img = ax.imshow(confusion_matrix, cmap=cmap)\n",
        "    # adds sidebar\n",
        "    ax.figure.colorbar(img, ax=ax)\n",
        "    # additions to the plot\n",
        "    ax.set_xticks(np.arange(confusion_matrix.shape[1]))\n",
        "    ax.set_xticklabels(classes, rotation=45, ha='right', rotation_mode='anchor')\n",
        "    ax.set_yticks(np.arange(confusion_matrix.shape[0]))\n",
        "    ax.set_yticklabels(classes, rotation=45, ha='right', rotation_mode='anchor')\n",
        "    ax.set_title(title)\n",
        "    ax.set_ylabel('True label')\n",
        "    ax.set_xlabel('Predicted label')\n",
        "    \n",
        "    # labels\n",
        "    fmt = '.2f' if confusion_matrix.dtype == 'float' else 'd'\n",
        "    thresh = confusion_matrix.max() / 2\n",
        "    for y, row in enumerate(confusion_matrix):\n",
        "        for x, cell in enumerate(row):\n",
        "            ax.text(x, y, format(cell, fmt),\n",
        "                    ha='center', va='center',\n",
        "                    color='white' if cell > thresh else 'black')\n",
        "    fig.tight_layout()\n",
        "    \n",
        "    return ax\n",
        "\n",
        "def normalize_confusion_matrix(confusion_matrix):\n",
        "    return confusion_matrix.astype(\n",
        "        'float') / confusion_matrix.sum(\n",
        "        axis=1)[np.newaxis].T"
      ]
    },
    {
      "cell_type": "code",
      "execution_count": 18,
      "metadata": {
        "id": "zzGvyjBbZ8yZ"
      },
      "outputs": [],
      "source": [
        "tree = DecisionTreeClassifier()\n",
        "\n",
        "if 'EmployeeNumber' in X_train.columns:\n",
        "    X_train.drop(\"EmployeeNumber\", axis=1, inplace=True)\n",
        "\n",
        "if 'EmployeeNumber' in X_test.columns:\n",
        "    X_test.drop(\"EmployeeNumber\", axis=1, inplace=True)\n",
        "\n",
        "tree.fit(X_train, y_train)\n",
        "y_tree = tree.predict(X_test)"
      ]
    },
    {
      "cell_type": "code",
      "execution_count": 19,
      "metadata": {
        "colab": {
          "base_uri": "https://localhost:8080/",
          "height": 471
        },
        "id": "6yD9iP95Z8uX",
        "outputId": "40f55c5d-3748-42e1-cc96-e4c1609a27f7"
      },
      "outputs": [
        {
          "output_type": "stream",
          "name": "stdout",
          "text": [
            "Results for Decision Tree\n",
            "----\n",
            "  Accuracy:  0.365\n",
            "  Precision: 0.453756201275691\n",
            "  Recall:    0.4707103579845135\n",
            "  F1 score:  0.34722829020071444\n",
            "  Mislabeled 254 out of 400\n",
            "\n",
            "\n"
          ]
        },
        {
          "output_type": "execute_result",
          "data": {
            "text/plain": [
              "<matplotlib.axes._subplots.AxesSubplot at 0x7fca4aab4220>"
            ]
          },
          "metadata": {},
          "execution_count": 19
        },
        {
          "output_type": "display_data",
          "data": {
            "text/plain": [
              "<Figure size 432x288 with 2 Axes>"
            ],
            "image/png": "[encoded data removed]"
          },
          "metadata": {
            "needs_background": "light"
          }
        }
      ],
      "source": [
        "print_results(calculate_metrics(y_test.values, y_tree), 'Decision Tree')\n",
        "cm = confusion_matrix(y_test, y_tree)\n",
        "plot_confusion_matrix(cm, [\"Yes\", \"No\"])"
      ]
    },
    {
      "cell_type": "markdown",
      "metadata": {
        "id": "EjSMXUrbasLQ"
      },
      "source": [
        "**Decision Tree df1**"
      ]
    },
    {
      "cell_type": "code",
      "execution_count": 20,
      "metadata": {
        "id": "O7cVkRQZZ8rG"
      },
      "outputs": [],
      "source": [
        "df1[\"Attrition\"] = df2[\"Attrition\"]"
      ]
    },
    {
      "cell_type": "code",
      "execution_count": 21,
      "metadata": {
        "colab": {
          "base_uri": "https://localhost:8080/"
        },
        "id": "y4rAx-eGZ8nY",
        "outputId": "e384fe7f-24b2-4e2f-dd7b-4923a8281c0e"
      },
      "outputs": [
        {
          "output_type": "stream",
          "name": "stdout",
          "text": [
            "<class 'pandas.core.frame.DataFrame'>\n",
            "Int64Index: 4302 entries, 0 to 4448\n",
            "Data columns (total 18 columns):\n",
            " #   Column                   Non-Null Count  Dtype  \n",
            "---  ------                   --------------  -----  \n",
            " 0   EmployeeNumber           4302 non-null   int64  \n",
            " 1   BusinessTravel           4302 non-null   int64  \n",
            " 2   DailyRate                4302 non-null   float64\n",
            " 3   Department               4302 non-null   int64  \n",
            " 4   Education                4302 non-null   float64\n",
            " 5   EducationField           4302 non-null   int64  \n",
            " 6   EnvironmentSatisfaction  4302 non-null   float64\n",
            " 7   Gender                   4302 non-null   int64  \n",
            " 8   HourlyRate               4302 non-null   float64\n",
            " 9   JobInvolvement           4302 non-null   float64\n",
            " 10  JobLevel                 4302 non-null   float64\n",
            " 11  JobRole                  4302 non-null   int8   \n",
            " 12  JobSatisfaction          4302 non-null   float64\n",
            " 13  MaritalStatus            4302 non-null   int64  \n",
            " 14  MonthlyIncome            4302 non-null   float64\n",
            " 15  MonthlyRate              4302 non-null   float64\n",
            " 16  NumCompaniesWorked       4302 non-null   float64\n",
            " 17  Attrition                3522 non-null   float64\n",
            "dtypes: float64(11), int64(6), int8(1)\n",
            "memory usage: 609.2 KB\n"
          ]
        }
      ],
      "source": [
        "df1.info()"
      ]
    },
    {
      "cell_type": "code",
      "source": [
        "df1 = df1.dropna()\n",
        "df2 = df2.dropna()"
      ],
      "metadata": {
        "id": "VUlmOsylEZHq"
      },
      "execution_count": 26,
      "outputs": []
    },
    {
      "cell_type": "code",
      "execution_count": 28,
      "metadata": {
        "colab": {
          "base_uri": "https://localhost:8080/"
        },
        "id": "zlDFh1L-Z8kQ",
        "outputId": "1e7c956a-c6d9-4316-ceb9-c35137d63e5d"
      },
      "outputs": [
        {
          "output_type": "execute_result",
          "data": {
            "text/plain": [
              "0       0.0\n",
              "1       0.0\n",
              "2       0.0\n",
              "3       0.0\n",
              "4       0.0\n",
              "       ... \n",
              "3896    0.0\n",
              "3897    0.0\n",
              "3898    1.0\n",
              "3899    0.0\n",
              "3900    1.0\n",
              "Name: Attrition, Length: 3122, dtype: float64"
            ]
          },
          "metadata": {},
          "execution_count": 28
        }
      ],
      "source": [
        "X_test = df1[-400:]\n",
        "X_train = df1[:-400]\n",
        "\n",
        "y_test = X_test[\"Attrition\"]\n",
        "y_train = X_train[\"Attrition\"]\n",
        "\n",
        "X_test.pop(\"Attrition\")\n",
        "X_train.pop(\"Attrition\")"
      ]
    },
    {
      "cell_type": "code",
      "execution_count": 29,
      "metadata": {
        "colab": {
          "base_uri": "https://localhost:8080/"
        },
        "id": "AKFholXsZ8hz",
        "outputId": "f16511a1-f435-45bb-f068-3c92efe4d2f0"
      },
      "outputs": [
        {
          "output_type": "stream",
          "name": "stderr",
          "text": [
            "/usr/local/lib/python3.8/dist-packages/pandas/core/frame.py:4906: SettingWithCopyWarning: \n",
            "A value is trying to be set on a copy of a slice from a DataFrame\n",
            "\n",
            "See the caveats in the documentation: https://pandas.pydata.org/pandas-docs/stable/user_guide/indexing.html#returning-a-view-versus-a-copy\n",
            "  return super().drop(\n"
          ]
        },
        {
          "output_type": "execute_result",
          "data": {
            "text/plain": [
              "DecisionTreeClassifier()"
            ]
          },
          "metadata": {},
          "execution_count": 29
        }
      ],
      "source": [
        "clf = DecisionTreeClassifier()\n",
        "\n",
        "\n",
        "if 'EmployeeNumber' in X_train.columns:\n",
        "    X_train.drop(\"EmployeeNumber\", axis=1, inplace=True)\n",
        "\n",
        "if 'EmployeeNumber' in X_test.columns:\n",
        "    X_test.drop(\"EmployeeNumber\", axis=1, inplace=True)\n",
        "\n",
        "clf.fit(X_train, y_train)"
      ]
    },
    {
      "cell_type": "code",
      "execution_count": 30,
      "metadata": {
        "id": "fwqHxZKtZ8ew"
      },
      "outputs": [],
      "source": [
        "tree = DecisionTreeClassifier()\n",
        "tree.fit(X_train, y_train)\n",
        "\n",
        "\n",
        "if 'EmployeeNumber' in X_train.columns:\n",
        "    X_train.drop(\"EmployeeNumber\", axis=1, inplace=True)\n",
        "\n",
        "if 'EmployeeNumber' in X_test.columns:\n",
        "    X_test.drop(\"EmployeeNumber\", axis=1, inplace=True)\n",
        "\n",
        "y_tree = tree.predict(X_test)"
      ]
    },
    {
      "cell_type": "code",
      "execution_count": 31,
      "metadata": {
        "colab": {
          "base_uri": "https://localhost:8080/",
          "height": 471
        },
        "id": "-QvhxgYQa8HP",
        "outputId": "70f169ee-df1c-47ea-80ce-d4c7cf1b1adb"
      },
      "outputs": [
        {
          "output_type": "stream",
          "name": "stdout",
          "text": [
            "Results for Decision Tree\n",
            "----\n",
            "  Accuracy:  0.37\n",
            "  Precision: 0.4437275985663082\n",
            "  Recall:    0.4559533161261362\n",
            "  F1 score:  0.36228363194655333\n",
            "  Mislabeled 252 out of 400\n",
            "\n",
            "\n"
          ]
        },
        {
          "output_type": "execute_result",
          "data": {
            "text/plain": [
              "<matplotlib.axes._subplots.AxesSubplot at 0x7fca3a1503d0>"
            ]
          },
          "metadata": {},
          "execution_count": 31
        },
        {
          "output_type": "display_data",
          "data": {
            "text/plain": [
              "<Figure size 432x288 with 2 Axes>"
            ],
            "image/png": "[encoded data removed]"
          },
          "metadata": {
            "needs_background": "light"
          }
        }
      ],
      "source": [
        "print_results(calculate_metrics(y_test.values, y_tree), 'Decision Tree')\n",
        "cm = confusion_matrix(y_test, y_tree)\n",
        "plot_confusion_matrix(cm, [\"Yes\", \"No\"])"
      ]
    },
    {
      "cell_type": "markdown",
      "metadata": {
        "id": "q_QDT1KabC0W"
      },
      "source": [
        "**Concatenated**"
      ]
    },
    {
      "cell_type": "code",
      "execution_count": 32,
      "metadata": {
        "id": "D9NaXvWoa7fR"
      },
      "outputs": [],
      "source": [
        "merged = pd.merge(df1.drop(\"Attrition\", axis=1), df2, on=\"EmployeeNumber\")"
      ]
    },
    {
      "cell_type": "code",
      "execution_count": 33,
      "metadata": {
        "colab": {
          "base_uri": "https://localhost:8080/"
        },
        "id": "8ucdtE79a7YG",
        "outputId": "9d944fea-f42e-40db-96c6-0e45bf5e7004"
      },
      "outputs": [
        {
          "output_type": "stream",
          "name": "stdout",
          "text": [
            "<class 'pandas.core.frame.DataFrame'>\n",
            "Int64Index: 3522 entries, 0 to 3521\n",
            "Data columns (total 29 columns):\n",
            " #   Column                    Non-Null Count  Dtype  \n",
            "---  ------                    --------------  -----  \n",
            " 0   EmployeeNumber            3522 non-null   int64  \n",
            " 1   BusinessTravel            3522 non-null   int64  \n",
            " 2   DailyRate                 3522 non-null   float64\n",
            " 3   Department                3522 non-null   int64  \n",
            " 4   Education                 3522 non-null   float64\n",
            " 5   EducationField            3522 non-null   int64  \n",
            " 6   EnvironmentSatisfaction   3522 non-null   float64\n",
            " 7   Gender                    3522 non-null   int64  \n",
            " 8   HourlyRate                3522 non-null   float64\n",
            " 9   JobInvolvement            3522 non-null   float64\n",
            " 10  JobLevel                  3522 non-null   float64\n",
            " 11  JobRole                   3522 non-null   int8   \n",
            " 12  JobSatisfaction           3522 non-null   float64\n",
            " 13  MaritalStatus             3522 non-null   int64  \n",
            " 14  MonthlyIncome             3522 non-null   float64\n",
            " 15  MonthlyRate               3522 non-null   float64\n",
            " 16  NumCompaniesWorked        3522 non-null   float64\n",
            " 17  OverTime                  3522 non-null   int64  \n",
            " 18  PercentSalaryHike         3522 non-null   float64\n",
            " 19  PerformanceRating         3522 non-null   float64\n",
            " 20  RelationshipSatisfaction  3522 non-null   float64\n",
            " 21  StockOptionLevel          3522 non-null   float64\n",
            " 22  TotalWorkingYears         3522 non-null   float64\n",
            " 23  TrainingTimesLastYear     3522 non-null   float64\n",
            " 24  WorkLifeBalance           3522 non-null   float64\n",
            " 25  YearsAtCompany            3522 non-null   float64\n",
            " 26  YearsWithCurrManager      3522 non-null   float64\n",
            " 27  Attrition                 3522 non-null   int64  \n",
            " 28  YearlyIncome              3522 non-null   float64\n",
            "dtypes: float64(20), int64(8), int8(1)\n",
            "memory usage: 801.4 KB\n"
          ]
        }
      ],
      "source": [
        "merged.info()"
      ]
    },
    {
      "cell_type": "code",
      "execution_count": 34,
      "metadata": {
        "colab": {
          "base_uri": "https://localhost:8080/",
          "height": 300
        },
        "id": "I2fKTQUOa7Ua",
        "outputId": "98dc1f5e-4c99-4563-be84-3ef76b262e00"
      },
      "outputs": [
        {
          "output_type": "execute_result",
          "data": {
            "text/plain": [
              "   EmployeeNumber  BusinessTravel  DailyRate  Department  Education  \\\n",
              "0             104               1      852.0           0        1.0   \n",
              "1            1638               1      397.0           0        2.0   \n",
              "2             164               1      841.0           0        3.0   \n",
              "3             395               1     1117.0           0        2.0   \n",
              "4              53               1      464.0           0        2.0   \n",
              "\n",
              "   EducationField  EnvironmentSatisfaction  Gender  HourlyRate  \\\n",
              "0               0                      4.0       0        55.0   \n",
              "1               3                      4.0       1        54.0   \n",
              "2               5                      3.0       1        46.0   \n",
              "3               0                      4.0       1        66.0   \n",
              "4               5                      3.0       0        75.0   \n",
              "\n",
              "   JobInvolvement  ...  PerformanceRating  RelationshipSatisfaction  \\\n",
              "0             2.0  ...                3.0                       3.0   \n",
              "1             2.0  ...                3.0                       4.0   \n",
              "2             2.0  ...                3.0                       3.0   \n",
              "3             3.0  ...                4.0                       4.0   \n",
              "4             3.0  ...                3.0                       3.0   \n",
              "\n",
              "   StockOptionLevel  TotalWorkingYears  TrainingTimesLastYear  \\\n",
              "0               2.0               10.0                    1.0   \n",
              "1               1.0               10.0                    6.0   \n",
              "2               0.0                5.0                    3.0   \n",
              "3               0.0                5.0                    3.0   \n",
              "4               1.0                1.0                    3.0   \n",
              "\n",
              "   WorkLifeBalance  YearsAtCompany  YearsWithCurrManager  Attrition  \\\n",
              "0              2.0            10.0                   0.0          0   \n",
              "1              4.0             5.0                   2.0          0   \n",
              "2              2.0             5.0                   3.0          0   \n",
              "3              3.0             5.0                   2.0          0   \n",
              "4              3.0             1.0                   0.0          0   \n",
              "\n",
              "   YearlyIncome  \n",
              "0       61512.0  \n",
              "1       93072.0  \n",
              "2       28416.0  \n",
              "3       39720.0  \n",
              "4       23412.0  \n",
              "\n",
              "[5 rows x 29 columns]"
            ],
            "text/html": [
              "\n",
              "  <div id=\"df-224d699d-a7e2-46e8-956b-a0b2b5fdf52f\">\n",
              "    <div class=\"colab-df-container\">\n",
              "      <div>\n",
              "<style scoped>\n",
              "    .dataframe tbody tr th:only-of-type {\n",
              "        vertical-align: middle;\n",
              "    }\n",
              "\n",
              "    .dataframe tbody tr th {\n",
              "        vertical-align: top;\n",
              "    }\n",
              "\n",
              "    .dataframe thead th {\n",
              "        text-align: right;\n",
              "    }\n",
              "</style>\n",
              "<table border=\"1\" class=\"dataframe\">\n",
              "  <thead>\n",
              "    <tr style=\"text-align: right;\">\n",
              "      <th></th>\n",
              "      <th>EmployeeNumber</th>\n",
              "      <th>BusinessTravel</th>\n",
              "      <th>DailyRate</th>\n",
              "      <th>Department</th>\n",
              "      <th>Education</th>\n",
              "      <th>EducationField</th>\n",
              "      <th>EnvironmentSatisfaction</th>\n",
              "      <th>Gender</th>\n",
              "      <th>HourlyRate</th>\n",
              "      <th>JobInvolvement</th>\n",
              "      <th>...</th>\n",
              "      <th>PerformanceRating</th>\n",
              "      <th>RelationshipSatisfaction</th>\n",
              "      <th>StockOptionLevel</th>\n",
              "      <th>TotalWorkingYears</th>\n",
              "      <th>TrainingTimesLastYear</th>\n",
              "      <th>WorkLifeBalance</th>\n",
              "      <th>YearsAtCompany</th>\n",
              "      <th>YearsWithCurrManager</th>\n",
              "      <th>Attrition</th>\n",
              "      <th>YearlyIncome</th>\n",
              "    </tr>\n",
              "  </thead>\n",
              "  <tbody>\n",
              "    <tr>\n",
              "      <th>0</th>\n",
              "      <td>104</td>\n",
              "      <td>1</td>\n",
              "      <td>852.0</td>\n",
              "      <td>0</td>\n",
              "      <td>1.0</td>\n",
              "      <td>0</td>\n",
              "      <td>4.0</td>\n",
              "      <td>0</td>\n",
              "      <td>55.0</td>\n",
              "      <td>2.0</td>\n",
              "      <td>...</td>\n",
              "      <td>3.0</td>\n",
              "      <td>3.0</td>\n",
              "      <td>2.0</td>\n",
              "      <td>10.0</td>\n",
              "      <td>1.0</td>\n",
              "      <td>2.0</td>\n",
              "      <td>10.0</td>\n",
              "      <td>0.0</td>\n",
              "      <td>0</td>\n",
              "      <td>61512.0</td>\n",
              "    </tr>\n",
              "    <tr>\n",
              "      <th>1</th>\n",
              "      <td>1638</td>\n",
              "      <td>1</td>\n",
              "      <td>397.0</td>\n",
              "      <td>0</td>\n",
              "      <td>2.0</td>\n",
              "      <td>3</td>\n",
              "      <td>4.0</td>\n",
              "      <td>1</td>\n",
              "      <td>54.0</td>\n",
              "      <td>2.0</td>\n",
              "      <td>...</td>\n",
              "      <td>3.0</td>\n",
              "      <td>4.0</td>\n",
              "      <td>1.0</td>\n",
              "      <td>10.0</td>\n",
              "      <td>6.0</td>\n",
              "      <td>4.0</td>\n",
              "      <td>5.0</td>\n",
              "      <td>2.0</td>\n",
              "      <td>0</td>\n",
              "      <td>93072.0</td>\n",
              "    </tr>\n",
              "    <tr>\n",
              "      <th>2</th>\n",
              "      <td>164</td>\n",
              "      <td>1</td>\n",
              "      <td>841.0</td>\n",
              "      <td>0</td>\n",
              "      <td>3.0</td>\n",
              "      <td>5</td>\n",
              "      <td>3.0</td>\n",
              "      <td>1</td>\n",
              "      <td>46.0</td>\n",
              "      <td>2.0</td>\n",
              "      <td>...</td>\n",
              "      <td>3.0</td>\n",
              "      <td>3.0</td>\n",
              "      <td>0.0</td>\n",
              "      <td>5.0</td>\n",
              "      <td>3.0</td>\n",
              "      <td>2.0</td>\n",
              "      <td>5.0</td>\n",
              "      <td>3.0</td>\n",
              "      <td>0</td>\n",
              "      <td>28416.0</td>\n",
              "    </tr>\n",
              "    <tr>\n",
              "      <th>3</th>\n",
              "      <td>395</td>\n",
              "      <td>1</td>\n",
              "      <td>1117.0</td>\n",
              "      <td>0</td>\n",
              "      <td>2.0</td>\n",
              "      <td>0</td>\n",
              "      <td>4.0</td>\n",
              "      <td>1</td>\n",
              "      <td>66.0</td>\n",
              "      <td>3.0</td>\n",
              "      <td>...</td>\n",
              "      <td>4.0</td>\n",
              "      <td>4.0</td>\n",
              "      <td>0.0</td>\n",
              "      <td>5.0</td>\n",
              "      <td>3.0</td>\n",
              "      <td>3.0</td>\n",
              "      <td>5.0</td>\n",
              "      <td>2.0</td>\n",
              "      <td>0</td>\n",
              "      <td>39720.0</td>\n",
              "    </tr>\n",
              "    <tr>\n",
              "      <th>4</th>\n",
              "      <td>53</td>\n",
              "      <td>1</td>\n",
              "      <td>464.0</td>\n",
              "      <td>0</td>\n",
              "      <td>2.0</td>\n",
              "      <td>5</td>\n",
              "      <td>3.0</td>\n",
              "      <td>0</td>\n",
              "      <td>75.0</td>\n",
              "      <td>3.0</td>\n",
              "      <td>...</td>\n",
              "      <td>3.0</td>\n",
              "      <td>3.0</td>\n",
              "      <td>1.0</td>\n",
              "      <td>1.0</td>\n",
              "      <td>3.0</td>\n",
              "      <td>3.0</td>\n",
              "      <td>1.0</td>\n",
              "      <td>0.0</td>\n",
              "      <td>0</td>\n",
              "      <td>23412.0</td>\n",
              "    </tr>\n",
              "  </tbody>\n",
              "</table>\n",
              "<p>5 rows × 29 columns</p>\n",
              "</div>\n",
              "      <button class=\"colab-df-convert\" onclick=\"convertToInteractive('df-224d699d-a7e2-46e8-956b-a0b2b5fdf52f')\"\n",
              "              title=\"Convert this dataframe to an interactive table.\"\n",
              "              style=\"display:none;\">\n",
              "        \n",
              "  <svg xmlns=\"http://www.w3.org/2000/svg\" height=\"24px\"viewBox=\"0 0 24 24\"\n",
              "       width=\"24px\">\n",
              "    <path d=\"M0 0h24v24H0V0z\" fill=\"none\"/>\n",
              "    <path d=\"M18.56 5.44l.94 2.06.94-2.06 2.06-.94-2.06-.94-.94-2.06-.94 2.06-2.06.94zm-11 1L8.5 8.5l.94-2.06 2.06-.94-2.06-.94L8.5 2.5l-.94 2.06-2.06.94zm10 10l.94 2.06.94-2.06 2.06-.94-2.06-.94-.94-2.06-.94 2.06-2.06.94z\"/><path d=\"M17.41 7.96l-1.37-1.37c-.4-.4-.92-.59-1.43-.59-.52 0-1.04.2-1.43.59L10.3 9.45l-7.72 7.72c-.78.78-.78 2.05 0 2.83L4 21.41c.39.39.9.59 1.41.59.51 0 1.02-.2 1.41-.59l7.78-7.78 2.81-2.81c.8-.78.8-2.07 0-2.86zM5.41 20L4 18.59l7.72-7.72 1.47 1.35L5.41 20z\"/>\n",
              "  </svg>\n",
              "      </button>\n",
              "      \n",
              "  <style>\n",
              "    .colab-df-container {\n",
              "      display:flex;\n",
              "      flex-wrap:wrap;\n",
              "      gap: 12px;\n",
              "    }\n",
              "\n",
              "    .colab-df-convert {\n",
              "      background-color: #E8F0FE;\n",
              "      border: none;\n",
              "      border-radius: 50%;\n",
              "      cursor: pointer;\n",
              "      display: none;\n",
              "      fill: #1967D2;\n",
              "      height: 32px;\n",
              "      padding: 0 0 0 0;\n",
              "      width: 32px;\n",
              "    }\n",
              "\n",
              "    .colab-df-convert:hover {\n",
              "      background-color: #E2EBFA;\n",
              "      box-shadow: 0px 1px 2px rgba(60, 64, 67, 0.3), 0px 1px 3px 1px rgba(60, 64, 67, 0.15);\n",
              "      fill: #174EA6;\n",
              "    }\n",
              "\n",
              "    [theme=dark] .colab-df-convert {\n",
              "      background-color: #3B4455;\n",
              "      fill: #D2E3FC;\n",
              "    }\n",
              "\n",
              "    [theme=dark] .colab-df-convert:hover {\n",
              "      background-color: #434B5C;\n",
              "      box-shadow: 0px 1px 3px 1px rgba(0, 0, 0, 0.15);\n",
              "      filter: drop-shadow(0px 1px 2px rgba(0, 0, 0, 0.3));\n",
              "      fill: #FFFFFF;\n",
              "    }\n",
              "  </style>\n",
              "\n",
              "      <script>\n",
              "        const buttonEl =\n",
              "          document.querySelector('#df-224d699d-a7e2-46e8-956b-a0b2b5fdf52f button.colab-df-convert');\n",
              "        buttonEl.style.display =\n",
              "          google.colab.kernel.accessAllowed ? 'block' : 'none';\n",
              "\n",
              "        async function convertToInteractive(key) {\n",
              "          const element = document.querySelector('#df-224d699d-a7e2-46e8-956b-a0b2b5fdf52f');\n",
              "          const dataTable =\n",
              "            await google.colab.kernel.invokeFunction('convertToInteractive',\n",
              "                                                     [key], {});\n",
              "          if (!dataTable) return;\n",
              "\n",
              "          const docLinkHtml = 'Like what you see? Visit the ' +\n",
              "            '<a target=\"_blank\" href=https://colab.research.google.com/notebooks/data_table.ipynb>data table notebook</a>'\n",
              "            + ' to learn more about interactive tables.';\n",
              "          element.innerHTML = '';\n",
              "          dataTable['output_type'] = 'display_data';\n",
              "          await google.colab.output.renderOutput(dataTable, element);\n",
              "          const docLink = document.createElement('div');\n",
              "          docLink.innerHTML = docLinkHtml;\n",
              "          element.appendChild(docLink);\n",
              "        }\n",
              "      </script>\n",
              "    </div>\n",
              "  </div>\n",
              "  "
            ]
          },
          "metadata": {},
          "execution_count": 34
        }
      ],
      "source": [
        "merged.head()"
      ]
    },
    {
      "cell_type": "code",
      "execution_count": 35,
      "metadata": {
        "colab": {
          "base_uri": "https://localhost:8080/"
        },
        "id": "lpEzNo6Ba7Q7",
        "outputId": "b1b8c2c4-1aea-45ac-abaa-7652aa1bfd36"
      },
      "outputs": [
        {
          "output_type": "execute_result",
          "data": {
            "text/plain": [
              "0       0\n",
              "1       0\n",
              "2       0\n",
              "3       0\n",
              "4       0\n",
              "       ..\n",
              "3117    0\n",
              "3118    0\n",
              "3119    1\n",
              "3120    0\n",
              "3121    1\n",
              "Name: Attrition, Length: 3122, dtype: int64"
            ]
          },
          "metadata": {},
          "execution_count": 35
        }
      ],
      "source": [
        "X_test = merged[-400:]\n",
        "X_train = merged[:-400]\n",
        "\n",
        "y_test = X_test[\"Attrition\"]\n",
        "y_train = X_train[\"Attrition\"]\n",
        "\n",
        "X_test.pop(\"Attrition\")\n",
        "X_train.pop(\"Attrition\")"
      ]
    },
    {
      "cell_type": "code",
      "execution_count": 36,
      "metadata": {
        "colab": {
          "base_uri": "https://localhost:8080/"
        },
        "id": "NUPl_Z9Ba7M1",
        "outputId": "cc072fb9-338b-4235-cc55-a017f9dfddd0"
      },
      "outputs": [
        {
          "output_type": "stream",
          "name": "stderr",
          "text": [
            "/usr/local/lib/python3.8/dist-packages/pandas/core/frame.py:4906: SettingWithCopyWarning: \n",
            "A value is trying to be set on a copy of a slice from a DataFrame\n",
            "\n",
            "See the caveats in the documentation: https://pandas.pydata.org/pandas-docs/stable/user_guide/indexing.html#returning-a-view-versus-a-copy\n",
            "  return super().drop(\n"
          ]
        },
        {
          "output_type": "execute_result",
          "data": {
            "text/plain": [
              "DecisionTreeClassifier()"
            ]
          },
          "metadata": {},
          "execution_count": 36
        }
      ],
      "source": [
        "clf = DecisionTreeClassifier()\n",
        "\n",
        "\n",
        "if 'EmployeeNumber' in X_train.columns:\n",
        "    X_train.drop(\"EmployeeNumber\", axis=1, inplace=True)\n",
        "\n",
        "if 'EmployeeNumber' in X_test.columns:\n",
        "    X_test.drop(\"EmployeeNumber\", axis=1, inplace=True)\n",
        "\n",
        "clf.fit(X_train, y_train)"
      ]
    },
    {
      "cell_type": "code",
      "execution_count": 37,
      "metadata": {
        "id": "QKV4-HVAa7G-"
      },
      "outputs": [],
      "source": [
        "tree = DecisionTreeClassifier()\n",
        "\n",
        "if 'EmployeeNumber' in X_train.columns:\n",
        "    X_train.drop(\"EmployeeNumber\", axis=1, inplace=True)\n",
        "\n",
        "if 'EmployeeNumber' in X_test.columns:\n",
        "    X_test.drop(\"EmployeeNumber\", axis=1, inplace=True)\n",
        "\n",
        "tree.fit(X_train, y_train)\n",
        "y_tree = tree.predict(X_test)"
      ]
    },
    {
      "cell_type": "code",
      "execution_count": 38,
      "metadata": {
        "colab": {
          "base_uri": "https://localhost:8080/",
          "height": 471
        },
        "id": "achccCeYa7AH",
        "outputId": "30c9771a-7550-4710-c7d9-74bf32b94db5"
      },
      "outputs": [
        {
          "output_type": "stream",
          "name": "stdout",
          "text": [
            "Results for Decision Tree\n",
            "----\n",
            "  Accuracy:  0.3975\n",
            "  Precision: 0.49835149370753085\n",
            "  Recall:    0.498849736281001\n",
            "  F1 score:  0.3850118978507314\n",
            "  Mislabeled 241 out of 400\n",
            "\n",
            "\n"
          ]
        },
        {
          "output_type": "execute_result",
          "data": {
            "text/plain": [
              "<matplotlib.axes._subplots.AxesSubplot at 0x7fca378f4af0>"
            ]
          },
          "metadata": {},
          "execution_count": 38
        },
        {
          "output_type": "display_data",
          "data": {
            "text/plain": [
              "<Figure size 432x288 with 2 Axes>"
            ],
            "image/png": "[encoded data removed]"
          },
          "metadata": {
            "needs_background": "light"
          }
        }
      ],
      "source": [
        "print_results(calculate_metrics(y_test.values, y_tree), 'Decision Tree')\n",
        "cm = confusion_matrix(y_test, y_tree)\n",
        "plot_confusion_matrix(cm, [\"Yes\", \"No\"])"
      ]
    },
    {
      "cell_type": "code",
      "execution_count": 39,
      "metadata": {
        "colab": {
          "base_uri": "https://localhost:8080/",
          "height": 113
        },
        "id": "W1kWXH8va63l",
        "outputId": "8a512fb6-6003-43cf-8e53-f375ed2fede2"
      },
      "outputs": [
        {
          "output_type": "execute_result",
          "data": {
            "text/plain": [
              "Empty DataFrame\n",
              "Columns: [EmployeeNumber, OverTime, PercentSalaryHike, PerformanceRating, RelationshipSatisfaction, StockOptionLevel, TotalWorkingYears, TrainingTimesLastYear, WorkLifeBalance, YearsAtCompany, YearsWithCurrManager, Attrition, YearlyIncome]\n",
              "Index: []"
            ],
            "text/html": [
              "\n",
              "  <div id=\"df-b600056c-cd3f-4a6d-a7c0-b4daf5f047e9\">\n",
              "    <div class=\"colab-df-container\">\n",
              "      <div>\n",
              "<style scoped>\n",
              "    .dataframe tbody tr th:only-of-type {\n",
              "        vertical-align: middle;\n",
              "    }\n",
              "\n",
              "    .dataframe tbody tr th {\n",
              "        vertical-align: top;\n",
              "    }\n",
              "\n",
              "    .dataframe thead th {\n",
              "        text-align: right;\n",
              "    }\n",
              "</style>\n",
              "<table border=\"1\" class=\"dataframe\">\n",
              "  <thead>\n",
              "    <tr style=\"text-align: right;\">\n",
              "      <th></th>\n",
              "      <th>EmployeeNumber</th>\n",
              "      <th>OverTime</th>\n",
              "      <th>PercentSalaryHike</th>\n",
              "      <th>PerformanceRating</th>\n",
              "      <th>RelationshipSatisfaction</th>\n",
              "      <th>StockOptionLevel</th>\n",
              "      <th>TotalWorkingYears</th>\n",
              "      <th>TrainingTimesLastYear</th>\n",
              "      <th>WorkLifeBalance</th>\n",
              "      <th>YearsAtCompany</th>\n",
              "      <th>YearsWithCurrManager</th>\n",
              "      <th>Attrition</th>\n",
              "      <th>YearlyIncome</th>\n",
              "    </tr>\n",
              "  </thead>\n",
              "  <tbody>\n",
              "  </tbody>\n",
              "</table>\n",
              "</div>\n",
              "      <button class=\"colab-df-convert\" onclick=\"convertToInteractive('df-b600056c-cd3f-4a6d-a7c0-b4daf5f047e9')\"\n",
              "              title=\"Convert this dataframe to an interactive table.\"\n",
              "              style=\"display:none;\">\n",
              "        \n",
              "  <svg xmlns=\"http://www.w3.org/2000/svg\" height=\"24px\"viewBox=\"0 0 24 24\"\n",
              "       width=\"24px\">\n",
              "    <path d=\"M0 0h24v24H0V0z\" fill=\"none\"/>\n",
              "    <path d=\"M18.56 5.44l.94 2.06.94-2.06 2.06-.94-2.06-.94-.94-2.06-.94 2.06-2.06.94zm-11 1L8.5 8.5l.94-2.06 2.06-.94-2.06-.94L8.5 2.5l-.94 2.06-2.06.94zm10 10l.94 2.06.94-2.06 2.06-.94-2.06-.94-.94-2.06-.94 2.06-2.06.94z\"/><path d=\"M17.41 7.96l-1.37-1.37c-.4-.4-.92-.59-1.43-.59-.52 0-1.04.2-1.43.59L10.3 9.45l-7.72 7.72c-.78.78-.78 2.05 0 2.83L4 21.41c.39.39.9.59 1.41.59.51 0 1.02-.2 1.41-.59l7.78-7.78 2.81-2.81c.8-.78.8-2.07 0-2.86zM5.41 20L4 18.59l7.72-7.72 1.47 1.35L5.41 20z\"/>\n",
              "  </svg>\n",
              "      </button>\n",
              "      \n",
              "  <style>\n",
              "    .colab-df-container {\n",
              "      display:flex;\n",
              "      flex-wrap:wrap;\n",
              "      gap: 12px;\n",
              "    }\n",
              "\n",
              "    .colab-df-convert {\n",
              "      background-color: #E8F0FE;\n",
              "      border: none;\n",
              "      border-radius: 50%;\n",
              "      cursor: pointer;\n",
              "      display: none;\n",
              "      fill: #1967D2;\n",
              "      height: 32px;\n",
              "      padding: 0 0 0 0;\n",
              "      width: 32px;\n",
              "    }\n",
              "\n",
              "    .colab-df-convert:hover {\n",
              "      background-color: #E2EBFA;\n",
              "      box-shadow: 0px 1px 2px rgba(60, 64, 67, 0.3), 0px 1px 3px 1px rgba(60, 64, 67, 0.15);\n",
              "      fill: #174EA6;\n",
              "    }\n",
              "\n",
              "    [theme=dark] .colab-df-convert {\n",
              "      background-color: #3B4455;\n",
              "      fill: #D2E3FC;\n",
              "    }\n",
              "\n",
              "    [theme=dark] .colab-df-convert:hover {\n",
              "      background-color: #434B5C;\n",
              "      box-shadow: 0px 1px 3px 1px rgba(0, 0, 0, 0.15);\n",
              "      filter: drop-shadow(0px 1px 2px rgba(0, 0, 0, 0.3));\n",
              "      fill: #FFFFFF;\n",
              "    }\n",
              "  </style>\n",
              "\n",
              "      <script>\n",
              "        const buttonEl =\n",
              "          document.querySelector('#df-b600056c-cd3f-4a6d-a7c0-b4daf5f047e9 button.colab-df-convert');\n",
              "        buttonEl.style.display =\n",
              "          google.colab.kernel.accessAllowed ? 'block' : 'none';\n",
              "\n",
              "        async function convertToInteractive(key) {\n",
              "          const element = document.querySelector('#df-b600056c-cd3f-4a6d-a7c0-b4daf5f047e9');\n",
              "          const dataTable =\n",
              "            await google.colab.kernel.invokeFunction('convertToInteractive',\n",
              "                                                     [key], {});\n",
              "          if (!dataTable) return;\n",
              "\n",
              "          const docLinkHtml = 'Like what you see? Visit the ' +\n",
              "            '<a target=\"_blank\" href=https://colab.research.google.com/notebooks/data_table.ipynb>data table notebook</a>'\n",
              "            + ' to learn more about interactive tables.';\n",
              "          element.innerHTML = '';\n",
              "          dataTable['output_type'] = 'display_data';\n",
              "          await google.colab.output.renderOutput(dataTable, element);\n",
              "          const docLink = document.createElement('div');\n",
              "          docLink.innerHTML = docLinkHtml;\n",
              "          element.appendChild(docLink);\n",
              "        }\n",
              "      </script>\n",
              "    </div>\n",
              "  </div>\n",
              "  "
            ]
          },
          "metadata": {},
          "execution_count": 39
        }
      ],
      "source": [
        "df2 = df2[df2['YearsWithCurrManager'] > 40]\n",
        "df2"
      ]
    }
  ],
  "metadata": {
    "colab": {
      "provenance": []
    },
    "kernelspec": {
      "display_name": "Python 3 (ipykernel)",
      "language": "python",
      "name": "python3"
    },
    "language_info": {
      "codemirror_mode": {
        "name": "ipython",
        "version": 3
      },
      "file_extension": ".py",
      "mimetype": "text/x-python",
      "name": "python",
      "nbconvert_exporter": "python",
      "pygments_lexer": "ipython3",
      "version": "3.10.4"
    }
  },
  "nbformat": 4,
  "nbformat_minor": 0
}