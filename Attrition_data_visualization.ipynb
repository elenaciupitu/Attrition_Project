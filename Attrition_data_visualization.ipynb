{
  "cells": [
    {
      "cell_type": "markdown",
      "id": "00c87155",
      "metadata": {
        "id": "00c87155"
      },
      "source": [
        "### Import libraries"
      ]
    },
    {
      "cell_type": "code",
      "execution_count": 1,
      "id": "a81b92dd",
      "metadata": {
        "id": "a81b92dd"
      },
      "outputs": [],
      "source": [
        "import pandas as pd\n",
        "import matplotlib.pyplot as plt\n",
        "%matplotlib inline\n",
        "import numpy as np\n",
        "import seaborn as sns\n",
        "from sklearn.ensemble import BaggingClassifier\n",
        "from sklearn.naive_bayes import GaussianNB\n",
        "from sklearn.svm import SVC\n",
        "from sklearn.tree import DecisionTreeClassifier\n",
        "from sklearn.preprocessing import Normalizer, StandardScaler\n",
        "from sklearn.metrics import accuracy_score, precision_score, recall_score, f1_score, confusion_matrix\n",
        "from sklearn.model_selection import train_test_split\n",
        "from sklearn.ensemble import BaggingClassifier\n",
        "from sklearn.tree import DecisionTreeClassifier\n",
        "from sklearn.linear_model import LinearRegression\n",
        "from sklearn.preprocessing import PolynomialFeatures\n",
        "from IPython.display import display\n",
        "pd.plotting.register_matplotlib_converters()\n",
        "from pandas.plotting import register_matplotlib_converters"
      ]
    },
    {
      "cell_type": "markdown",
      "id": "fac56be9",
      "metadata": {
        "id": "fac56be9"
      },
      "source": [
        "### Read dataset"
      ]
    },
    {
      "cell_type": "code",
      "execution_count": 2,
      "id": "7282a4e0",
      "metadata": {
        "id": "7282a4e0"
      },
      "outputs": [],
      "source": [
        "df1 = pd.read_csv(\"./df1.csv\")\n",
        "df2 = pd.read_csv(\"./df2.csv\")\n",
        "attrition = pd.read_csv(\"./attrition.csv\")"
      ]
    },
    {
      "cell_type": "markdown",
      "id": "1c4215f2",
      "metadata": {
        "id": "1c4215f2"
      },
      "source": [
        "### Data preprocessing"
      ]
    },
    {
      "cell_type": "code",
      "execution_count": 3,
      "id": "430de45a",
      "metadata": {
        "id": "430de45a"
      },
      "outputs": [],
      "source": [
        "indexes_df2 =  df2.loc[pd.isna(df2.Attrition) == True, \"EmployeeNumber\"]\n",
        "indexes_attrition = attrition.loc[pd.isna(attrition.Attrition) == True, \"EmployeeNumber\"]"
      ]
    },
    {
      "cell_type": "code",
      "execution_count": 4,
      "id": "157eb3c8",
      "metadata": {
        "id": "157eb3c8"
      },
      "outputs": [],
      "source": [
        "df2.dropna(inplace=True)\n",
        "df1 = df1[df1[\"EmployeeNumber\"].isin(indexes_df2) == False]"
      ]
    },
    {
      "cell_type": "code",
      "execution_count": 5,
      "id": "5beb96a3",
      "metadata": {
        "id": "5beb96a3"
      },
      "outputs": [],
      "source": [
        "#Drop columns that are constant or irrelevant."
      ]
    },
    {
      "cell_type": "code",
      "execution_count": 6,
      "id": "bc02b6ae",
      "metadata": {
        "id": "bc02b6ae"
      },
      "outputs": [],
      "source": [
        "df1.drop(['EmployeeCount'], axis=1, inplace=True)\n",
        "df2.drop(['Over18', 'StandardHours'], axis=1, inplace=True)"
      ]
    },
    {
      "cell_type": "markdown",
      "id": "cd3620e4",
      "metadata": {
        "id": "cd3620e4"
      },
      "source": [
        "##### Examine columns"
      ]
    },
    {
      "cell_type": "code",
      "execution_count": 7,
      "id": "8baba8f6",
      "metadata": {
        "id": "8baba8f6",
        "outputId": "1f75601f-ef04-40d6-bad8-7caeb64e4221",
        "colab": {
          "base_uri": "https://localhost:8080/"
        }
      },
      "outputs": [
        {
          "output_type": "stream",
          "name": "stdout",
          "text": [
            "<class 'pandas.core.frame.DataFrame'>\n",
            "Int64Index: 4302 entries, 0 to 4448\n",
            "Data columns (total 19 columns):\n",
            " #   Column                   Non-Null Count  Dtype  \n",
            "---  ------                   --------------  -----  \n",
            " 0   EmployeeNumber           4302 non-null   int64  \n",
            " 1   Age                      4302 non-null   float64\n",
            " 2   BusinessTravel           4302 non-null   object \n",
            " 3   DailyRate                4302 non-null   float64\n",
            " 4   Department               4302 non-null   object \n",
            " 5   DistanceFromHome         4302 non-null   float64\n",
            " 6   Education                4302 non-null   float64\n",
            " 7   EducationField           4302 non-null   object \n",
            " 8   EnvironmentSatisfaction  4302 non-null   float64\n",
            " 9   Gender                   4302 non-null   object \n",
            " 10  HourlyRate               4302 non-null   float64\n",
            " 11  JobInvolvement           4302 non-null   float64\n",
            " 12  JobLevel                 4302 non-null   float64\n",
            " 13  JobRole                  4302 non-null   object \n",
            " 14  JobSatisfaction          4302 non-null   float64\n",
            " 15  MaritalStatus            4302 non-null   object \n",
            " 16  MonthlyIncome            4302 non-null   float64\n",
            " 17  MonthlyRate              4302 non-null   float64\n",
            " 18  NumCompaniesWorked       4302 non-null   float64\n",
            "dtypes: float64(12), int64(1), object(6)\n",
            "memory usage: 672.2+ KB\n"
          ]
        }
      ],
      "source": [
        "df1.info()"
      ]
    },
    {
      "cell_type": "code",
      "execution_count": 8,
      "id": "a876f6ee",
      "metadata": {
        "id": "a876f6ee",
        "outputId": "fdd3e9d6-386c-430e-eb36-7bf565feb86f",
        "colab": {
          "base_uri": "https://localhost:8080/"
        }
      },
      "outputs": [
        {
          "output_type": "stream",
          "name": "stdout",
          "text": [
            "<class 'pandas.core.frame.DataFrame'>\n",
            "Int64Index: 4302 entries, 0 to 4448\n",
            "Data columns (total 15 columns):\n",
            " #   Column                    Non-Null Count  Dtype  \n",
            "---  ------                    --------------  -----  \n",
            " 0   EmployeeNumber            4302 non-null   int64  \n",
            " 1   OverTime                  4302 non-null   object \n",
            " 2   PercentSalaryHike         4302 non-null   float64\n",
            " 3   PerformanceRating         4302 non-null   float64\n",
            " 4   RelationshipSatisfaction  4302 non-null   float64\n",
            " 5   StockOptionLevel          4302 non-null   float64\n",
            " 6   TotalWorkingYears         4302 non-null   float64\n",
            " 7   TrainingTimesLastYear     4302 non-null   float64\n",
            " 8   WorkLifeBalance           4302 non-null   float64\n",
            " 9   YearsAtCompany            4302 non-null   float64\n",
            " 10  YearsInCurrentRole        4302 non-null   float64\n",
            " 11  YearsSinceLastPromotion   4302 non-null   float64\n",
            " 12  YearsWithCurrManager      4302 non-null   float64\n",
            " 13  Attrition                 4302 non-null   object \n",
            " 14  YearlyIncome              4302 non-null   float64\n",
            "dtypes: float64(12), int64(1), object(2)\n",
            "memory usage: 537.8+ KB\n"
          ]
        }
      ],
      "source": [
        "df2.info()"
      ]
    },
    {
      "cell_type": "code",
      "execution_count": 9,
      "id": "1d8eab3c",
      "metadata": {
        "id": "1d8eab3c",
        "outputId": "5a5755ea-a81d-4c23-d042-78d1038f1f35",
        "colab": {
          "base_uri": "https://localhost:8080/",
          "height": 457
        }
      },
      "outputs": [
        {
          "output_type": "execute_result",
          "data": {
            "text/plain": [
              "                          count          mean            std     min      25%  \\\n",
              "EmployeeNumber           4302.0   4809.243143    2643.040205     1.0  1680.25   \n",
              "Age                      4302.0    429.123199    1591.153416    18.0    31.00   \n",
              "DailyRate                4302.0    800.843794     405.655763   102.0   457.00   \n",
              "DistanceFromHome         4302.0  34478.313343  147682.315767     1.0     2.00   \n",
              "Education                4302.0      2.906788       1.026460     1.0     2.00   \n",
              "EnvironmentSatisfaction  4302.0      2.719665       1.092333     1.0     2.00   \n",
              "HourlyRate               4302.0     66.036495      20.298352    30.0    48.00   \n",
              "JobInvolvement           4302.0      2.741516       0.711379     1.0     2.00   \n",
              "JobLevel                 4302.0      2.051604       1.102569     1.0     1.00   \n",
              "JobSatisfaction          4302.0      2.722920       1.106692     1.0     2.00   \n",
              "MonthlyIncome            4302.0   6453.266853    4672.993959  1009.0  2897.00   \n",
              "MonthlyRate              4302.0  14266.381450    7154.584275  2094.0  7910.25   \n",
              "NumCompaniesWorked       4302.0      2.677359       2.490632     0.0     1.00   \n",
              "\n",
              "                             50%       75%       max  \n",
              "EmployeeNumber            5828.5   6903.75    7979.0  \n",
              "Age                         36.0     45.00    9890.0  \n",
              "DailyRate                  804.0   1162.00    1499.0  \n",
              "DistanceFromHome             8.0     17.00  999590.0  \n",
              "Education                    3.0      4.00       5.0  \n",
              "EnvironmentSatisfaction      3.0      4.00       4.0  \n",
              "HourlyRate                  66.0     84.00     100.0  \n",
              "JobInvolvement               3.0      3.00       4.0  \n",
              "JobLevel                     2.0      3.00       5.0  \n",
              "JobSatisfaction              3.0      4.00       4.0  \n",
              "MonthlyIncome             4876.0   8307.75   19999.0  \n",
              "MonthlyRate              14174.0  20471.00   26999.0  \n",
              "NumCompaniesWorked           2.0      4.00       9.0  "
            ],
            "text/html": [
              "\n",
              "  <div id=\"df-640ad6a9-dec4-4b42-b04e-075946ee36f6\">\n",
              "    <div class=\"colab-df-container\">\n",
              "      <div>\n",
              "<style scoped>\n",
              "    .dataframe tbody tr th:only-of-type {\n",
              "        vertical-align: middle;\n",
              "    }\n",
              "\n",
              "    .dataframe tbody tr th {\n",
              "        vertical-align: top;\n",
              "    }\n",
              "\n",
              "    .dataframe thead th {\n",
              "        text-align: right;\n",
              "    }\n",
              "</style>\n",
              "<table border=\"1\" class=\"dataframe\">\n",
              "  <thead>\n",
              "    <tr style=\"text-align: right;\">\n",
              "      <th></th>\n",
              "      <th>count</th>\n",
              "      <th>mean</th>\n",
              "      <th>std</th>\n",
              "      <th>min</th>\n",
              "      <th>25%</th>\n",
              "      <th>50%</th>\n",
              "      <th>75%</th>\n",
              "      <th>max</th>\n",
              "    </tr>\n",
              "  </thead>\n",
              "  <tbody>\n",
              "    <tr>\n",
              "      <th>EmployeeNumber</th>\n",
              "      <td>4302.0</td>\n",
              "      <td>4809.243143</td>\n",
              "      <td>2643.040205</td>\n",
              "      <td>1.0</td>\n",
              "      <td>1680.25</td>\n",
              "      <td>5828.5</td>\n",
              "      <td>6903.75</td>\n",
              "      <td>7979.0</td>\n",
              "    </tr>\n",
              "    <tr>\n",
              "      <th>Age</th>\n",
              "      <td>4302.0</td>\n",
              "      <td>429.123199</td>\n",
              "      <td>1591.153416</td>\n",
              "      <td>18.0</td>\n",
              "      <td>31.00</td>\n",
              "      <td>36.0</td>\n",
              "      <td>45.00</td>\n",
              "      <td>9890.0</td>\n",
              "    </tr>\n",
              "    <tr>\n",
              "      <th>DailyRate</th>\n",
              "      <td>4302.0</td>\n",
              "      <td>800.843794</td>\n",
              "      <td>405.655763</td>\n",
              "      <td>102.0</td>\n",
              "      <td>457.00</td>\n",
              "      <td>804.0</td>\n",
              "      <td>1162.00</td>\n",
              "      <td>1499.0</td>\n",
              "    </tr>\n",
              "    <tr>\n",
              "      <th>DistanceFromHome</th>\n",
              "      <td>4302.0</td>\n",
              "      <td>34478.313343</td>\n",
              "      <td>147682.315767</td>\n",
              "      <td>1.0</td>\n",
              "      <td>2.00</td>\n",
              "      <td>8.0</td>\n",
              "      <td>17.00</td>\n",
              "      <td>999590.0</td>\n",
              "    </tr>\n",
              "    <tr>\n",
              "      <th>Education</th>\n",
              "      <td>4302.0</td>\n",
              "      <td>2.906788</td>\n",
              "      <td>1.026460</td>\n",
              "      <td>1.0</td>\n",
              "      <td>2.00</td>\n",
              "      <td>3.0</td>\n",
              "      <td>4.00</td>\n",
              "      <td>5.0</td>\n",
              "    </tr>\n",
              "    <tr>\n",
              "      <th>EnvironmentSatisfaction</th>\n",
              "      <td>4302.0</td>\n",
              "      <td>2.719665</td>\n",
              "      <td>1.092333</td>\n",
              "      <td>1.0</td>\n",
              "      <td>2.00</td>\n",
              "      <td>3.0</td>\n",
              "      <td>4.00</td>\n",
              "      <td>4.0</td>\n",
              "    </tr>\n",
              "    <tr>\n",
              "      <th>HourlyRate</th>\n",
              "      <td>4302.0</td>\n",
              "      <td>66.036495</td>\n",
              "      <td>20.298352</td>\n",
              "      <td>30.0</td>\n",
              "      <td>48.00</td>\n",
              "      <td>66.0</td>\n",
              "      <td>84.00</td>\n",
              "      <td>100.0</td>\n",
              "    </tr>\n",
              "    <tr>\n",
              "      <th>JobInvolvement</th>\n",
              "      <td>4302.0</td>\n",
              "      <td>2.741516</td>\n",
              "      <td>0.711379</td>\n",
              "      <td>1.0</td>\n",
              "      <td>2.00</td>\n",
              "      <td>3.0</td>\n",
              "      <td>3.00</td>\n",
              "      <td>4.0</td>\n",
              "    </tr>\n",
              "    <tr>\n",
              "      <th>JobLevel</th>\n",
              "      <td>4302.0</td>\n",
              "      <td>2.051604</td>\n",
              "      <td>1.102569</td>\n",
              "      <td>1.0</td>\n",
              "      <td>1.00</td>\n",
              "      <td>2.0</td>\n",
              "      <td>3.00</td>\n",
              "      <td>5.0</td>\n",
              "    </tr>\n",
              "    <tr>\n",
              "      <th>JobSatisfaction</th>\n",
              "      <td>4302.0</td>\n",
              "      <td>2.722920</td>\n",
              "      <td>1.106692</td>\n",
              "      <td>1.0</td>\n",
              "      <td>2.00</td>\n",
              "      <td>3.0</td>\n",
              "      <td>4.00</td>\n",
              "      <td>4.0</td>\n",
              "    </tr>\n",
              "    <tr>\n",
              "      <th>MonthlyIncome</th>\n",
              "      <td>4302.0</td>\n",
              "      <td>6453.266853</td>\n",
              "      <td>4672.993959</td>\n",
              "      <td>1009.0</td>\n",
              "      <td>2897.00</td>\n",
              "      <td>4876.0</td>\n",
              "      <td>8307.75</td>\n",
              "      <td>19999.0</td>\n",
              "    </tr>\n",
              "    <tr>\n",
              "      <th>MonthlyRate</th>\n",
              "      <td>4302.0</td>\n",
              "      <td>14266.381450</td>\n",
              "      <td>7154.584275</td>\n",
              "      <td>2094.0</td>\n",
              "      <td>7910.25</td>\n",
              "      <td>14174.0</td>\n",
              "      <td>20471.00</td>\n",
              "      <td>26999.0</td>\n",
              "    </tr>\n",
              "    <tr>\n",
              "      <th>NumCompaniesWorked</th>\n",
              "      <td>4302.0</td>\n",
              "      <td>2.677359</td>\n",
              "      <td>2.490632</td>\n",
              "      <td>0.0</td>\n",
              "      <td>1.00</td>\n",
              "      <td>2.0</td>\n",
              "      <td>4.00</td>\n",
              "      <td>9.0</td>\n",
              "    </tr>\n",
              "  </tbody>\n",
              "</table>\n",
              "</div>\n",
              "      <button class=\"colab-df-convert\" onclick=\"convertToInteractive('df-640ad6a9-dec4-4b42-b04e-075946ee36f6')\"\n",
              "              title=\"Convert this dataframe to an interactive table.\"\n",
              "              style=\"display:none;\">\n",
              "        \n",
              "  <svg xmlns=\"http://www.w3.org/2000/svg\" height=\"24px\"viewBox=\"0 0 24 24\"\n",
              "       width=\"24px\">\n",
              "    <path d=\"M0 0h24v24H0V0z\" fill=\"none\"/>\n",
              "    <path d=\"M18.56 5.44l.94 2.06.94-2.06 2.06-.94-2.06-.94-.94-2.06-.94 2.06-2.06.94zm-11 1L8.5 8.5l.94-2.06 2.06-.94-2.06-.94L8.5 2.5l-.94 2.06-2.06.94zm10 10l.94 2.06.94-2.06 2.06-.94-2.06-.94-.94-2.06-.94 2.06-2.06.94z\"/><path d=\"M17.41 7.96l-1.37-1.37c-.4-.4-.92-.59-1.43-.59-.52 0-1.04.2-1.43.59L10.3 9.45l-7.72 7.72c-.78.78-.78 2.05 0 2.83L4 21.41c.39.39.9.59 1.41.59.51 0 1.02-.2 1.41-.59l7.78-7.78 2.81-2.81c.8-.78.8-2.07 0-2.86zM5.41 20L4 18.59l7.72-7.72 1.47 1.35L5.41 20z\"/>\n",
              "  </svg>\n",
              "      </button>\n",
              "      \n",
              "  <style>\n",
              "    .colab-df-container {\n",
              "      display:flex;\n",
              "      flex-wrap:wrap;\n",
              "      gap: 12px;\n",
              "    }\n",
              "\n",
              "    .colab-df-convert {\n",
              "      background-color: #E8F0FE;\n",
              "      border: none;\n",
              "      border-radius: 50%;\n",
              "      cursor: pointer;\n",
              "      display: none;\n",
              "      fill: #1967D2;\n",
              "      height: 32px;\n",
              "      padding: 0 0 0 0;\n",
              "      width: 32px;\n",
              "    }\n",
              "\n",
              "    .colab-df-convert:hover {\n",
              "      background-color: #E2EBFA;\n",
              "      box-shadow: 0px 1px 2px rgba(60, 64, 67, 0.3), 0px 1px 3px 1px rgba(60, 64, 67, 0.15);\n",
              "      fill: #174EA6;\n",
              "    }\n",
              "\n",
              "    [theme=dark] .colab-df-convert {\n",
              "      background-color: #3B4455;\n",
              "      fill: #D2E3FC;\n",
              "    }\n",
              "\n",
              "    [theme=dark] .colab-df-convert:hover {\n",
              "      background-color: #434B5C;\n",
              "      box-shadow: 0px 1px 3px 1px rgba(0, 0, 0, 0.15);\n",
              "      filter: drop-shadow(0px 1px 2px rgba(0, 0, 0, 0.3));\n",
              "      fill: #FFFFFF;\n",
              "    }\n",
              "  </style>\n",
              "\n",
              "      <script>\n",
              "        const buttonEl =\n",
              "          document.querySelector('#df-640ad6a9-dec4-4b42-b04e-075946ee36f6 button.colab-df-convert');\n",
              "        buttonEl.style.display =\n",
              "          google.colab.kernel.accessAllowed ? 'block' : 'none';\n",
              "\n",
              "        async function convertToInteractive(key) {\n",
              "          const element = document.querySelector('#df-640ad6a9-dec4-4b42-b04e-075946ee36f6');\n",
              "          const dataTable =\n",
              "            await google.colab.kernel.invokeFunction('convertToInteractive',\n",
              "                                                     [key], {});\n",
              "          if (!dataTable) return;\n",
              "\n",
              "          const docLinkHtml = 'Like what you see? Visit the ' +\n",
              "            '<a target=\"_blank\" href=https://colab.research.google.com/notebooks/data_table.ipynb>data table notebook</a>'\n",
              "            + ' to learn more about interactive tables.';\n",
              "          element.innerHTML = '';\n",
              "          dataTable['output_type'] = 'display_data';\n",
              "          await google.colab.output.renderOutput(dataTable, element);\n",
              "          const docLink = document.createElement('div');\n",
              "          docLink.innerHTML = docLinkHtml;\n",
              "          element.appendChild(docLink);\n",
              "        }\n",
              "      </script>\n",
              "    </div>\n",
              "  </div>\n",
              "  "
            ]
          },
          "metadata": {},
          "execution_count": 9
        }
      ],
      "source": [
        "df1.describe().T"
      ]
    },
    {
      "cell_type": "code",
      "execution_count": 10,
      "id": "f56a90d1",
      "metadata": {
        "scrolled": false,
        "id": "f56a90d1",
        "outputId": "70d1345b-c983-4d7d-c328-d964654aea2b",
        "colab": {
          "base_uri": "https://localhost:8080/",
          "height": 457
        }
      },
      "outputs": [
        {
          "output_type": "execute_result",
          "data": {
            "text/plain": [
              "                           count          mean           std      min  \\\n",
              "EmployeeNumber            4302.0   4809.243143   2643.040205      1.0   \n",
              "PercentSalaryHike         4302.0     15.164110      3.624112     11.0   \n",
              "PerformanceRating         4302.0      3.146444      0.353591      3.0   \n",
              "RelationshipSatisfaction  4302.0      2.725709      1.079747      1.0   \n",
              "StockOptionLevel          4302.0      0.787773      0.849147      0.0   \n",
              "TotalWorkingYears         4302.0    354.004649   1508.016854      0.0   \n",
              "TrainingTimesLastYear     4302.0      2.803347      1.302586      0.0   \n",
              "WorkLifeBalance           4302.0      2.765923      0.708878      1.0   \n",
              "YearsAtCompany            4302.0    312.854719   1373.999529      0.0   \n",
              "YearsInCurrentRole        4302.0    367.109484   1480.107024      0.0   \n",
              "YearsSinceLastPromotion   4302.0    399.000930   1597.939659      0.0   \n",
              "YearsWithCurrManager      4302.0    334.767550   1431.991884      0.0   \n",
              "YearlyIncome              4302.0  77439.202232  56075.927510  12108.0   \n",
              "\n",
              "                               25%      50%       75%       max  \n",
              "EmployeeNumber             1680.25   5828.5   6903.75    7979.0  \n",
              "PercentSalaryHike            12.00     14.0     18.00      25.0  \n",
              "PerformanceRating             3.00      3.0      3.00       4.0  \n",
              "RelationshipSatisfaction      2.00      3.0      4.00       4.0  \n",
              "StockOptionLevel              0.00      1.0      1.00       3.0  \n",
              "TotalWorkingYears             6.00     10.0     17.00    9939.0  \n",
              "TrainingTimesLastYear         2.00      3.0      3.00       6.0  \n",
              "WorkLifeBalance               2.00      3.0      3.00       4.0  \n",
              "YearsAtCompany                3.00      5.0     10.00    9984.0  \n",
              "YearsInCurrentRole            2.00      3.0      7.00    9937.0  \n",
              "YearsSinceLastPromotion       0.00      1.0      4.00    9990.0  \n",
              "YearsWithCurrManager          2.00      3.0      7.00    9882.0  \n",
              "YearlyIncome              34764.00  58512.0  99693.00  239988.0  "
            ],
            "text/html": [
              "\n",
              "  <div id=\"df-23a9152d-33e3-4682-b6da-6b8920237c5a\">\n",
              "    <div class=\"colab-df-container\">\n",
              "      <div>\n",
              "<style scoped>\n",
              "    .dataframe tbody tr th:only-of-type {\n",
              "        vertical-align: middle;\n",
              "    }\n",
              "\n",
              "    .dataframe tbody tr th {\n",
              "        vertical-align: top;\n",
              "    }\n",
              "\n",
              "    .dataframe thead th {\n",
              "        text-align: right;\n",
              "    }\n",
              "</style>\n",
              "<table border=\"1\" class=\"dataframe\">\n",
              "  <thead>\n",
              "    <tr style=\"text-align: right;\">\n",
              "      <th></th>\n",
              "      <th>count</th>\n",
              "      <th>mean</th>\n",
              "      <th>std</th>\n",
              "      <th>min</th>\n",
              "      <th>25%</th>\n",
              "      <th>50%</th>\n",
              "      <th>75%</th>\n",
              "      <th>max</th>\n",
              "    </tr>\n",
              "  </thead>\n",
              "  <tbody>\n",
              "    <tr>\n",
              "      <th>EmployeeNumber</th>\n",
              "      <td>4302.0</td>\n",
              "      <td>4809.243143</td>\n",
              "      <td>2643.040205</td>\n",
              "      <td>1.0</td>\n",
              "      <td>1680.25</td>\n",
              "      <td>5828.5</td>\n",
              "      <td>6903.75</td>\n",
              "      <td>7979.0</td>\n",
              "    </tr>\n",
              "    <tr>\n",
              "      <th>PercentSalaryHike</th>\n",
              "      <td>4302.0</td>\n",
              "      <td>15.164110</td>\n",
              "      <td>3.624112</td>\n",
              "      <td>11.0</td>\n",
              "      <td>12.00</td>\n",
              "      <td>14.0</td>\n",
              "      <td>18.00</td>\n",
              "      <td>25.0</td>\n",
              "    </tr>\n",
              "    <tr>\n",
              "      <th>PerformanceRating</th>\n",
              "      <td>4302.0</td>\n",
              "      <td>3.146444</td>\n",
              "      <td>0.353591</td>\n",
              "      <td>3.0</td>\n",
              "      <td>3.00</td>\n",
              "      <td>3.0</td>\n",
              "      <td>3.00</td>\n",
              "      <td>4.0</td>\n",
              "    </tr>\n",
              "    <tr>\n",
              "      <th>RelationshipSatisfaction</th>\n",
              "      <td>4302.0</td>\n",
              "      <td>2.725709</td>\n",
              "      <td>1.079747</td>\n",
              "      <td>1.0</td>\n",
              "      <td>2.00</td>\n",
              "      <td>3.0</td>\n",
              "      <td>4.00</td>\n",
              "      <td>4.0</td>\n",
              "    </tr>\n",
              "    <tr>\n",
              "      <th>StockOptionLevel</th>\n",
              "      <td>4302.0</td>\n",
              "      <td>0.787773</td>\n",
              "      <td>0.849147</td>\n",
              "      <td>0.0</td>\n",
              "      <td>0.00</td>\n",
              "      <td>1.0</td>\n",
              "      <td>1.00</td>\n",
              "      <td>3.0</td>\n",
              "    </tr>\n",
              "    <tr>\n",
              "      <th>TotalWorkingYears</th>\n",
              "      <td>4302.0</td>\n",
              "      <td>354.004649</td>\n",
              "      <td>1508.016854</td>\n",
              "      <td>0.0</td>\n",
              "      <td>6.00</td>\n",
              "      <td>10.0</td>\n",
              "      <td>17.00</td>\n",
              "      <td>9939.0</td>\n",
              "    </tr>\n",
              "    <tr>\n",
              "      <th>TrainingTimesLastYear</th>\n",
              "      <td>4302.0</td>\n",
              "      <td>2.803347</td>\n",
              "      <td>1.302586</td>\n",
              "      <td>0.0</td>\n",
              "      <td>2.00</td>\n",
              "      <td>3.0</td>\n",
              "      <td>3.00</td>\n",
              "      <td>6.0</td>\n",
              "    </tr>\n",
              "    <tr>\n",
              "      <th>WorkLifeBalance</th>\n",
              "      <td>4302.0</td>\n",
              "      <td>2.765923</td>\n",
              "      <td>0.708878</td>\n",
              "      <td>1.0</td>\n",
              "      <td>2.00</td>\n",
              "      <td>3.0</td>\n",
              "      <td>3.00</td>\n",
              "      <td>4.0</td>\n",
              "    </tr>\n",
              "    <tr>\n",
              "      <th>YearsAtCompany</th>\n",
              "      <td>4302.0</td>\n",
              "      <td>312.854719</td>\n",
              "      <td>1373.999529</td>\n",
              "      <td>0.0</td>\n",
              "      <td>3.00</td>\n",
              "      <td>5.0</td>\n",
              "      <td>10.00</td>\n",
              "      <td>9984.0</td>\n",
              "    </tr>\n",
              "    <tr>\n",
              "      <th>YearsInCurrentRole</th>\n",
              "      <td>4302.0</td>\n",
              "      <td>367.109484</td>\n",
              "      <td>1480.107024</td>\n",
              "      <td>0.0</td>\n",
              "      <td>2.00</td>\n",
              "      <td>3.0</td>\n",
              "      <td>7.00</td>\n",
              "      <td>9937.0</td>\n",
              "    </tr>\n",
              "    <tr>\n",
              "      <th>YearsSinceLastPromotion</th>\n",
              "      <td>4302.0</td>\n",
              "      <td>399.000930</td>\n",
              "      <td>1597.939659</td>\n",
              "      <td>0.0</td>\n",
              "      <td>0.00</td>\n",
              "      <td>1.0</td>\n",
              "      <td>4.00</td>\n",
              "      <td>9990.0</td>\n",
              "    </tr>\n",
              "    <tr>\n",
              "      <th>YearsWithCurrManager</th>\n",
              "      <td>4302.0</td>\n",
              "      <td>334.767550</td>\n",
              "      <td>1431.991884</td>\n",
              "      <td>0.0</td>\n",
              "      <td>2.00</td>\n",
              "      <td>3.0</td>\n",
              "      <td>7.00</td>\n",
              "      <td>9882.0</td>\n",
              "    </tr>\n",
              "    <tr>\n",
              "      <th>YearlyIncome</th>\n",
              "      <td>4302.0</td>\n",
              "      <td>77439.202232</td>\n",
              "      <td>56075.927510</td>\n",
              "      <td>12108.0</td>\n",
              "      <td>34764.00</td>\n",
              "      <td>58512.0</td>\n",
              "      <td>99693.00</td>\n",
              "      <td>239988.0</td>\n",
              "    </tr>\n",
              "  </tbody>\n",
              "</table>\n",
              "</div>\n",
              "      <button class=\"colab-df-convert\" onclick=\"convertToInteractive('df-23a9152d-33e3-4682-b6da-6b8920237c5a')\"\n",
              "              title=\"Convert this dataframe to an interactive table.\"\n",
              "              style=\"display:none;\">\n",
              "        \n",
              "  <svg xmlns=\"http://www.w3.org/2000/svg\" height=\"24px\"viewBox=\"0 0 24 24\"\n",
              "       width=\"24px\">\n",
              "    <path d=\"M0 0h24v24H0V0z\" fill=\"none\"/>\n",
              "    <path d=\"M18.56 5.44l.94 2.06.94-2.06 2.06-.94-2.06-.94-.94-2.06-.94 2.06-2.06.94zm-11 1L8.5 8.5l.94-2.06 2.06-.94-2.06-.94L8.5 2.5l-.94 2.06-2.06.94zm10 10l.94 2.06.94-2.06 2.06-.94-2.06-.94-.94-2.06-.94 2.06-2.06.94z\"/><path d=\"M17.41 7.96l-1.37-1.37c-.4-.4-.92-.59-1.43-.59-.52 0-1.04.2-1.43.59L10.3 9.45l-7.72 7.72c-.78.78-.78 2.05 0 2.83L4 21.41c.39.39.9.59 1.41.59.51 0 1.02-.2 1.41-.59l7.78-7.78 2.81-2.81c.8-.78.8-2.07 0-2.86zM5.41 20L4 18.59l7.72-7.72 1.47 1.35L5.41 20z\"/>\n",
              "  </svg>\n",
              "      </button>\n",
              "      \n",
              "  <style>\n",
              "    .colab-df-container {\n",
              "      display:flex;\n",
              "      flex-wrap:wrap;\n",
              "      gap: 12px;\n",
              "    }\n",
              "\n",
              "    .colab-df-convert {\n",
              "      background-color: #E8F0FE;\n",
              "      border: none;\n",
              "      border-radius: 50%;\n",
              "      cursor: pointer;\n",
              "      display: none;\n",
              "      fill: #1967D2;\n",
              "      height: 32px;\n",
              "      padding: 0 0 0 0;\n",
              "      width: 32px;\n",
              "    }\n",
              "\n",
              "    .colab-df-convert:hover {\n",
              "      background-color: #E2EBFA;\n",
              "      box-shadow: 0px 1px 2px rgba(60, 64, 67, 0.3), 0px 1px 3px 1px rgba(60, 64, 67, 0.15);\n",
              "      fill: #174EA6;\n",
              "    }\n",
              "\n",
              "    [theme=dark] .colab-df-convert {\n",
              "      background-color: #3B4455;\n",
              "      fill: #D2E3FC;\n",
              "    }\n",
              "\n",
              "    [theme=dark] .colab-df-convert:hover {\n",
              "      background-color: #434B5C;\n",
              "      box-shadow: 0px 1px 3px 1px rgba(0, 0, 0, 0.15);\n",
              "      filter: drop-shadow(0px 1px 2px rgba(0, 0, 0, 0.3));\n",
              "      fill: #FFFFFF;\n",
              "    }\n",
              "  </style>\n",
              "\n",
              "      <script>\n",
              "        const buttonEl =\n",
              "          document.querySelector('#df-23a9152d-33e3-4682-b6da-6b8920237c5a button.colab-df-convert');\n",
              "        buttonEl.style.display =\n",
              "          google.colab.kernel.accessAllowed ? 'block' : 'none';\n",
              "\n",
              "        async function convertToInteractive(key) {\n",
              "          const element = document.querySelector('#df-23a9152d-33e3-4682-b6da-6b8920237c5a');\n",
              "          const dataTable =\n",
              "            await google.colab.kernel.invokeFunction('convertToInteractive',\n",
              "                                                     [key], {});\n",
              "          if (!dataTable) return;\n",
              "\n",
              "          const docLinkHtml = 'Like what you see? Visit the ' +\n",
              "            '<a target=\"_blank\" href=https://colab.research.google.com/notebooks/data_table.ipynb>data table notebook</a>'\n",
              "            + ' to learn more about interactive tables.';\n",
              "          element.innerHTML = '';\n",
              "          dataTable['output_type'] = 'display_data';\n",
              "          await google.colab.output.renderOutput(dataTable, element);\n",
              "          const docLink = document.createElement('div');\n",
              "          docLink.innerHTML = docLinkHtml;\n",
              "          element.appendChild(docLink);\n",
              "        }\n",
              "      </script>\n",
              "    </div>\n",
              "  </div>\n",
              "  "
            ]
          },
          "metadata": {},
          "execution_count": 10
        }
      ],
      "source": [
        "df2.describe().T"
      ]
    },
    {
      "cell_type": "markdown",
      "id": "6d2cf0b3",
      "metadata": {
        "id": "6d2cf0b3"
      },
      "source": [
        "### Heatmap"
      ]
    },
    {
      "cell_type": "code",
      "execution_count": 11,
      "id": "560a9475",
      "metadata": {
        "id": "560a9475",
        "outputId": "460ba3bb-a6d5-4eed-fa7a-87997e743015",
        "colab": {
          "base_uri": "https://localhost:8080/",
          "height": 399
        }
      },
      "outputs": [
        {
          "output_type": "execute_result",
          "data": {
            "text/plain": [
              "<matplotlib.axes._subplots.AxesSubplot at 0x7f26970e6130>"
            ]
          },
          "metadata": {},
          "execution_count": 11
        },
        {
          "output_type": "display_data",
          "data": {
            "text/plain": [
              "<Figure size 432x288 with 2 Axes>"
            ],
            "image/png": "[encoded data removed]"
          },
          "metadata": {
            "needs_background": "light"
          }
        }
      ],
      "source": [
        "corr = df1.corr()\n",
        "\n",
        "sns.heatmap(corr)"
      ]
    },
    {
      "cell_type": "code",
      "execution_count": 12,
      "id": "24c97831",
      "metadata": {
        "id": "24c97831"
      },
      "outputs": [],
      "source": [
        "# From this correlation graph we can observe that is a high correlation between Job level and Monthly income."
      ]
    },
    {
      "cell_type": "markdown",
      "id": "d28d2681",
      "metadata": {
        "id": "d28d2681"
      },
      "source": [
        "### Outliers"
      ]
    },
    {
      "cell_type": "code",
      "execution_count": 13,
      "id": "b3c8cd38",
      "metadata": {
        "id": "b3c8cd38"
      },
      "outputs": [],
      "source": [
        "# Lets plot the outliers in order to see if we have to delete some data that can affect our model "
      ]
    },
    {
      "cell_type": "code",
      "execution_count": 14,
      "id": "84a032c7",
      "metadata": {
        "id": "84a032c7",
        "outputId": "cc37feb4-a5ec-4f9b-e2bf-df3c0e064a0c",
        "colab": {
          "base_uri": "https://localhost:8080/",
          "height": 351
        }
      },
      "outputs": [
        {
          "output_type": "display_data",
          "data": {
            "text/plain": [
              "<Figure size 432x288 with 1 Axes>"
            ],
            "image/png": "[encoded data removed]"
          },
          "metadata": {
            "needs_background": "light"
          }
        }
      ],
      "source": [
        "fig, ax = plt.subplots()\n",
        "ax.boxplot([df2[\"YearsAtCompany\"],\n",
        "            df2[\"YearsWithCurrManager\"],\n",
        "            df2[\"TotalWorkingYears\"],\n",
        "            df2[\"YearsSinceLastPromotion\"],\n",
        "            df2[\"YearsInCurrentRole\"]])\n",
        "ax.set_xticklabels([\"YearsAtCompany\", \"YearsWithCurrManager\", \"TotalWorkingYears\", \n",
        "                    \"YearsSinceLastPromotion\", \"YearsInCurrentRole\"], rotation = 45)\n",
        "ax.set_ylabel(\"Years\")\n",
        "\n",
        "plt.show()"
      ]
    },
    {
      "cell_type": "code",
      "execution_count": 15,
      "id": "8adab8ea",
      "metadata": {
        "id": "8adab8ea"
      },
      "outputs": [],
      "source": [
        "# In df2 I observed that columns \"YearsAtCompany\", \"YearsWithCurrManager\", \"TotalWorkingYears\", \"YearsSinceLastPromotion\",\n",
        "# \"YearsInCurrentRole\" have many outliers with huge values.\n",
        "# Probably that values were registered with another measure unit so I droped that entries."
      ]
    },
    {
      "cell_type": "code",
      "execution_count": 16,
      "id": "02a54087",
      "metadata": {
        "id": "02a54087",
        "outputId": "4483e981-6330-4aed-dbb5-7a5aa00ecb13",
        "colab": {
          "base_uri": "https://localhost:8080/",
          "height": 276
        }
      },
      "outputs": [
        {
          "output_type": "display_data",
          "data": {
            "text/plain": [
              "<Figure size 432x288 with 1 Axes>"
            ],
            "image/png": "[encoded data removed]"
          },
          "metadata": {
            "needs_background": "light"
          }
        }
      ],
      "source": [
        "fig, ax = plt.subplots()\n",
        "ax.boxplot([df1[\"Age\"],\n",
        "            df1[\"DistanceFromHome\"]])\n",
        "ax.set_xticklabels([\"Age\", \"DistanceFromHome\"])\n",
        "ax.set_ylabel(\"Years/ Distance\")\n",
        "\n",
        "plt.show()"
      ]
    },
    {
      "cell_type": "code",
      "execution_count": 17,
      "id": "6bcefa56",
      "metadata": {
        "id": "6bcefa56"
      },
      "outputs": [],
      "source": [
        "# In df1 I observed that columns \"Age\" and \"DistanceFromHome\" have many outliers with huge values.\n",
        "# Probably that values were registered with another measure unit so I droped that entries."
      ]
    },
    {
      "cell_type": "markdown",
      "id": "be981cec",
      "metadata": {
        "id": "be981cec"
      },
      "source": [
        "##### Drop the outliers"
      ]
    },
    {
      "cell_type": "code",
      "execution_count": 18,
      "id": "4ede1570",
      "metadata": {
        "id": "4ede1570"
      },
      "outputs": [],
      "source": [
        "df2 = df2[df2[\"YearsAtCompany\"] < 60]\n",
        "df2 = df2[df2['YearsWithCurrManager'] <= 17]\n",
        "df2 = df2[df2['TotalWorkingYears'] <= 40]\n",
        "df2 = df2[df2['YearsSinceLastPromotion'] <= 40]\n",
        "df2 = df2[df2['YearsInCurrentRole'] <= 40]\n",
        "df1 = df1[df1[\"Age\"] <= 60]\n",
        "df1 = df1[df1[\"DistanceFromHome\"] <= 100]"
      ]
    },
    {
      "cell_type": "code",
      "execution_count": 19,
      "id": "c4f7250a",
      "metadata": {
        "id": "c4f7250a"
      },
      "outputs": [],
      "source": [
        "# Lets plot the outliers after I deleted the huge values"
      ]
    },
    {
      "cell_type": "code",
      "execution_count": 20,
      "id": "33caf6a4",
      "metadata": {
        "scrolled": true,
        "id": "33caf6a4",
        "outputId": "8465880f-0b03-464b-9f29-b26366a59bf0",
        "colab": {
          "base_uri": "https://localhost:8080/",
          "height": 351
        }
      },
      "outputs": [
        {
          "output_type": "display_data",
          "data": {
            "text/plain": [
              "<Figure size 432x288 with 1 Axes>"
            ],
            "image/png": "[encoded data removed]"
          },
          "metadata": {
            "needs_background": "light"
          }
        }
      ],
      "source": [
        "fig, ax = plt.subplots()\n",
        "ax.boxplot([df2[\"YearsAtCompany\"],\n",
        "            df2[\"YearsWithCurrManager\"],\n",
        "            df2[\"TotalWorkingYears\"],\n",
        "            df2[\"YearsSinceLastPromotion\"],\n",
        "            df2[\"YearsInCurrentRole\"]])\n",
        "ax.set_xticklabels([\"YearsAtCompany\", \"YearsWithCurrManager\", \"TotalWorkingYears\", \n",
        "                    \"YearsSinceLastPromotion\", \"YearsInCurrentRole\"], rotation = 45)\n",
        "ax.set_ylabel(\"Years\")\n",
        "\n",
        "plt.show()"
      ]
    },
    {
      "cell_type": "code",
      "execution_count": 21,
      "id": "600e15d4",
      "metadata": {
        "id": "600e15d4",
        "outputId": "04c9f437-fb32-42c4-9a1e-d70fddfd0163",
        "colab": {
          "base_uri": "https://localhost:8080/",
          "height": 265
        }
      },
      "outputs": [
        {
          "output_type": "display_data",
          "data": {
            "text/plain": [
              "<Figure size 432x288 with 1 Axes>"
            ],
            "image/png": "[encoded data removed]"
          },
          "metadata": {
            "needs_background": "light"
          }
        }
      ],
      "source": [
        "fig, ax = plt.subplots()\n",
        "ax.boxplot([df1[\"Age\"],\n",
        "            df1[\"DistanceFromHome\"]])\n",
        "ax.set_xticklabels([\"Age\", \"DistanceFromHome\"])\n",
        "ax.set_ylabel(\"Years/ Distance\")\n",
        "\n",
        "plt.show()"
      ]
    },
    {
      "cell_type": "markdown",
      "id": "e76c8a86",
      "metadata": {
        "id": "e76c8a86"
      },
      "source": [
        "### Categorical columns"
      ]
    },
    {
      "cell_type": "code",
      "execution_count": 22,
      "id": "77bd8c64",
      "metadata": {
        "id": "77bd8c64"
      },
      "outputs": [],
      "source": [
        "# df1['Department'] = df1['Department'].replace({\n",
        "#     'Research & Development': 0, \n",
        "#     'Human Resources': 1, \n",
        "#     'Sales': 2 })\n",
        "\n",
        "# df1['BusinessTravel'] = df1['BusinessTravel'].replace({\n",
        "#     'Non-Travel': 0, \n",
        "#     'Travel_Rarely': 1, \n",
        "#     'Travel_Frequently': 2 })\n",
        "\n",
        "# df1['EducationField'] = df1['EducationField'].replace({\n",
        "#     'Life Sciences': 0, \n",
        "#     'Human Resources': 1,\n",
        "#     'Marketing': 2,\n",
        "#     'Medical': 3,\n",
        "#     'Technical Degree': 4,\n",
        "#     'Other': 5 })\n",
        "\n",
        "# df1['Gender'] = df1['Gender'].apply(lambda x: 1 if x == 'Female' else 0) \n",
        "\n",
        "# df1['MaritalStatus'] = df1['MaritalStatus'].replace({\n",
        "#     'Divorced': 0, \n",
        "#     'Single': 1, \n",
        "#     'Married': 2 })\n",
        "\n",
        "\n",
        "df2['Attrition'] = df2['Attrition'].apply(lambda x: 1 if x == 'Yes' else 0)\n",
        "\n",
        "df2['OverTime'] = df2['OverTime'].apply(lambda x: 1 if x == 'Yes' else 0) "
      ]
    },
    {
      "cell_type": "code",
      "execution_count": 23,
      "id": "1fa2fa1f",
      "metadata": {
        "id": "1fa2fa1f"
      },
      "outputs": [],
      "source": [
        "# df1['JobRole'] = df1['JobRole'].astype('category').cat.codes"
      ]
    },
    {
      "cell_type": "code",
      "execution_count": 24,
      "id": "9c22aee7",
      "metadata": {
        "id": "9c22aee7"
      },
      "outputs": [],
      "source": [
        "attrition['Attrition'] = attrition['Attrition'].apply(lambda x: 1 if x == 'Yes' else 0) "
      ]
    },
    {
      "cell_type": "markdown",
      "id": "82dfd804",
      "metadata": {
        "id": "82dfd804"
      },
      "source": [
        "##### Keeping the same indexes for both dataframes df1 and df2"
      ]
    },
    {
      "cell_type": "code",
      "execution_count": 25,
      "id": "8568810e",
      "metadata": {
        "id": "8568810e"
      },
      "outputs": [],
      "source": [
        "indexes_df1 =  df1[\"EmployeeNumber\"]\n",
        "df2 = df2[df2[\"EmployeeNumber\"].isin(indexes_df1) == True]\n",
        "indexes_df2_all = df2[\"EmployeeNumber\"]\n",
        "df1 = df1[df1[\"EmployeeNumber\"].isin(indexes_df2_all) == True]\n",
        "\n",
        "\n",
        "concat = pd.concat([df1, df2], axis=1, join=\"inner\") # face acelasi lucru ca mai sus"
      ]
    },
    {
      "cell_type": "markdown",
      "id": "59dd9ce8",
      "metadata": {
        "id": "59dd9ce8"
      },
      "source": [
        "### Study of attrition means"
      ]
    },
    {
      "cell_type": "code",
      "execution_count": 26,
      "id": "38acfe51",
      "metadata": {
        "id": "38acfe51"
      },
      "outputs": [],
      "source": [
        "# We are going to separate the workers into two dataframes according to Attrition and compare their averages"
      ]
    },
    {
      "cell_type": "code",
      "execution_count": 27,
      "id": "bdca159a",
      "metadata": {
        "id": "bdca159a"
      },
      "outputs": [],
      "source": [
        "attrition_yes = concat.loc[concat[\"Attrition\"] == 1]\n",
        "attrition_no = concat.loc[concat[\"Attrition\"] == 0]"
      ]
    },
    {
      "cell_type": "code",
      "execution_count": null,
      "id": "9c6bfff9",
      "metadata": {
        "id": "9c6bfff9"
      },
      "outputs": [],
      "source": [
        "attrition_yes.shape\n",
        "attrition_no.shape"
      ]
    },
    {
      "cell_type": "code",
      "execution_count": 29,
      "id": "138062fe",
      "metadata": {
        "scrolled": false,
        "id": "138062fe",
        "colab": {
          "base_uri": "https://localhost:8080/",
          "height": 927
        },
        "outputId": "0e2437b8-3695-4d4d-e84f-19c6ebeea7af"
      },
      "outputs": [
        {
          "output_type": "execute_result",
          "data": {
            "text/plain": [
              "                           count          mean           std      min  \\\n",
              "EmployeeNumber            2351.0   3399.864313   2787.632321      1.0   \n",
              "Age                       2351.0     36.967248      9.108810     18.0   \n",
              "DailyRate                 2351.0    799.252233    400.960014    102.0   \n",
              "DistanceFromHome          2351.0      9.253509      8.137460      1.0   \n",
              "Education                 2351.0      2.915355      1.026491      1.0   \n",
              "EnvironmentSatisfaction   2351.0      2.713313      1.083488      1.0   \n",
              "HourlyRate                2351.0     66.503615     20.121564     30.0   \n",
              "JobInvolvement            2351.0      2.751595      0.701042      1.0   \n",
              "JobLevel                  2351.0      2.073586      1.106320      1.0   \n",
              "JobSatisfaction           2351.0      2.720119      1.092691      1.0   \n",
              "MonthlyIncome             2351.0   6541.506168   4727.405739   1009.0   \n",
              "MonthlyRate               2351.0  14289.114845   7052.760571   2094.0   \n",
              "NumCompaniesWorked        2351.0      2.673330      2.507615      0.0   \n",
              "EmployeeNumber            2351.0   3399.864313   2787.632321      1.0   \n",
              "OverTime                  2351.0      0.273501      0.445850      0.0   \n",
              "PercentSalaryHike         2351.0     15.146321      3.578521     11.0   \n",
              "PerformanceRating         2351.0      3.145045      0.352221      3.0   \n",
              "RelationshipSatisfaction  2351.0      2.759677      1.077273      1.0   \n",
              "StockOptionLevel          2351.0      0.769885      0.828869      0.0   \n",
              "TotalWorkingYears         2351.0     11.349213      7.872394      0.0   \n",
              "TrainingTimesLastYear     2351.0      2.765632      1.313411      0.0   \n",
              "WorkLifeBalance           2351.0      2.777116      0.707771      1.0   \n",
              "YearsAtCompany            2351.0      7.143769      6.293915      0.0   \n",
              "YearsInCurrentRole        2351.0      4.238622      3.644356      0.0   \n",
              "YearsSinceLastPromotion   2351.0      2.149298      3.212648      0.0   \n",
              "YearsWithCurrManager      2351.0      4.222884      3.650894      0.0   \n",
              "Attrition                 2351.0      0.384517      0.486584      0.0   \n",
              "YearlyIncome              2351.0  78498.074011  56728.868863  12108.0   \n",
              "\n",
              "                              25%      50%       75%       max  \n",
              "EmployeeNumber              909.5   1830.0    6226.5    7963.0  \n",
              "Age                          30.0     36.0      43.0      60.0  \n",
              "DailyRate                   461.5    802.0    1153.5    1498.0  \n",
              "DistanceFromHome              2.0      7.0      14.0      29.0  \n",
              "Education                     2.0      3.0       4.0       5.0  \n",
              "EnvironmentSatisfaction       2.0      3.0       4.0       4.0  \n",
              "HourlyRate                   49.0     67.0      84.0     100.0  \n",
              "JobInvolvement                2.0      3.0       3.0       4.0  \n",
              "JobLevel                      1.0      2.0       3.0       5.0  \n",
              "JobSatisfaction               2.0      3.0       4.0       4.0  \n",
              "MonthlyIncome              2932.0   4968.0    8487.0   19999.0  \n",
              "MonthlyRate                8192.0  14199.0   20351.0   26999.0  \n",
              "NumCompaniesWorked            1.0      2.0       4.0       9.0  \n",
              "EmployeeNumber              909.5   1830.0    6226.5    7963.0  \n",
              "OverTime                      0.0      0.0       1.0       1.0  \n",
              "PercentSalaryHike            12.0     14.0      18.0      25.0  \n",
              "PerformanceRating             3.0      3.0       3.0       4.0  \n",
              "RelationshipSatisfaction      2.0      3.0       4.0       4.0  \n",
              "StockOptionLevel              0.0      1.0       1.0       3.0  \n",
              "TotalWorkingYears             6.0     10.0      15.0      40.0  \n",
              "TrainingTimesLastYear         2.0      3.0       3.0       6.0  \n",
              "WorkLifeBalance               2.0      3.0       3.0       4.0  \n",
              "YearsAtCompany                3.0      5.0      10.0      40.0  \n",
              "YearsInCurrentRole            2.0      3.0       7.0      18.0  \n",
              "YearsSinceLastPromotion       0.0      1.0       2.0      15.0  \n",
              "YearsWithCurrManager          2.0      3.0       7.0      17.0  \n",
              "Attrition                     0.0      0.0       1.0       1.0  \n",
              "YearlyIncome              35184.0  59616.0  101844.0  239988.0  "
            ],
            "text/html": [
              "\n",
              "  <div id=\"df-6da9a6b2-11dd-4a94-ad41-b2fc1e0b373a\">\n",
              "    <div class=\"colab-df-container\">\n",
              "      <div>\n",
              "<style scoped>\n",
              "    .dataframe tbody tr th:only-of-type {\n",
              "        vertical-align: middle;\n",
              "    }\n",
              "\n",
              "    .dataframe tbody tr th {\n",
              "        vertical-align: top;\n",
              "    }\n",
              "\n",
              "    .dataframe thead th {\n",
              "        text-align: right;\n",
              "    }\n",
              "</style>\n",
              "<table border=\"1\" class=\"dataframe\">\n",
              "  <thead>\n",
              "    <tr style=\"text-align: right;\">\n",
              "      <th></th>\n",
              "      <th>count</th>\n",
              "      <th>mean</th>\n",
              "      <th>std</th>\n",
              "      <th>min</th>\n",
              "      <th>25%</th>\n",
              "      <th>50%</th>\n",
              "      <th>75%</th>\n",
              "      <th>max</th>\n",
              "    </tr>\n",
              "  </thead>\n",
              "  <tbody>\n",
              "    <tr>\n",
              "      <th>EmployeeNumber</th>\n",
              "      <td>2351.0</td>\n",
              "      <td>3399.864313</td>\n",
              "      <td>2787.632321</td>\n",
              "      <td>1.0</td>\n",
              "      <td>909.5</td>\n",
              "      <td>1830.0</td>\n",
              "      <td>6226.5</td>\n",
              "      <td>7963.0</td>\n",
              "    </tr>\n",
              "    <tr>\n",
              "      <th>Age</th>\n",
              "      <td>2351.0</td>\n",
              "      <td>36.967248</td>\n",
              "      <td>9.108810</td>\n",
              "      <td>18.0</td>\n",
              "      <td>30.0</td>\n",
              "      <td>36.0</td>\n",
              "      <td>43.0</td>\n",
              "      <td>60.0</td>\n",
              "    </tr>\n",
              "    <tr>\n",
              "      <th>DailyRate</th>\n",
              "      <td>2351.0</td>\n",
              "      <td>799.252233</td>\n",
              "      <td>400.960014</td>\n",
              "      <td>102.0</td>\n",
              "      <td>461.5</td>\n",
              "      <td>802.0</td>\n",
              "      <td>1153.5</td>\n",
              "      <td>1498.0</td>\n",
              "    </tr>\n",
              "    <tr>\n",
              "      <th>DistanceFromHome</th>\n",
              "      <td>2351.0</td>\n",
              "      <td>9.253509</td>\n",
              "      <td>8.137460</td>\n",
              "      <td>1.0</td>\n",
              "      <td>2.0</td>\n",
              "      <td>7.0</td>\n",
              "      <td>14.0</td>\n",
              "      <td>29.0</td>\n",
              "    </tr>\n",
              "    <tr>\n",
              "      <th>Education</th>\n",
              "      <td>2351.0</td>\n",
              "      <td>2.915355</td>\n",
              "      <td>1.026491</td>\n",
              "      <td>1.0</td>\n",
              "      <td>2.0</td>\n",
              "      <td>3.0</td>\n",
              "      <td>4.0</td>\n",
              "      <td>5.0</td>\n",
              "    </tr>\n",
              "    <tr>\n",
              "      <th>EnvironmentSatisfaction</th>\n",
              "      <td>2351.0</td>\n",
              "      <td>2.713313</td>\n",
              "      <td>1.083488</td>\n",
              "      <td>1.0</td>\n",
              "      <td>2.0</td>\n",
              "      <td>3.0</td>\n",
              "      <td>4.0</td>\n",
              "      <td>4.0</td>\n",
              "    </tr>\n",
              "    <tr>\n",
              "      <th>HourlyRate</th>\n",
              "      <td>2351.0</td>\n",
              "      <td>66.503615</td>\n",
              "      <td>20.121564</td>\n",
              "      <td>30.0</td>\n",
              "      <td>49.0</td>\n",
              "      <td>67.0</td>\n",
              "      <td>84.0</td>\n",
              "      <td>100.0</td>\n",
              "    </tr>\n",
              "    <tr>\n",
              "      <th>JobInvolvement</th>\n",
              "      <td>2351.0</td>\n",
              "      <td>2.751595</td>\n",
              "      <td>0.701042</td>\n",
              "      <td>1.0</td>\n",
              "      <td>2.0</td>\n",
              "      <td>3.0</td>\n",
              "      <td>3.0</td>\n",
              "      <td>4.0</td>\n",
              "    </tr>\n",
              "    <tr>\n",
              "      <th>JobLevel</th>\n",
              "      <td>2351.0</td>\n",
              "      <td>2.073586</td>\n",
              "      <td>1.106320</td>\n",
              "      <td>1.0</td>\n",
              "      <td>1.0</td>\n",
              "      <td>2.0</td>\n",
              "      <td>3.0</td>\n",
              "      <td>5.0</td>\n",
              "    </tr>\n",
              "    <tr>\n",
              "      <th>JobSatisfaction</th>\n",
              "      <td>2351.0</td>\n",
              "      <td>2.720119</td>\n",
              "      <td>1.092691</td>\n",
              "      <td>1.0</td>\n",
              "      <td>2.0</td>\n",
              "      <td>3.0</td>\n",
              "      <td>4.0</td>\n",
              "      <td>4.0</td>\n",
              "    </tr>\n",
              "    <tr>\n",
              "      <th>MonthlyIncome</th>\n",
              "      <td>2351.0</td>\n",
              "      <td>6541.506168</td>\n",
              "      <td>4727.405739</td>\n",
              "      <td>1009.0</td>\n",
              "      <td>2932.0</td>\n",
              "      <td>4968.0</td>\n",
              "      <td>8487.0</td>\n",
              "      <td>19999.0</td>\n",
              "    </tr>\n",
              "    <tr>\n",
              "      <th>MonthlyRate</th>\n",
              "      <td>2351.0</td>\n",
              "      <td>14289.114845</td>\n",
              "      <td>7052.760571</td>\n",
              "      <td>2094.0</td>\n",
              "      <td>8192.0</td>\n",
              "      <td>14199.0</td>\n",
              "      <td>20351.0</td>\n",
              "      <td>26999.0</td>\n",
              "    </tr>\n",
              "    <tr>\n",
              "      <th>NumCompaniesWorked</th>\n",
              "      <td>2351.0</td>\n",
              "      <td>2.673330</td>\n",
              "      <td>2.507615</td>\n",
              "      <td>0.0</td>\n",
              "      <td>1.0</td>\n",
              "      <td>2.0</td>\n",
              "      <td>4.0</td>\n",
              "      <td>9.0</td>\n",
              "    </tr>\n",
              "    <tr>\n",
              "      <th>EmployeeNumber</th>\n",
              "      <td>2351.0</td>\n",
              "      <td>3399.864313</td>\n",
              "      <td>2787.632321</td>\n",
              "      <td>1.0</td>\n",
              "      <td>909.5</td>\n",
              "      <td>1830.0</td>\n",
              "      <td>6226.5</td>\n",
              "      <td>7963.0</td>\n",
              "    </tr>\n",
              "    <tr>\n",
              "      <th>OverTime</th>\n",
              "      <td>2351.0</td>\n",
              "      <td>0.273501</td>\n",
              "      <td>0.445850</td>\n",
              "      <td>0.0</td>\n",
              "      <td>0.0</td>\n",
              "      <td>0.0</td>\n",
              "      <td>1.0</td>\n",
              "      <td>1.0</td>\n",
              "    </tr>\n",
              "    <tr>\n",
              "      <th>PercentSalaryHike</th>\n",
              "      <td>2351.0</td>\n",
              "      <td>15.146321</td>\n",
              "      <td>3.578521</td>\n",
              "      <td>11.0</td>\n",
              "      <td>12.0</td>\n",
              "      <td>14.0</td>\n",
              "      <td>18.0</td>\n",
              "      <td>25.0</td>\n",
              "    </tr>\n",
              "    <tr>\n",
              "      <th>PerformanceRating</th>\n",
              "      <td>2351.0</td>\n",
              "      <td>3.145045</td>\n",
              "      <td>0.352221</td>\n",
              "      <td>3.0</td>\n",
              "      <td>3.0</td>\n",
              "      <td>3.0</td>\n",
              "      <td>3.0</td>\n",
              "      <td>4.0</td>\n",
              "    </tr>\n",
              "    <tr>\n",
              "      <th>RelationshipSatisfaction</th>\n",
              "      <td>2351.0</td>\n",
              "      <td>2.759677</td>\n",
              "      <td>1.077273</td>\n",
              "      <td>1.0</td>\n",
              "      <td>2.0</td>\n",
              "      <td>3.0</td>\n",
              "      <td>4.0</td>\n",
              "      <td>4.0</td>\n",
              "    </tr>\n",
              "    <tr>\n",
              "      <th>StockOptionLevel</th>\n",
              "      <td>2351.0</td>\n",
              "      <td>0.769885</td>\n",
              "      <td>0.828869</td>\n",
              "      <td>0.0</td>\n",
              "      <td>0.0</td>\n",
              "      <td>1.0</td>\n",
              "      <td>1.0</td>\n",
              "      <td>3.0</td>\n",
              "    </tr>\n",
              "    <tr>\n",
              "      <th>TotalWorkingYears</th>\n",
              "      <td>2351.0</td>\n",
              "      <td>11.349213</td>\n",
              "      <td>7.872394</td>\n",
              "      <td>0.0</td>\n",
              "      <td>6.0</td>\n",
              "      <td>10.0</td>\n",
              "      <td>15.0</td>\n",
              "      <td>40.0</td>\n",
              "    </tr>\n",
              "    <tr>\n",
              "      <th>TrainingTimesLastYear</th>\n",
              "      <td>2351.0</td>\n",
              "      <td>2.765632</td>\n",
              "      <td>1.313411</td>\n",
              "      <td>0.0</td>\n",
              "      <td>2.0</td>\n",
              "      <td>3.0</td>\n",
              "      <td>3.0</td>\n",
              "      <td>6.0</td>\n",
              "    </tr>\n",
              "    <tr>\n",
              "      <th>WorkLifeBalance</th>\n",
              "      <td>2351.0</td>\n",
              "      <td>2.777116</td>\n",
              "      <td>0.707771</td>\n",
              "      <td>1.0</td>\n",
              "      <td>2.0</td>\n",
              "      <td>3.0</td>\n",
              "      <td>3.0</td>\n",
              "      <td>4.0</td>\n",
              "    </tr>\n",
              "    <tr>\n",
              "      <th>YearsAtCompany</th>\n",
              "      <td>2351.0</td>\n",
              "      <td>7.143769</td>\n",
              "      <td>6.293915</td>\n",
              "      <td>0.0</td>\n",
              "      <td>3.0</td>\n",
              "      <td>5.0</td>\n",
              "      <td>10.0</td>\n",
              "      <td>40.0</td>\n",
              "    </tr>\n",
              "    <tr>\n",
              "      <th>YearsInCurrentRole</th>\n",
              "      <td>2351.0</td>\n",
              "      <td>4.238622</td>\n",
              "      <td>3.644356</td>\n",
              "      <td>0.0</td>\n",
              "      <td>2.0</td>\n",
              "      <td>3.0</td>\n",
              "      <td>7.0</td>\n",
              "      <td>18.0</td>\n",
              "    </tr>\n",
              "    <tr>\n",
              "      <th>YearsSinceLastPromotion</th>\n",
              "      <td>2351.0</td>\n",
              "      <td>2.149298</td>\n",
              "      <td>3.212648</td>\n",
              "      <td>0.0</td>\n",
              "      <td>0.0</td>\n",
              "      <td>1.0</td>\n",
              "      <td>2.0</td>\n",
              "      <td>15.0</td>\n",
              "    </tr>\n",
              "    <tr>\n",
              "      <th>YearsWithCurrManager</th>\n",
              "      <td>2351.0</td>\n",
              "      <td>4.222884</td>\n",
              "      <td>3.650894</td>\n",
              "      <td>0.0</td>\n",
              "      <td>2.0</td>\n",
              "      <td>3.0</td>\n",
              "      <td>7.0</td>\n",
              "      <td>17.0</td>\n",
              "    </tr>\n",
              "    <tr>\n",
              "      <th>Attrition</th>\n",
              "      <td>2351.0</td>\n",
              "      <td>0.384517</td>\n",
              "      <td>0.486584</td>\n",
              "      <td>0.0</td>\n",
              "      <td>0.0</td>\n",
              "      <td>0.0</td>\n",
              "      <td>1.0</td>\n",
              "      <td>1.0</td>\n",
              "    </tr>\n",
              "    <tr>\n",
              "      <th>YearlyIncome</th>\n",
              "      <td>2351.0</td>\n",
              "      <td>78498.074011</td>\n",
              "      <td>56728.868863</td>\n",
              "      <td>12108.0</td>\n",
              "      <td>35184.0</td>\n",
              "      <td>59616.0</td>\n",
              "      <td>101844.0</td>\n",
              "      <td>239988.0</td>\n",
              "    </tr>\n",
              "  </tbody>\n",
              "</table>\n",
              "</div>\n",
              "      <button class=\"colab-df-convert\" onclick=\"convertToInteractive('df-6da9a6b2-11dd-4a94-ad41-b2fc1e0b373a')\"\n",
              "              title=\"Convert this dataframe to an interactive table.\"\n",
              "              style=\"display:none;\">\n",
              "        \n",
              "  <svg xmlns=\"http://www.w3.org/2000/svg\" height=\"24px\"viewBox=\"0 0 24 24\"\n",
              "       width=\"24px\">\n",
              "    <path d=\"M0 0h24v24H0V0z\" fill=\"none\"/>\n",
              "    <path d=\"M18.56 5.44l.94 2.06.94-2.06 2.06-.94-2.06-.94-.94-2.06-.94 2.06-2.06.94zm-11 1L8.5 8.5l.94-2.06 2.06-.94-2.06-.94L8.5 2.5l-.94 2.06-2.06.94zm10 10l.94 2.06.94-2.06 2.06-.94-2.06-.94-.94-2.06-.94 2.06-2.06.94z\"/><path d=\"M17.41 7.96l-1.37-1.37c-.4-.4-.92-.59-1.43-.59-.52 0-1.04.2-1.43.59L10.3 9.45l-7.72 7.72c-.78.78-.78 2.05 0 2.83L4 21.41c.39.39.9.59 1.41.59.51 0 1.02-.2 1.41-.59l7.78-7.78 2.81-2.81c.8-.78.8-2.07 0-2.86zM5.41 20L4 18.59l7.72-7.72 1.47 1.35L5.41 20z\"/>\n",
              "  </svg>\n",
              "      </button>\n",
              "      \n",
              "  <style>\n",
              "    .colab-df-container {\n",
              "      display:flex;\n",
              "      flex-wrap:wrap;\n",
              "      gap: 12px;\n",
              "    }\n",
              "\n",
              "    .colab-df-convert {\n",
              "      background-color: #E8F0FE;\n",
              "      border: none;\n",
              "      border-radius: 50%;\n",
              "      cursor: pointer;\n",
              "      display: none;\n",
              "      fill: #1967D2;\n",
              "      height: 32px;\n",
              "      padding: 0 0 0 0;\n",
              "      width: 32px;\n",
              "    }\n",
              "\n",
              "    .colab-df-convert:hover {\n",
              "      background-color: #E2EBFA;\n",
              "      box-shadow: 0px 1px 2px rgba(60, 64, 67, 0.3), 0px 1px 3px 1px rgba(60, 64, 67, 0.15);\n",
              "      fill: #174EA6;\n",
              "    }\n",
              "\n",
              "    [theme=dark] .colab-df-convert {\n",
              "      background-color: #3B4455;\n",
              "      fill: #D2E3FC;\n",
              "    }\n",
              "\n",
              "    [theme=dark] .colab-df-convert:hover {\n",
              "      background-color: #434B5C;\n",
              "      box-shadow: 0px 1px 3px 1px rgba(0, 0, 0, 0.15);\n",
              "      filter: drop-shadow(0px 1px 2px rgba(0, 0, 0, 0.3));\n",
              "      fill: #FFFFFF;\n",
              "    }\n",
              "  </style>\n",
              "\n",
              "      <script>\n",
              "        const buttonEl =\n",
              "          document.querySelector('#df-6da9a6b2-11dd-4a94-ad41-b2fc1e0b373a button.colab-df-convert');\n",
              "        buttonEl.style.display =\n",
              "          google.colab.kernel.accessAllowed ? 'block' : 'none';\n",
              "\n",
              "        async function convertToInteractive(key) {\n",
              "          const element = document.querySelector('#df-6da9a6b2-11dd-4a94-ad41-b2fc1e0b373a');\n",
              "          const dataTable =\n",
              "            await google.colab.kernel.invokeFunction('convertToInteractive',\n",
              "                                                     [key], {});\n",
              "          if (!dataTable) return;\n",
              "\n",
              "          const docLinkHtml = 'Like what you see? Visit the ' +\n",
              "            '<a target=\"_blank\" href=https://colab.research.google.com/notebooks/data_table.ipynb>data table notebook</a>'\n",
              "            + ' to learn more about interactive tables.';\n",
              "          element.innerHTML = '';\n",
              "          dataTable['output_type'] = 'display_data';\n",
              "          await google.colab.output.renderOutput(dataTable, element);\n",
              "          const docLink = document.createElement('div');\n",
              "          docLink.innerHTML = docLinkHtml;\n",
              "          element.appendChild(docLink);\n",
              "        }\n",
              "      </script>\n",
              "    </div>\n",
              "  </div>\n",
              "  "
            ]
          },
          "metadata": {},
          "execution_count": 29
        }
      ],
      "source": [
        "concat.describe().T"
      ]
    },
    {
      "cell_type": "markdown",
      "id": "cb25f4ed",
      "metadata": {
        "id": "cb25f4ed"
      },
      "source": [
        "* The average age is 36 years old. There are very young people with 18 years (young trainees or interns) and people with 60 years (managers with many years of work).\n",
        "* There are people working very close to work and others are almost an hour's drive away.\n",
        "* Most of the employees are highly educated and have bachelor or master degree.\n",
        "* The mean salary is 6542 USD. The lowest earners reach 1000 USD and the highest earners almost 20.000 USD.\n",
        "* There are employees who have been working for almost 40 years and others who have just started. The average is 7 years of experience.\n"
      ]
    },
    {
      "cell_type": "code",
      "execution_count": 30,
      "id": "19fca8ee",
      "metadata": {
        "scrolled": false,
        "id": "19fca8ee",
        "colab": {
          "base_uri": "https://localhost:8080/",
          "height": 982
        },
        "outputId": "92083f3f-3f08-4e29-e4cb-d00a43ec566e"
      },
      "outputs": [
        {
          "output_type": "stream",
          "name": "stderr",
          "text": [
            "<ipython-input-30-9078678ec535>:2: FutureWarning: Dropping of nuisance columns in DataFrame reductions (with 'numeric_only=None') is deprecated; in a future version this will raise TypeError.  Select only valid columns before calling the reduction.\n",
            "  df_mean_attrition = pd.concat((attrition_yes.mean(), attrition_no.mean()), axis=1)\n"
          ]
        },
        {
          "output_type": "execute_result",
          "data": {
            "text/plain": [
              "                               Yes        No\n",
              "EmployeeNumber             5153.16   2304.51\n",
              "Age                          36.28     37.40\n",
              "DailyRate                   788.06    806.24\n",
              "DistanceFromHome              9.40      9.16\n",
              "Education                     2.89      2.93\n",
              "EnvironmentSatisfaction       2.65      2.75\n",
              "HourlyRate                   66.83     66.30\n",
              "JobInvolvement                2.72      2.77\n",
              "JobLevel                      2.01      2.12\n",
              "JobSatisfaction               2.62      2.78\n",
              "MonthlyIncome              6296.31   6694.69\n",
              "MonthlyRate               14297.73  14283.73\n",
              "NumCompaniesWorked            2.71      2.65\n",
              "EmployeeNumber             5153.16   2304.51\n",
              "OverTime                      0.34      0.23\n",
              "PercentSalaryHike            15.15     15.14\n",
              "PerformanceRating             3.14      3.15\n",
              "RelationshipSatisfaction      2.75      2.77\n",
              "StockOptionLevel              0.69      0.82\n",
              "TotalWorkingYears            10.77     11.71\n",
              "TrainingTimesLastYear         2.74      2.78\n",
              "WorkLifeBalance               2.77      2.78\n",
              "YearsAtCompany                6.92      7.29\n",
              "YearsInCurrentRole            4.03      4.37\n",
              "YearsSinceLastPromotion       2.11      2.17\n",
              "YearsWithCurrManager          4.07      4.32\n",
              "Attrition                     1.00      0.00\n",
              "YearlyIncome              75555.68  80336.31"
            ],
            "text/html": [
              "\n",
              "  <div id=\"df-560f6a5b-7732-45f7-8117-736fbec9cc44\">\n",
              "    <div class=\"colab-df-container\">\n",
              "      <div>\n",
              "<style scoped>\n",
              "    .dataframe tbody tr th:only-of-type {\n",
              "        vertical-align: middle;\n",
              "    }\n",
              "\n",
              "    .dataframe tbody tr th {\n",
              "        vertical-align: top;\n",
              "    }\n",
              "\n",
              "    .dataframe thead th {\n",
              "        text-align: right;\n",
              "    }\n",
              "</style>\n",
              "<table border=\"1\" class=\"dataframe\">\n",
              "  <thead>\n",
              "    <tr style=\"text-align: right;\">\n",
              "      <th></th>\n",
              "      <th>Yes</th>\n",
              "      <th>No</th>\n",
              "    </tr>\n",
              "  </thead>\n",
              "  <tbody>\n",
              "    <tr>\n",
              "      <th>EmployeeNumber</th>\n",
              "      <td>5153.16</td>\n",
              "      <td>2304.51</td>\n",
              "    </tr>\n",
              "    <tr>\n",
              "      <th>Age</th>\n",
              "      <td>36.28</td>\n",
              "      <td>37.40</td>\n",
              "    </tr>\n",
              "    <tr>\n",
              "      <th>DailyRate</th>\n",
              "      <td>788.06</td>\n",
              "      <td>806.24</td>\n",
              "    </tr>\n",
              "    <tr>\n",
              "      <th>DistanceFromHome</th>\n",
              "      <td>9.40</td>\n",
              "      <td>9.16</td>\n",
              "    </tr>\n",
              "    <tr>\n",
              "      <th>Education</th>\n",
              "      <td>2.89</td>\n",
              "      <td>2.93</td>\n",
              "    </tr>\n",
              "    <tr>\n",
              "      <th>EnvironmentSatisfaction</th>\n",
              "      <td>2.65</td>\n",
              "      <td>2.75</td>\n",
              "    </tr>\n",
              "    <tr>\n",
              "      <th>HourlyRate</th>\n",
              "      <td>66.83</td>\n",
              "      <td>66.30</td>\n",
              "    </tr>\n",
              "    <tr>\n",
              "      <th>JobInvolvement</th>\n",
              "      <td>2.72</td>\n",
              "      <td>2.77</td>\n",
              "    </tr>\n",
              "    <tr>\n",
              "      <th>JobLevel</th>\n",
              "      <td>2.01</td>\n",
              "      <td>2.12</td>\n",
              "    </tr>\n",
              "    <tr>\n",
              "      <th>JobSatisfaction</th>\n",
              "      <td>2.62</td>\n",
              "      <td>2.78</td>\n",
              "    </tr>\n",
              "    <tr>\n",
              "      <th>MonthlyIncome</th>\n",
              "      <td>6296.31</td>\n",
              "      <td>6694.69</td>\n",
              "    </tr>\n",
              "    <tr>\n",
              "      <th>MonthlyRate</th>\n",
              "      <td>14297.73</td>\n",
              "      <td>14283.73</td>\n",
              "    </tr>\n",
              "    <tr>\n",
              "      <th>NumCompaniesWorked</th>\n",
              "      <td>2.71</td>\n",
              "      <td>2.65</td>\n",
              "    </tr>\n",
              "    <tr>\n",
              "      <th>EmployeeNumber</th>\n",
              "      <td>5153.16</td>\n",
              "      <td>2304.51</td>\n",
              "    </tr>\n",
              "    <tr>\n",
              "      <th>OverTime</th>\n",
              "      <td>0.34</td>\n",
              "      <td>0.23</td>\n",
              "    </tr>\n",
              "    <tr>\n",
              "      <th>PercentSalaryHike</th>\n",
              "      <td>15.15</td>\n",
              "      <td>15.14</td>\n",
              "    </tr>\n",
              "    <tr>\n",
              "      <th>PerformanceRating</th>\n",
              "      <td>3.14</td>\n",
              "      <td>3.15</td>\n",
              "    </tr>\n",
              "    <tr>\n",
              "      <th>RelationshipSatisfaction</th>\n",
              "      <td>2.75</td>\n",
              "      <td>2.77</td>\n",
              "    </tr>\n",
              "    <tr>\n",
              "      <th>StockOptionLevel</th>\n",
              "      <td>0.69</td>\n",
              "      <td>0.82</td>\n",
              "    </tr>\n",
              "    <tr>\n",
              "      <th>TotalWorkingYears</th>\n",
              "      <td>10.77</td>\n",
              "      <td>11.71</td>\n",
              "    </tr>\n",
              "    <tr>\n",
              "      <th>TrainingTimesLastYear</th>\n",
              "      <td>2.74</td>\n",
              "      <td>2.78</td>\n",
              "    </tr>\n",
              "    <tr>\n",
              "      <th>WorkLifeBalance</th>\n",
              "      <td>2.77</td>\n",
              "      <td>2.78</td>\n",
              "    </tr>\n",
              "    <tr>\n",
              "      <th>YearsAtCompany</th>\n",
              "      <td>6.92</td>\n",
              "      <td>7.29</td>\n",
              "    </tr>\n",
              "    <tr>\n",
              "      <th>YearsInCurrentRole</th>\n",
              "      <td>4.03</td>\n",
              "      <td>4.37</td>\n",
              "    </tr>\n",
              "    <tr>\n",
              "      <th>YearsSinceLastPromotion</th>\n",
              "      <td>2.11</td>\n",
              "      <td>2.17</td>\n",
              "    </tr>\n",
              "    <tr>\n",
              "      <th>YearsWithCurrManager</th>\n",
              "      <td>4.07</td>\n",
              "      <td>4.32</td>\n",
              "    </tr>\n",
              "    <tr>\n",
              "      <th>Attrition</th>\n",
              "      <td>1.00</td>\n",
              "      <td>0.00</td>\n",
              "    </tr>\n",
              "    <tr>\n",
              "      <th>YearlyIncome</th>\n",
              "      <td>75555.68</td>\n",
              "      <td>80336.31</td>\n",
              "    </tr>\n",
              "  </tbody>\n",
              "</table>\n",
              "</div>\n",
              "      <button class=\"colab-df-convert\" onclick=\"convertToInteractive('df-560f6a5b-7732-45f7-8117-736fbec9cc44')\"\n",
              "              title=\"Convert this dataframe to an interactive table.\"\n",
              "              style=\"display:none;\">\n",
              "        \n",
              "  <svg xmlns=\"http://www.w3.org/2000/svg\" height=\"24px\"viewBox=\"0 0 24 24\"\n",
              "       width=\"24px\">\n",
              "    <path d=\"M0 0h24v24H0V0z\" fill=\"none\"/>\n",
              "    <path d=\"M18.56 5.44l.94 2.06.94-2.06 2.06-.94-2.06-.94-.94-2.06-.94 2.06-2.06.94zm-11 1L8.5 8.5l.94-2.06 2.06-.94-2.06-.94L8.5 2.5l-.94 2.06-2.06.94zm10 10l.94 2.06.94-2.06 2.06-.94-2.06-.94-.94-2.06-.94 2.06-2.06.94z\"/><path d=\"M17.41 7.96l-1.37-1.37c-.4-.4-.92-.59-1.43-.59-.52 0-1.04.2-1.43.59L10.3 9.45l-7.72 7.72c-.78.78-.78 2.05 0 2.83L4 21.41c.39.39.9.59 1.41.59.51 0 1.02-.2 1.41-.59l7.78-7.78 2.81-2.81c.8-.78.8-2.07 0-2.86zM5.41 20L4 18.59l7.72-7.72 1.47 1.35L5.41 20z\"/>\n",
              "  </svg>\n",
              "      </button>\n",
              "      \n",
              "  <style>\n",
              "    .colab-df-container {\n",
              "      display:flex;\n",
              "      flex-wrap:wrap;\n",
              "      gap: 12px;\n",
              "    }\n",
              "\n",
              "    .colab-df-convert {\n",
              "      background-color: #E8F0FE;\n",
              "      border: none;\n",
              "      border-radius: 50%;\n",
              "      cursor: pointer;\n",
              "      display: none;\n",
              "      fill: #1967D2;\n",
              "      height: 32px;\n",
              "      padding: 0 0 0 0;\n",
              "      width: 32px;\n",
              "    }\n",
              "\n",
              "    .colab-df-convert:hover {\n",
              "      background-color: #E2EBFA;\n",
              "      box-shadow: 0px 1px 2px rgba(60, 64, 67, 0.3), 0px 1px 3px 1px rgba(60, 64, 67, 0.15);\n",
              "      fill: #174EA6;\n",
              "    }\n",
              "\n",
              "    [theme=dark] .colab-df-convert {\n",
              "      background-color: #3B4455;\n",
              "      fill: #D2E3FC;\n",
              "    }\n",
              "\n",
              "    [theme=dark] .colab-df-convert:hover {\n",
              "      background-color: #434B5C;\n",
              "      box-shadow: 0px 1px 3px 1px rgba(0, 0, 0, 0.15);\n",
              "      filter: drop-shadow(0px 1px 2px rgba(0, 0, 0, 0.3));\n",
              "      fill: #FFFFFF;\n",
              "    }\n",
              "  </style>\n",
              "\n",
              "      <script>\n",
              "        const buttonEl =\n",
              "          document.querySelector('#df-560f6a5b-7732-45f7-8117-736fbec9cc44 button.colab-df-convert');\n",
              "        buttonEl.style.display =\n",
              "          google.colab.kernel.accessAllowed ? 'block' : 'none';\n",
              "\n",
              "        async function convertToInteractive(key) {\n",
              "          const element = document.querySelector('#df-560f6a5b-7732-45f7-8117-736fbec9cc44');\n",
              "          const dataTable =\n",
              "            await google.colab.kernel.invokeFunction('convertToInteractive',\n",
              "                                                     [key], {});\n",
              "          if (!dataTable) return;\n",
              "\n",
              "          const docLinkHtml = 'Like what you see? Visit the ' +\n",
              "            '<a target=\"_blank\" href=https://colab.research.google.com/notebooks/data_table.ipynb>data table notebook</a>'\n",
              "            + ' to learn more about interactive tables.';\n",
              "          element.innerHTML = '';\n",
              "          dataTable['output_type'] = 'display_data';\n",
              "          await google.colab.output.renderOutput(dataTable, element);\n",
              "          const docLink = document.createElement('div');\n",
              "          docLink.innerHTML = docLinkHtml;\n",
              "          element.appendChild(docLink);\n",
              "        }\n",
              "      </script>\n",
              "    </div>\n",
              "  </div>\n",
              "  "
            ]
          },
          "metadata": {},
          "execution_count": 30
        }
      ],
      "source": [
        "# I use concat to join the two DF and rename the columns\n",
        "df_mean_attrition = pd.concat((attrition_yes.mean(), attrition_no.mean()), axis=1)\n",
        "df_mean_attrition.columns = [\"Yes\",\"No\"]\n",
        "df_mean_attrition.round(2)"
      ]
    },
    {
      "cell_type": "markdown",
      "id": "6a1d8b4c",
      "metadata": {
        "id": "6a1d8b4c"
      },
      "source": [
        "* The differences of the mean values between the employees who want to leave the company and those who are going to remain in the company are not significantly bigger but the trend is to be smaller for the people who are going to leave the company. This fact means that even if we cannot put the finger on the most common or important reason or fact that influences the attrition, for sure we can say that cumulated all the factors are important in decision process."
      ]
    },
    {
      "cell_type": "markdown",
      "id": "4b8a9b24",
      "metadata": {
        "id": "4b8a9b24"
      },
      "source": [
        "##### Examine columns"
      ]
    },
    {
      "cell_type": "code",
      "execution_count": 31,
      "id": "e2fefa1f",
      "metadata": {
        "id": "e2fefa1f",
        "colab": {
          "base_uri": "https://localhost:8080/"
        },
        "outputId": "d2f8d0df-c517-4ffe-fc3e-6417b6f97dae"
      },
      "outputs": [
        {
          "output_type": "stream",
          "name": "stdout",
          "text": [
            "<class 'pandas.core.frame.DataFrame'>\n",
            "Int64Index: 2351 entries, 0 to 4432\n",
            "Data columns (total 19 columns):\n",
            " #   Column                   Non-Null Count  Dtype  \n",
            "---  ------                   --------------  -----  \n",
            " 0   EmployeeNumber           2351 non-null   int64  \n",
            " 1   Age                      2351 non-null   float64\n",
            " 2   BusinessTravel           2351 non-null   object \n",
            " 3   DailyRate                2351 non-null   float64\n",
            " 4   Department               2351 non-null   object \n",
            " 5   DistanceFromHome         2351 non-null   float64\n",
            " 6   Education                2351 non-null   float64\n",
            " 7   EducationField           2351 non-null   object \n",
            " 8   EnvironmentSatisfaction  2351 non-null   float64\n",
            " 9   Gender                   2351 non-null   object \n",
            " 10  HourlyRate               2351 non-null   float64\n",
            " 11  JobInvolvement           2351 non-null   float64\n",
            " 12  JobLevel                 2351 non-null   float64\n",
            " 13  JobRole                  2351 non-null   object \n",
            " 14  JobSatisfaction          2351 non-null   float64\n",
            " 15  MaritalStatus            2351 non-null   object \n",
            " 16  MonthlyIncome            2351 non-null   float64\n",
            " 17  MonthlyRate              2351 non-null   float64\n",
            " 18  NumCompaniesWorked       2351 non-null   float64\n",
            "dtypes: float64(12), int64(1), object(6)\n",
            "memory usage: 431.9+ KB\n"
          ]
        }
      ],
      "source": [
        "df1.info()"
      ]
    },
    {
      "cell_type": "code",
      "execution_count": 32,
      "id": "0e45fd17",
      "metadata": {
        "id": "0e45fd17",
        "colab": {
          "base_uri": "https://localhost:8080/"
        },
        "outputId": "28c4bf3a-cd7f-4ebd-bf0a-12325bccda36"
      },
      "outputs": [
        {
          "output_type": "stream",
          "name": "stdout",
          "text": [
            "<class 'pandas.core.frame.DataFrame'>\n",
            "Int64Index: 2351 entries, 0 to 4432\n",
            "Data columns (total 15 columns):\n",
            " #   Column                    Non-Null Count  Dtype  \n",
            "---  ------                    --------------  -----  \n",
            " 0   EmployeeNumber            2351 non-null   int64  \n",
            " 1   OverTime                  2351 non-null   int64  \n",
            " 2   PercentSalaryHike         2351 non-null   float64\n",
            " 3   PerformanceRating         2351 non-null   float64\n",
            " 4   RelationshipSatisfaction  2351 non-null   float64\n",
            " 5   StockOptionLevel          2351 non-null   float64\n",
            " 6   TotalWorkingYears         2351 non-null   float64\n",
            " 7   TrainingTimesLastYear     2351 non-null   float64\n",
            " 8   WorkLifeBalance           2351 non-null   float64\n",
            " 9   YearsAtCompany            2351 non-null   float64\n",
            " 10  YearsInCurrentRole        2351 non-null   float64\n",
            " 11  YearsSinceLastPromotion   2351 non-null   float64\n",
            " 12  YearsWithCurrManager      2351 non-null   float64\n",
            " 13  Attrition                 2351 non-null   int64  \n",
            " 14  YearlyIncome              2351 non-null   float64\n",
            "dtypes: float64(12), int64(3)\n",
            "memory usage: 293.9 KB\n"
          ]
        }
      ],
      "source": [
        "df2.info()"
      ]
    },
    {
      "cell_type": "code",
      "execution_count": 33,
      "id": "7223563c",
      "metadata": {
        "id": "7223563c",
        "colab": {
          "base_uri": "https://localhost:8080/"
        },
        "outputId": "46ff189f-de24-4b3d-e2b1-3615a4417507"
      },
      "outputs": [
        {
          "output_type": "stream",
          "name": "stdout",
          "text": [
            "<class 'pandas.core.frame.DataFrame'>\n",
            "Int64Index: 2351 entries, 0 to 4432\n",
            "Data columns (total 34 columns):\n",
            " #   Column                    Non-Null Count  Dtype  \n",
            "---  ------                    --------------  -----  \n",
            " 0   EmployeeNumber            2351 non-null   int64  \n",
            " 1   Age                       2351 non-null   float64\n",
            " 2   BusinessTravel            2351 non-null   object \n",
            " 3   DailyRate                 2351 non-null   float64\n",
            " 4   Department                2351 non-null   object \n",
            " 5   DistanceFromHome          2351 non-null   float64\n",
            " 6   Education                 2351 non-null   float64\n",
            " 7   EducationField            2351 non-null   object \n",
            " 8   EnvironmentSatisfaction   2351 non-null   float64\n",
            " 9   Gender                    2351 non-null   object \n",
            " 10  HourlyRate                2351 non-null   float64\n",
            " 11  JobInvolvement            2351 non-null   float64\n",
            " 12  JobLevel                  2351 non-null   float64\n",
            " 13  JobRole                   2351 non-null   object \n",
            " 14  JobSatisfaction           2351 non-null   float64\n",
            " 15  MaritalStatus             2351 non-null   object \n",
            " 16  MonthlyIncome             2351 non-null   float64\n",
            " 17  MonthlyRate               2351 non-null   float64\n",
            " 18  NumCompaniesWorked        2351 non-null   float64\n",
            " 19  EmployeeNumber            2351 non-null   int64  \n",
            " 20  OverTime                  2351 non-null   int64  \n",
            " 21  PercentSalaryHike         2351 non-null   float64\n",
            " 22  PerformanceRating         2351 non-null   float64\n",
            " 23  RelationshipSatisfaction  2351 non-null   float64\n",
            " 24  StockOptionLevel          2351 non-null   float64\n",
            " 25  TotalWorkingYears         2351 non-null   float64\n",
            " 26  TrainingTimesLastYear     2351 non-null   float64\n",
            " 27  WorkLifeBalance           2351 non-null   float64\n",
            " 28  YearsAtCompany            2351 non-null   float64\n",
            " 29  YearsInCurrentRole        2351 non-null   float64\n",
            " 30  YearsSinceLastPromotion   2351 non-null   float64\n",
            " 31  YearsWithCurrManager      2351 non-null   float64\n",
            " 32  Attrition                 2351 non-null   int64  \n",
            " 33  YearlyIncome              2351 non-null   float64\n",
            "dtypes: float64(24), int64(4), object(6)\n",
            "memory usage: 707.4+ KB\n"
          ]
        }
      ],
      "source": [
        "concat.info()"
      ]
    },
    {
      "cell_type": "code",
      "execution_count": 34,
      "id": "f5c15efc",
      "metadata": {
        "id": "f5c15efc",
        "colab": {
          "base_uri": "https://localhost:8080/",
          "height": 457
        },
        "outputId": "385abb9b-6949-4b95-81eb-2036e1cbd71c"
      },
      "outputs": [
        {
          "output_type": "execute_result",
          "data": {
            "text/plain": [
              "                          count          mean          std     min     25%  \\\n",
              "EmployeeNumber           2351.0   3399.864313  2787.632321     1.0   909.5   \n",
              "Age                      2351.0     36.967248     9.108810    18.0    30.0   \n",
              "DailyRate                2351.0    799.252233   400.960014   102.0   461.5   \n",
              "DistanceFromHome         2351.0      9.253509     8.137460     1.0     2.0   \n",
              "Education                2351.0      2.915355     1.026491     1.0     2.0   \n",
              "EnvironmentSatisfaction  2351.0      2.713313     1.083488     1.0     2.0   \n",
              "HourlyRate               2351.0     66.503615    20.121564    30.0    49.0   \n",
              "JobInvolvement           2351.0      2.751595     0.701042     1.0     2.0   \n",
              "JobLevel                 2351.0      2.073586     1.106320     1.0     1.0   \n",
              "JobSatisfaction          2351.0      2.720119     1.092691     1.0     2.0   \n",
              "MonthlyIncome            2351.0   6541.506168  4727.405739  1009.0  2932.0   \n",
              "MonthlyRate              2351.0  14289.114845  7052.760571  2094.0  8192.0   \n",
              "NumCompaniesWorked       2351.0      2.673330     2.507615     0.0     1.0   \n",
              "\n",
              "                             50%      75%      max  \n",
              "EmployeeNumber            1830.0   6226.5   7963.0  \n",
              "Age                         36.0     43.0     60.0  \n",
              "DailyRate                  802.0   1153.5   1498.0  \n",
              "DistanceFromHome             7.0     14.0     29.0  \n",
              "Education                    3.0      4.0      5.0  \n",
              "EnvironmentSatisfaction      3.0      4.0      4.0  \n",
              "HourlyRate                  67.0     84.0    100.0  \n",
              "JobInvolvement               3.0      3.0      4.0  \n",
              "JobLevel                     2.0      3.0      5.0  \n",
              "JobSatisfaction              3.0      4.0      4.0  \n",
              "MonthlyIncome             4968.0   8487.0  19999.0  \n",
              "MonthlyRate              14199.0  20351.0  26999.0  \n",
              "NumCompaniesWorked           2.0      4.0      9.0  "
            ],
            "text/html": [
              "\n",
              "  <div id=\"df-86aedaf8-fbd8-4810-a26c-1d6b299ccdc2\">\n",
              "    <div class=\"colab-df-container\">\n",
              "      <div>\n",
              "<style scoped>\n",
              "    .dataframe tbody tr th:only-of-type {\n",
              "        vertical-align: middle;\n",
              "    }\n",
              "\n",
              "    .dataframe tbody tr th {\n",
              "        vertical-align: top;\n",
              "    }\n",
              "\n",
              "    .dataframe thead th {\n",
              "        text-align: right;\n",
              "    }\n",
              "</style>\n",
              "<table border=\"1\" class=\"dataframe\">\n",
              "  <thead>\n",
              "    <tr style=\"text-align: right;\">\n",
              "      <th></th>\n",
              "      <th>count</th>\n",
              "      <th>mean</th>\n",
              "      <th>std</th>\n",
              "      <th>min</th>\n",
              "      <th>25%</th>\n",
              "      <th>50%</th>\n",
              "      <th>75%</th>\n",
              "      <th>max</th>\n",
              "    </tr>\n",
              "  </thead>\n",
              "  <tbody>\n",
              "    <tr>\n",
              "      <th>EmployeeNumber</th>\n",
              "      <td>2351.0</td>\n",
              "      <td>3399.864313</td>\n",
              "      <td>2787.632321</td>\n",
              "      <td>1.0</td>\n",
              "      <td>909.5</td>\n",
              "      <td>1830.0</td>\n",
              "      <td>6226.5</td>\n",
              "      <td>7963.0</td>\n",
              "    </tr>\n",
              "    <tr>\n",
              "      <th>Age</th>\n",
              "      <td>2351.0</td>\n",
              "      <td>36.967248</td>\n",
              "      <td>9.108810</td>\n",
              "      <td>18.0</td>\n",
              "      <td>30.0</td>\n",
              "      <td>36.0</td>\n",
              "      <td>43.0</td>\n",
              "      <td>60.0</td>\n",
              "    </tr>\n",
              "    <tr>\n",
              "      <th>DailyRate</th>\n",
              "      <td>2351.0</td>\n",
              "      <td>799.252233</td>\n",
              "      <td>400.960014</td>\n",
              "      <td>102.0</td>\n",
              "      <td>461.5</td>\n",
              "      <td>802.0</td>\n",
              "      <td>1153.5</td>\n",
              "      <td>1498.0</td>\n",
              "    </tr>\n",
              "    <tr>\n",
              "      <th>DistanceFromHome</th>\n",
              "      <td>2351.0</td>\n",
              "      <td>9.253509</td>\n",
              "      <td>8.137460</td>\n",
              "      <td>1.0</td>\n",
              "      <td>2.0</td>\n",
              "      <td>7.0</td>\n",
              "      <td>14.0</td>\n",
              "      <td>29.0</td>\n",
              "    </tr>\n",
              "    <tr>\n",
              "      <th>Education</th>\n",
              "      <td>2351.0</td>\n",
              "      <td>2.915355</td>\n",
              "      <td>1.026491</td>\n",
              "      <td>1.0</td>\n",
              "      <td>2.0</td>\n",
              "      <td>3.0</td>\n",
              "      <td>4.0</td>\n",
              "      <td>5.0</td>\n",
              "    </tr>\n",
              "    <tr>\n",
              "      <th>EnvironmentSatisfaction</th>\n",
              "      <td>2351.0</td>\n",
              "      <td>2.713313</td>\n",
              "      <td>1.083488</td>\n",
              "      <td>1.0</td>\n",
              "      <td>2.0</td>\n",
              "      <td>3.0</td>\n",
              "      <td>4.0</td>\n",
              "      <td>4.0</td>\n",
              "    </tr>\n",
              "    <tr>\n",
              "      <th>HourlyRate</th>\n",
              "      <td>2351.0</td>\n",
              "      <td>66.503615</td>\n",
              "      <td>20.121564</td>\n",
              "      <td>30.0</td>\n",
              "      <td>49.0</td>\n",
              "      <td>67.0</td>\n",
              "      <td>84.0</td>\n",
              "      <td>100.0</td>\n",
              "    </tr>\n",
              "    <tr>\n",
              "      <th>JobInvolvement</th>\n",
              "      <td>2351.0</td>\n",
              "      <td>2.751595</td>\n",
              "      <td>0.701042</td>\n",
              "      <td>1.0</td>\n",
              "      <td>2.0</td>\n",
              "      <td>3.0</td>\n",
              "      <td>3.0</td>\n",
              "      <td>4.0</td>\n",
              "    </tr>\n",
              "    <tr>\n",
              "      <th>JobLevel</th>\n",
              "      <td>2351.0</td>\n",
              "      <td>2.073586</td>\n",
              "      <td>1.106320</td>\n",
              "      <td>1.0</td>\n",
              "      <td>1.0</td>\n",
              "      <td>2.0</td>\n",
              "      <td>3.0</td>\n",
              "      <td>5.0</td>\n",
              "    </tr>\n",
              "    <tr>\n",
              "      <th>JobSatisfaction</th>\n",
              "      <td>2351.0</td>\n",
              "      <td>2.720119</td>\n",
              "      <td>1.092691</td>\n",
              "      <td>1.0</td>\n",
              "      <td>2.0</td>\n",
              "      <td>3.0</td>\n",
              "      <td>4.0</td>\n",
              "      <td>4.0</td>\n",
              "    </tr>\n",
              "    <tr>\n",
              "      <th>MonthlyIncome</th>\n",
              "      <td>2351.0</td>\n",
              "      <td>6541.506168</td>\n",
              "      <td>4727.405739</td>\n",
              "      <td>1009.0</td>\n",
              "      <td>2932.0</td>\n",
              "      <td>4968.0</td>\n",
              "      <td>8487.0</td>\n",
              "      <td>19999.0</td>\n",
              "    </tr>\n",
              "    <tr>\n",
              "      <th>MonthlyRate</th>\n",
              "      <td>2351.0</td>\n",
              "      <td>14289.114845</td>\n",
              "      <td>7052.760571</td>\n",
              "      <td>2094.0</td>\n",
              "      <td>8192.0</td>\n",
              "      <td>14199.0</td>\n",
              "      <td>20351.0</td>\n",
              "      <td>26999.0</td>\n",
              "    </tr>\n",
              "    <tr>\n",
              "      <th>NumCompaniesWorked</th>\n",
              "      <td>2351.0</td>\n",
              "      <td>2.673330</td>\n",
              "      <td>2.507615</td>\n",
              "      <td>0.0</td>\n",
              "      <td>1.0</td>\n",
              "      <td>2.0</td>\n",
              "      <td>4.0</td>\n",
              "      <td>9.0</td>\n",
              "    </tr>\n",
              "  </tbody>\n",
              "</table>\n",
              "</div>\n",
              "      <button class=\"colab-df-convert\" onclick=\"convertToInteractive('df-86aedaf8-fbd8-4810-a26c-1d6b299ccdc2')\"\n",
              "              title=\"Convert this dataframe to an interactive table.\"\n",
              "              style=\"display:none;\">\n",
              "        \n",
              "  <svg xmlns=\"http://www.w3.org/2000/svg\" height=\"24px\"viewBox=\"0 0 24 24\"\n",
              "       width=\"24px\">\n",
              "    <path d=\"M0 0h24v24H0V0z\" fill=\"none\"/>\n",
              "    <path d=\"M18.56 5.44l.94 2.06.94-2.06 2.06-.94-2.06-.94-.94-2.06-.94 2.06-2.06.94zm-11 1L8.5 8.5l.94-2.06 2.06-.94-2.06-.94L8.5 2.5l-.94 2.06-2.06.94zm10 10l.94 2.06.94-2.06 2.06-.94-2.06-.94-.94-2.06-.94 2.06-2.06.94z\"/><path d=\"M17.41 7.96l-1.37-1.37c-.4-.4-.92-.59-1.43-.59-.52 0-1.04.2-1.43.59L10.3 9.45l-7.72 7.72c-.78.78-.78 2.05 0 2.83L4 21.41c.39.39.9.59 1.41.59.51 0 1.02-.2 1.41-.59l7.78-7.78 2.81-2.81c.8-.78.8-2.07 0-2.86zM5.41 20L4 18.59l7.72-7.72 1.47 1.35L5.41 20z\"/>\n",
              "  </svg>\n",
              "      </button>\n",
              "      \n",
              "  <style>\n",
              "    .colab-df-container {\n",
              "      display:flex;\n",
              "      flex-wrap:wrap;\n",
              "      gap: 12px;\n",
              "    }\n",
              "\n",
              "    .colab-df-convert {\n",
              "      background-color: #E8F0FE;\n",
              "      border: none;\n",
              "      border-radius: 50%;\n",
              "      cursor: pointer;\n",
              "      display: none;\n",
              "      fill: #1967D2;\n",
              "      height: 32px;\n",
              "      padding: 0 0 0 0;\n",
              "      width: 32px;\n",
              "    }\n",
              "\n",
              "    .colab-df-convert:hover {\n",
              "      background-color: #E2EBFA;\n",
              "      box-shadow: 0px 1px 2px rgba(60, 64, 67, 0.3), 0px 1px 3px 1px rgba(60, 64, 67, 0.15);\n",
              "      fill: #174EA6;\n",
              "    }\n",
              "\n",
              "    [theme=dark] .colab-df-convert {\n",
              "      background-color: #3B4455;\n",
              "      fill: #D2E3FC;\n",
              "    }\n",
              "\n",
              "    [theme=dark] .colab-df-convert:hover {\n",
              "      background-color: #434B5C;\n",
              "      box-shadow: 0px 1px 3px 1px rgba(0, 0, 0, 0.15);\n",
              "      filter: drop-shadow(0px 1px 2px rgba(0, 0, 0, 0.3));\n",
              "      fill: #FFFFFF;\n",
              "    }\n",
              "  </style>\n",
              "\n",
              "      <script>\n",
              "        const buttonEl =\n",
              "          document.querySelector('#df-86aedaf8-fbd8-4810-a26c-1d6b299ccdc2 button.colab-df-convert');\n",
              "        buttonEl.style.display =\n",
              "          google.colab.kernel.accessAllowed ? 'block' : 'none';\n",
              "\n",
              "        async function convertToInteractive(key) {\n",
              "          const element = document.querySelector('#df-86aedaf8-fbd8-4810-a26c-1d6b299ccdc2');\n",
              "          const dataTable =\n",
              "            await google.colab.kernel.invokeFunction('convertToInteractive',\n",
              "                                                     [key], {});\n",
              "          if (!dataTable) return;\n",
              "\n",
              "          const docLinkHtml = 'Like what you see? Visit the ' +\n",
              "            '<a target=\"_blank\" href=https://colab.research.google.com/notebooks/data_table.ipynb>data table notebook</a>'\n",
              "            + ' to learn more about interactive tables.';\n",
              "          element.innerHTML = '';\n",
              "          dataTable['output_type'] = 'display_data';\n",
              "          await google.colab.output.renderOutput(dataTable, element);\n",
              "          const docLink = document.createElement('div');\n",
              "          docLink.innerHTML = docLinkHtml;\n",
              "          element.appendChild(docLink);\n",
              "        }\n",
              "      </script>\n",
              "    </div>\n",
              "  </div>\n",
              "  "
            ]
          },
          "metadata": {},
          "execution_count": 34
        }
      ],
      "source": [
        "df1.describe().T"
      ]
    },
    {
      "cell_type": "code",
      "execution_count": 35,
      "id": "fa5f5aa3",
      "metadata": {
        "id": "fa5f5aa3",
        "colab": {
          "base_uri": "https://localhost:8080/",
          "height": 520
        },
        "outputId": "d807649c-0cac-4c16-991a-60f086394fd3"
      },
      "outputs": [
        {
          "output_type": "execute_result",
          "data": {
            "text/plain": [
              "                           count          mean           std      min  \\\n",
              "EmployeeNumber            2351.0   3399.864313   2787.632321      1.0   \n",
              "OverTime                  2351.0      0.273501      0.445850      0.0   \n",
              "PercentSalaryHike         2351.0     15.146321      3.578521     11.0   \n",
              "PerformanceRating         2351.0      3.145045      0.352221      3.0   \n",
              "RelationshipSatisfaction  2351.0      2.759677      1.077273      1.0   \n",
              "StockOptionLevel          2351.0      0.769885      0.828869      0.0   \n",
              "TotalWorkingYears         2351.0     11.349213      7.872394      0.0   \n",
              "TrainingTimesLastYear     2351.0      2.765632      1.313411      0.0   \n",
              "WorkLifeBalance           2351.0      2.777116      0.707771      1.0   \n",
              "YearsAtCompany            2351.0      7.143769      6.293915      0.0   \n",
              "YearsInCurrentRole        2351.0      4.238622      3.644356      0.0   \n",
              "YearsSinceLastPromotion   2351.0      2.149298      3.212648      0.0   \n",
              "YearsWithCurrManager      2351.0      4.222884      3.650894      0.0   \n",
              "Attrition                 2351.0      0.384517      0.486584      0.0   \n",
              "YearlyIncome              2351.0  78498.074011  56728.868863  12108.0   \n",
              "\n",
              "                              25%      50%       75%       max  \n",
              "EmployeeNumber              909.5   1830.0    6226.5    7963.0  \n",
              "OverTime                      0.0      0.0       1.0       1.0  \n",
              "PercentSalaryHike            12.0     14.0      18.0      25.0  \n",
              "PerformanceRating             3.0      3.0       3.0       4.0  \n",
              "RelationshipSatisfaction      2.0      3.0       4.0       4.0  \n",
              "StockOptionLevel              0.0      1.0       1.0       3.0  \n",
              "TotalWorkingYears             6.0     10.0      15.0      40.0  \n",
              "TrainingTimesLastYear         2.0      3.0       3.0       6.0  \n",
              "WorkLifeBalance               2.0      3.0       3.0       4.0  \n",
              "YearsAtCompany                3.0      5.0      10.0      40.0  \n",
              "YearsInCurrentRole            2.0      3.0       7.0      18.0  \n",
              "YearsSinceLastPromotion       0.0      1.0       2.0      15.0  \n",
              "YearsWithCurrManager          2.0      3.0       7.0      17.0  \n",
              "Attrition                     0.0      0.0       1.0       1.0  \n",
              "YearlyIncome              35184.0  59616.0  101844.0  239988.0  "
            ],
            "text/html": [
              "\n",
              "  <div id=\"df-d325ffd8-c41a-4f99-aa8e-d38f187d6581\">\n",
              "    <div class=\"colab-df-container\">\n",
              "      <div>\n",
              "<style scoped>\n",
              "    .dataframe tbody tr th:only-of-type {\n",
              "        vertical-align: middle;\n",
              "    }\n",
              "\n",
              "    .dataframe tbody tr th {\n",
              "        vertical-align: top;\n",
              "    }\n",
              "\n",
              "    .dataframe thead th {\n",
              "        text-align: right;\n",
              "    }\n",
              "</style>\n",
              "<table border=\"1\" class=\"dataframe\">\n",
              "  <thead>\n",
              "    <tr style=\"text-align: right;\">\n",
              "      <th></th>\n",
              "      <th>count</th>\n",
              "      <th>mean</th>\n",
              "      <th>std</th>\n",
              "      <th>min</th>\n",
              "      <th>25%</th>\n",
              "      <th>50%</th>\n",
              "      <th>75%</th>\n",
              "      <th>max</th>\n",
              "    </tr>\n",
              "  </thead>\n",
              "  <tbody>\n",
              "    <tr>\n",
              "      <th>EmployeeNumber</th>\n",
              "      <td>2351.0</td>\n",
              "      <td>3399.864313</td>\n",
              "      <td>2787.632321</td>\n",
              "      <td>1.0</td>\n",
              "      <td>909.5</td>\n",
              "      <td>1830.0</td>\n",
              "      <td>6226.5</td>\n",
              "      <td>7963.0</td>\n",
              "    </tr>\n",
              "    <tr>\n",
              "      <th>OverTime</th>\n",
              "      <td>2351.0</td>\n",
              "      <td>0.273501</td>\n",
              "      <td>0.445850</td>\n",
              "      <td>0.0</td>\n",
              "      <td>0.0</td>\n",
              "      <td>0.0</td>\n",
              "      <td>1.0</td>\n",
              "      <td>1.0</td>\n",
              "    </tr>\n",
              "    <tr>\n",
              "      <th>PercentSalaryHike</th>\n",
              "      <td>2351.0</td>\n",
              "      <td>15.146321</td>\n",
              "      <td>3.578521</td>\n",
              "      <td>11.0</td>\n",
              "      <td>12.0</td>\n",
              "      <td>14.0</td>\n",
              "      <td>18.0</td>\n",
              "      <td>25.0</td>\n",
              "    </tr>\n",
              "    <tr>\n",
              "      <th>PerformanceRating</th>\n",
              "      <td>2351.0</td>\n",
              "      <td>3.145045</td>\n",
              "      <td>0.352221</td>\n",
              "      <td>3.0</td>\n",
              "      <td>3.0</td>\n",
              "      <td>3.0</td>\n",
              "      <td>3.0</td>\n",
              "      <td>4.0</td>\n",
              "    </tr>\n",
              "    <tr>\n",
              "      <th>RelationshipSatisfaction</th>\n",
              "      <td>2351.0</td>\n",
              "      <td>2.759677</td>\n",
              "      <td>1.077273</td>\n",
              "      <td>1.0</td>\n",
              "      <td>2.0</td>\n",
              "      <td>3.0</td>\n",
              "      <td>4.0</td>\n",
              "      <td>4.0</td>\n",
              "    </tr>\n",
              "    <tr>\n",
              "      <th>StockOptionLevel</th>\n",
              "      <td>2351.0</td>\n",
              "      <td>0.769885</td>\n",
              "      <td>0.828869</td>\n",
              "      <td>0.0</td>\n",
              "      <td>0.0</td>\n",
              "      <td>1.0</td>\n",
              "      <td>1.0</td>\n",
              "      <td>3.0</td>\n",
              "    </tr>\n",
              "    <tr>\n",
              "      <th>TotalWorkingYears</th>\n",
              "      <td>2351.0</td>\n",
              "      <td>11.349213</td>\n",
              "      <td>7.872394</td>\n",
              "      <td>0.0</td>\n",
              "      <td>6.0</td>\n",
              "      <td>10.0</td>\n",
              "      <td>15.0</td>\n",
              "      <td>40.0</td>\n",
              "    </tr>\n",
              "    <tr>\n",
              "      <th>TrainingTimesLastYear</th>\n",
              "      <td>2351.0</td>\n",
              "      <td>2.765632</td>\n",
              "      <td>1.313411</td>\n",
              "      <td>0.0</td>\n",
              "      <td>2.0</td>\n",
              "      <td>3.0</td>\n",
              "      <td>3.0</td>\n",
              "      <td>6.0</td>\n",
              "    </tr>\n",
              "    <tr>\n",
              "      <th>WorkLifeBalance</th>\n",
              "      <td>2351.0</td>\n",
              "      <td>2.777116</td>\n",
              "      <td>0.707771</td>\n",
              "      <td>1.0</td>\n",
              "      <td>2.0</td>\n",
              "      <td>3.0</td>\n",
              "      <td>3.0</td>\n",
              "      <td>4.0</td>\n",
              "    </tr>\n",
              "    <tr>\n",
              "      <th>YearsAtCompany</th>\n",
              "      <td>2351.0</td>\n",
              "      <td>7.143769</td>\n",
              "      <td>6.293915</td>\n",
              "      <td>0.0</td>\n",
              "      <td>3.0</td>\n",
              "      <td>5.0</td>\n",
              "      <td>10.0</td>\n",
              "      <td>40.0</td>\n",
              "    </tr>\n",
              "    <tr>\n",
              "      <th>YearsInCurrentRole</th>\n",
              "      <td>2351.0</td>\n",
              "      <td>4.238622</td>\n",
              "      <td>3.644356</td>\n",
              "      <td>0.0</td>\n",
              "      <td>2.0</td>\n",
              "      <td>3.0</td>\n",
              "      <td>7.0</td>\n",
              "      <td>18.0</td>\n",
              "    </tr>\n",
              "    <tr>\n",
              "      <th>YearsSinceLastPromotion</th>\n",
              "      <td>2351.0</td>\n",
              "      <td>2.149298</td>\n",
              "      <td>3.212648</td>\n",
              "      <td>0.0</td>\n",
              "      <td>0.0</td>\n",
              "      <td>1.0</td>\n",
              "      <td>2.0</td>\n",
              "      <td>15.0</td>\n",
              "    </tr>\n",
              "    <tr>\n",
              "      <th>YearsWithCurrManager</th>\n",
              "      <td>2351.0</td>\n",
              "      <td>4.222884</td>\n",
              "      <td>3.650894</td>\n",
              "      <td>0.0</td>\n",
              "      <td>2.0</td>\n",
              "      <td>3.0</td>\n",
              "      <td>7.0</td>\n",
              "      <td>17.0</td>\n",
              "    </tr>\n",
              "    <tr>\n",
              "      <th>Attrition</th>\n",
              "      <td>2351.0</td>\n",
              "      <td>0.384517</td>\n",
              "      <td>0.486584</td>\n",
              "      <td>0.0</td>\n",
              "      <td>0.0</td>\n",
              "      <td>0.0</td>\n",
              "      <td>1.0</td>\n",
              "      <td>1.0</td>\n",
              "    </tr>\n",
              "    <tr>\n",
              "      <th>YearlyIncome</th>\n",
              "      <td>2351.0</td>\n",
              "      <td>78498.074011</td>\n",
              "      <td>56728.868863</td>\n",
              "      <td>12108.0</td>\n",
              "      <td>35184.0</td>\n",
              "      <td>59616.0</td>\n",
              "      <td>101844.0</td>\n",
              "      <td>239988.0</td>\n",
              "    </tr>\n",
              "  </tbody>\n",
              "</table>\n",
              "</div>\n",
              "      <button class=\"colab-df-convert\" onclick=\"convertToInteractive('df-d325ffd8-c41a-4f99-aa8e-d38f187d6581')\"\n",
              "              title=\"Convert this dataframe to an interactive table.\"\n",
              "              style=\"display:none;\">\n",
              "        \n",
              "  <svg xmlns=\"http://www.w3.org/2000/svg\" height=\"24px\"viewBox=\"0 0 24 24\"\n",
              "       width=\"24px\">\n",
              "    <path d=\"M0 0h24v24H0V0z\" fill=\"none\"/>\n",
              "    <path d=\"M18.56 5.44l.94 2.06.94-2.06 2.06-.94-2.06-.94-.94-2.06-.94 2.06-2.06.94zm-11 1L8.5 8.5l.94-2.06 2.06-.94-2.06-.94L8.5 2.5l-.94 2.06-2.06.94zm10 10l.94 2.06.94-2.06 2.06-.94-2.06-.94-.94-2.06-.94 2.06-2.06.94z\"/><path d=\"M17.41 7.96l-1.37-1.37c-.4-.4-.92-.59-1.43-.59-.52 0-1.04.2-1.43.59L10.3 9.45l-7.72 7.72c-.78.78-.78 2.05 0 2.83L4 21.41c.39.39.9.59 1.41.59.51 0 1.02-.2 1.41-.59l7.78-7.78 2.81-2.81c.8-.78.8-2.07 0-2.86zM5.41 20L4 18.59l7.72-7.72 1.47 1.35L5.41 20z\"/>\n",
              "  </svg>\n",
              "      </button>\n",
              "      \n",
              "  <style>\n",
              "    .colab-df-container {\n",
              "      display:flex;\n",
              "      flex-wrap:wrap;\n",
              "      gap: 12px;\n",
              "    }\n",
              "\n",
              "    .colab-df-convert {\n",
              "      background-color: #E8F0FE;\n",
              "      border: none;\n",
              "      border-radius: 50%;\n",
              "      cursor: pointer;\n",
              "      display: none;\n",
              "      fill: #1967D2;\n",
              "      height: 32px;\n",
              "      padding: 0 0 0 0;\n",
              "      width: 32px;\n",
              "    }\n",
              "\n",
              "    .colab-df-convert:hover {\n",
              "      background-color: #E2EBFA;\n",
              "      box-shadow: 0px 1px 2px rgba(60, 64, 67, 0.3), 0px 1px 3px 1px rgba(60, 64, 67, 0.15);\n",
              "      fill: #174EA6;\n",
              "    }\n",
              "\n",
              "    [theme=dark] .colab-df-convert {\n",
              "      background-color: #3B4455;\n",
              "      fill: #D2E3FC;\n",
              "    }\n",
              "\n",
              "    [theme=dark] .colab-df-convert:hover {\n",
              "      background-color: #434B5C;\n",
              "      box-shadow: 0px 1px 3px 1px rgba(0, 0, 0, 0.15);\n",
              "      filter: drop-shadow(0px 1px 2px rgba(0, 0, 0, 0.3));\n",
              "      fill: #FFFFFF;\n",
              "    }\n",
              "  </style>\n",
              "\n",
              "      <script>\n",
              "        const buttonEl =\n",
              "          document.querySelector('#df-d325ffd8-c41a-4f99-aa8e-d38f187d6581 button.colab-df-convert');\n",
              "        buttonEl.style.display =\n",
              "          google.colab.kernel.accessAllowed ? 'block' : 'none';\n",
              "\n",
              "        async function convertToInteractive(key) {\n",
              "          const element = document.querySelector('#df-d325ffd8-c41a-4f99-aa8e-d38f187d6581');\n",
              "          const dataTable =\n",
              "            await google.colab.kernel.invokeFunction('convertToInteractive',\n",
              "                                                     [key], {});\n",
              "          if (!dataTable) return;\n",
              "\n",
              "          const docLinkHtml = 'Like what you see? Visit the ' +\n",
              "            '<a target=\"_blank\" href=https://colab.research.google.com/notebooks/data_table.ipynb>data table notebook</a>'\n",
              "            + ' to learn more about interactive tables.';\n",
              "          element.innerHTML = '';\n",
              "          dataTable['output_type'] = 'display_data';\n",
              "          await google.colab.output.renderOutput(dataTable, element);\n",
              "          const docLink = document.createElement('div');\n",
              "          docLink.innerHTML = docLinkHtml;\n",
              "          element.appendChild(docLink);\n",
              "        }\n",
              "      </script>\n",
              "    </div>\n",
              "  </div>\n",
              "  "
            ]
          },
          "metadata": {},
          "execution_count": 35
        }
      ],
      "source": [
        "df2.describe().T"
      ]
    },
    {
      "cell_type": "code",
      "execution_count": 36,
      "id": "0fdfcf5b",
      "metadata": {
        "id": "0fdfcf5b",
        "colab": {
          "base_uri": "https://localhost:8080/",
          "height": 927
        },
        "outputId": "eec5cff4-2a20-4c4f-fd2b-8fa6f41cd433"
      },
      "outputs": [
        {
          "output_type": "execute_result",
          "data": {
            "text/plain": [
              "                           count          mean           std      min  \\\n",
              "EmployeeNumber            2351.0   3399.864313   2787.632321      1.0   \n",
              "Age                       2351.0     36.967248      9.108810     18.0   \n",
              "DailyRate                 2351.0    799.252233    400.960014    102.0   \n",
              "DistanceFromHome          2351.0      9.253509      8.137460      1.0   \n",
              "Education                 2351.0      2.915355      1.026491      1.0   \n",
              "EnvironmentSatisfaction   2351.0      2.713313      1.083488      1.0   \n",
              "HourlyRate                2351.0     66.503615     20.121564     30.0   \n",
              "JobInvolvement            2351.0      2.751595      0.701042      1.0   \n",
              "JobLevel                  2351.0      2.073586      1.106320      1.0   \n",
              "JobSatisfaction           2351.0      2.720119      1.092691      1.0   \n",
              "MonthlyIncome             2351.0   6541.506168   4727.405739   1009.0   \n",
              "MonthlyRate               2351.0  14289.114845   7052.760571   2094.0   \n",
              "NumCompaniesWorked        2351.0      2.673330      2.507615      0.0   \n",
              "EmployeeNumber            2351.0   3399.864313   2787.632321      1.0   \n",
              "OverTime                  2351.0      0.273501      0.445850      0.0   \n",
              "PercentSalaryHike         2351.0     15.146321      3.578521     11.0   \n",
              "PerformanceRating         2351.0      3.145045      0.352221      3.0   \n",
              "RelationshipSatisfaction  2351.0      2.759677      1.077273      1.0   \n",
              "StockOptionLevel          2351.0      0.769885      0.828869      0.0   \n",
              "TotalWorkingYears         2351.0     11.349213      7.872394      0.0   \n",
              "TrainingTimesLastYear     2351.0      2.765632      1.313411      0.0   \n",
              "WorkLifeBalance           2351.0      2.777116      0.707771      1.0   \n",
              "YearsAtCompany            2351.0      7.143769      6.293915      0.0   \n",
              "YearsInCurrentRole        2351.0      4.238622      3.644356      0.0   \n",
              "YearsSinceLastPromotion   2351.0      2.149298      3.212648      0.0   \n",
              "YearsWithCurrManager      2351.0      4.222884      3.650894      0.0   \n",
              "Attrition                 2351.0      0.384517      0.486584      0.0   \n",
              "YearlyIncome              2351.0  78498.074011  56728.868863  12108.0   \n",
              "\n",
              "                              25%      50%       75%       max  \n",
              "EmployeeNumber              909.5   1830.0    6226.5    7963.0  \n",
              "Age                          30.0     36.0      43.0      60.0  \n",
              "DailyRate                   461.5    802.0    1153.5    1498.0  \n",
              "DistanceFromHome              2.0      7.0      14.0      29.0  \n",
              "Education                     2.0      3.0       4.0       5.0  \n",
              "EnvironmentSatisfaction       2.0      3.0       4.0       4.0  \n",
              "HourlyRate                   49.0     67.0      84.0     100.0  \n",
              "JobInvolvement                2.0      3.0       3.0       4.0  \n",
              "JobLevel                      1.0      2.0       3.0       5.0  \n",
              "JobSatisfaction               2.0      3.0       4.0       4.0  \n",
              "MonthlyIncome              2932.0   4968.0    8487.0   19999.0  \n",
              "MonthlyRate                8192.0  14199.0   20351.0   26999.0  \n",
              "NumCompaniesWorked            1.0      2.0       4.0       9.0  \n",
              "EmployeeNumber              909.5   1830.0    6226.5    7963.0  \n",
              "OverTime                      0.0      0.0       1.0       1.0  \n",
              "PercentSalaryHike            12.0     14.0      18.0      25.0  \n",
              "PerformanceRating             3.0      3.0       3.0       4.0  \n",
              "RelationshipSatisfaction      2.0      3.0       4.0       4.0  \n",
              "StockOptionLevel              0.0      1.0       1.0       3.0  \n",
              "TotalWorkingYears             6.0     10.0      15.0      40.0  \n",
              "TrainingTimesLastYear         2.0      3.0       3.0       6.0  \n",
              "WorkLifeBalance               2.0      3.0       3.0       4.0  \n",
              "YearsAtCompany                3.0      5.0      10.0      40.0  \n",
              "YearsInCurrentRole            2.0      3.0       7.0      18.0  \n",
              "YearsSinceLastPromotion       0.0      1.0       2.0      15.0  \n",
              "YearsWithCurrManager          2.0      3.0       7.0      17.0  \n",
              "Attrition                     0.0      0.0       1.0       1.0  \n",
              "YearlyIncome              35184.0  59616.0  101844.0  239988.0  "
            ],
            "text/html": [
              "\n",
              "  <div id=\"df-cf484105-8f6c-4b5b-8ae9-ce4a2f397a3e\">\n",
              "    <div class=\"colab-df-container\">\n",
              "      <div>\n",
              "<style scoped>\n",
              "    .dataframe tbody tr th:only-of-type {\n",
              "        vertical-align: middle;\n",
              "    }\n",
              "\n",
              "    .dataframe tbody tr th {\n",
              "        vertical-align: top;\n",
              "    }\n",
              "\n",
              "    .dataframe thead th {\n",
              "        text-align: right;\n",
              "    }\n",
              "</style>\n",
              "<table border=\"1\" class=\"dataframe\">\n",
              "  <thead>\n",
              "    <tr style=\"text-align: right;\">\n",
              "      <th></th>\n",
              "      <th>count</th>\n",
              "      <th>mean</th>\n",
              "      <th>std</th>\n",
              "      <th>min</th>\n",
              "      <th>25%</th>\n",
              "      <th>50%</th>\n",
              "      <th>75%</th>\n",
              "      <th>max</th>\n",
              "    </tr>\n",
              "  </thead>\n",
              "  <tbody>\n",
              "    <tr>\n",
              "      <th>EmployeeNumber</th>\n",
              "      <td>2351.0</td>\n",
              "      <td>3399.864313</td>\n",
              "      <td>2787.632321</td>\n",
              "      <td>1.0</td>\n",
              "      <td>909.5</td>\n",
              "      <td>1830.0</td>\n",
              "      <td>6226.5</td>\n",
              "      <td>7963.0</td>\n",
              "    </tr>\n",
              "    <tr>\n",
              "      <th>Age</th>\n",
              "      <td>2351.0</td>\n",
              "      <td>36.967248</td>\n",
              "      <td>9.108810</td>\n",
              "      <td>18.0</td>\n",
              "      <td>30.0</td>\n",
              "      <td>36.0</td>\n",
              "      <td>43.0</td>\n",
              "      <td>60.0</td>\n",
              "    </tr>\n",
              "    <tr>\n",
              "      <th>DailyRate</th>\n",
              "      <td>2351.0</td>\n",
              "      <td>799.252233</td>\n",
              "      <td>400.960014</td>\n",
              "      <td>102.0</td>\n",
              "      <td>461.5</td>\n",
              "      <td>802.0</td>\n",
              "      <td>1153.5</td>\n",
              "      <td>1498.0</td>\n",
              "    </tr>\n",
              "    <tr>\n",
              "      <th>DistanceFromHome</th>\n",
              "      <td>2351.0</td>\n",
              "      <td>9.253509</td>\n",
              "      <td>8.137460</td>\n",
              "      <td>1.0</td>\n",
              "      <td>2.0</td>\n",
              "      <td>7.0</td>\n",
              "      <td>14.0</td>\n",
              "      <td>29.0</td>\n",
              "    </tr>\n",
              "    <tr>\n",
              "      <th>Education</th>\n",
              "      <td>2351.0</td>\n",
              "      <td>2.915355</td>\n",
              "      <td>1.026491</td>\n",
              "      <td>1.0</td>\n",
              "      <td>2.0</td>\n",
              "      <td>3.0</td>\n",
              "      <td>4.0</td>\n",
              "      <td>5.0</td>\n",
              "    </tr>\n",
              "    <tr>\n",
              "      <th>EnvironmentSatisfaction</th>\n",
              "      <td>2351.0</td>\n",
              "      <td>2.713313</td>\n",
              "      <td>1.083488</td>\n",
              "      <td>1.0</td>\n",
              "      <td>2.0</td>\n",
              "      <td>3.0</td>\n",
              "      <td>4.0</td>\n",
              "      <td>4.0</td>\n",
              "    </tr>\n",
              "    <tr>\n",
              "      <th>HourlyRate</th>\n",
              "      <td>2351.0</td>\n",
              "      <td>66.503615</td>\n",
              "      <td>20.121564</td>\n",
              "      <td>30.0</td>\n",
              "      <td>49.0</td>\n",
              "      <td>67.0</td>\n",
              "      <td>84.0</td>\n",
              "      <td>100.0</td>\n",
              "    </tr>\n",
              "    <tr>\n",
              "      <th>JobInvolvement</th>\n",
              "      <td>2351.0</td>\n",
              "      <td>2.751595</td>\n",
              "      <td>0.701042</td>\n",
              "      <td>1.0</td>\n",
              "      <td>2.0</td>\n",
              "      <td>3.0</td>\n",
              "      <td>3.0</td>\n",
              "      <td>4.0</td>\n",
              "    </tr>\n",
              "    <tr>\n",
              "      <th>JobLevel</th>\n",
              "      <td>2351.0</td>\n",
              "      <td>2.073586</td>\n",
              "      <td>1.106320</td>\n",
              "      <td>1.0</td>\n",
              "      <td>1.0</td>\n",
              "      <td>2.0</td>\n",
              "      <td>3.0</td>\n",
              "      <td>5.0</td>\n",
              "    </tr>\n",
              "    <tr>\n",
              "      <th>JobSatisfaction</th>\n",
              "      <td>2351.0</td>\n",
              "      <td>2.720119</td>\n",
              "      <td>1.092691</td>\n",
              "      <td>1.0</td>\n",
              "      <td>2.0</td>\n",
              "      <td>3.0</td>\n",
              "      <td>4.0</td>\n",
              "      <td>4.0</td>\n",
              "    </tr>\n",
              "    <tr>\n",
              "      <th>MonthlyIncome</th>\n",
              "      <td>2351.0</td>\n",
              "      <td>6541.506168</td>\n",
              "      <td>4727.405739</td>\n",
              "      <td>1009.0</td>\n",
              "      <td>2932.0</td>\n",
              "      <td>4968.0</td>\n",
              "      <td>8487.0</td>\n",
              "      <td>19999.0</td>\n",
              "    </tr>\n",
              "    <tr>\n",
              "      <th>MonthlyRate</th>\n",
              "      <td>2351.0</td>\n",
              "      <td>14289.114845</td>\n",
              "      <td>7052.760571</td>\n",
              "      <td>2094.0</td>\n",
              "      <td>8192.0</td>\n",
              "      <td>14199.0</td>\n",
              "      <td>20351.0</td>\n",
              "      <td>26999.0</td>\n",
              "    </tr>\n",
              "    <tr>\n",
              "      <th>NumCompaniesWorked</th>\n",
              "      <td>2351.0</td>\n",
              "      <td>2.673330</td>\n",
              "      <td>2.507615</td>\n",
              "      <td>0.0</td>\n",
              "      <td>1.0</td>\n",
              "      <td>2.0</td>\n",
              "      <td>4.0</td>\n",
              "      <td>9.0</td>\n",
              "    </tr>\n",
              "    <tr>\n",
              "      <th>EmployeeNumber</th>\n",
              "      <td>2351.0</td>\n",
              "      <td>3399.864313</td>\n",
              "      <td>2787.632321</td>\n",
              "      <td>1.0</td>\n",
              "      <td>909.5</td>\n",
              "      <td>1830.0</td>\n",
              "      <td>6226.5</td>\n",
              "      <td>7963.0</td>\n",
              "    </tr>\n",
              "    <tr>\n",
              "      <th>OverTime</th>\n",
              "      <td>2351.0</td>\n",
              "      <td>0.273501</td>\n",
              "      <td>0.445850</td>\n",
              "      <td>0.0</td>\n",
              "      <td>0.0</td>\n",
              "      <td>0.0</td>\n",
              "      <td>1.0</td>\n",
              "      <td>1.0</td>\n",
              "    </tr>\n",
              "    <tr>\n",
              "      <th>PercentSalaryHike</th>\n",
              "      <td>2351.0</td>\n",
              "      <td>15.146321</td>\n",
              "      <td>3.578521</td>\n",
              "      <td>11.0</td>\n",
              "      <td>12.0</td>\n",
              "      <td>14.0</td>\n",
              "      <td>18.0</td>\n",
              "      <td>25.0</td>\n",
              "    </tr>\n",
              "    <tr>\n",
              "      <th>PerformanceRating</th>\n",
              "      <td>2351.0</td>\n",
              "      <td>3.145045</td>\n",
              "      <td>0.352221</td>\n",
              "      <td>3.0</td>\n",
              "      <td>3.0</td>\n",
              "      <td>3.0</td>\n",
              "      <td>3.0</td>\n",
              "      <td>4.0</td>\n",
              "    </tr>\n",
              "    <tr>\n",
              "      <th>RelationshipSatisfaction</th>\n",
              "      <td>2351.0</td>\n",
              "      <td>2.759677</td>\n",
              "      <td>1.077273</td>\n",
              "      <td>1.0</td>\n",
              "      <td>2.0</td>\n",
              "      <td>3.0</td>\n",
              "      <td>4.0</td>\n",
              "      <td>4.0</td>\n",
              "    </tr>\n",
              "    <tr>\n",
              "      <th>StockOptionLevel</th>\n",
              "      <td>2351.0</td>\n",
              "      <td>0.769885</td>\n",
              "      <td>0.828869</td>\n",
              "      <td>0.0</td>\n",
              "      <td>0.0</td>\n",
              "      <td>1.0</td>\n",
              "      <td>1.0</td>\n",
              "      <td>3.0</td>\n",
              "    </tr>\n",
              "    <tr>\n",
              "      <th>TotalWorkingYears</th>\n",
              "      <td>2351.0</td>\n",
              "      <td>11.349213</td>\n",
              "      <td>7.872394</td>\n",
              "      <td>0.0</td>\n",
              "      <td>6.0</td>\n",
              "      <td>10.0</td>\n",
              "      <td>15.0</td>\n",
              "      <td>40.0</td>\n",
              "    </tr>\n",
              "    <tr>\n",
              "      <th>TrainingTimesLastYear</th>\n",
              "      <td>2351.0</td>\n",
              "      <td>2.765632</td>\n",
              "      <td>1.313411</td>\n",
              "      <td>0.0</td>\n",
              "      <td>2.0</td>\n",
              "      <td>3.0</td>\n",
              "      <td>3.0</td>\n",
              "      <td>6.0</td>\n",
              "    </tr>\n",
              "    <tr>\n",
              "      <th>WorkLifeBalance</th>\n",
              "      <td>2351.0</td>\n",
              "      <td>2.777116</td>\n",
              "      <td>0.707771</td>\n",
              "      <td>1.0</td>\n",
              "      <td>2.0</td>\n",
              "      <td>3.0</td>\n",
              "      <td>3.0</td>\n",
              "      <td>4.0</td>\n",
              "    </tr>\n",
              "    <tr>\n",
              "      <th>YearsAtCompany</th>\n",
              "      <td>2351.0</td>\n",
              "      <td>7.143769</td>\n",
              "      <td>6.293915</td>\n",
              "      <td>0.0</td>\n",
              "      <td>3.0</td>\n",
              "      <td>5.0</td>\n",
              "      <td>10.0</td>\n",
              "      <td>40.0</td>\n",
              "    </tr>\n",
              "    <tr>\n",
              "      <th>YearsInCurrentRole</th>\n",
              "      <td>2351.0</td>\n",
              "      <td>4.238622</td>\n",
              "      <td>3.644356</td>\n",
              "      <td>0.0</td>\n",
              "      <td>2.0</td>\n",
              "      <td>3.0</td>\n",
              "      <td>7.0</td>\n",
              "      <td>18.0</td>\n",
              "    </tr>\n",
              "    <tr>\n",
              "      <th>YearsSinceLastPromotion</th>\n",
              "      <td>2351.0</td>\n",
              "      <td>2.149298</td>\n",
              "      <td>3.212648</td>\n",
              "      <td>0.0</td>\n",
              "      <td>0.0</td>\n",
              "      <td>1.0</td>\n",
              "      <td>2.0</td>\n",
              "      <td>15.0</td>\n",
              "    </tr>\n",
              "    <tr>\n",
              "      <th>YearsWithCurrManager</th>\n",
              "      <td>2351.0</td>\n",
              "      <td>4.222884</td>\n",
              "      <td>3.650894</td>\n",
              "      <td>0.0</td>\n",
              "      <td>2.0</td>\n",
              "      <td>3.0</td>\n",
              "      <td>7.0</td>\n",
              "      <td>17.0</td>\n",
              "    </tr>\n",
              "    <tr>\n",
              "      <th>Attrition</th>\n",
              "      <td>2351.0</td>\n",
              "      <td>0.384517</td>\n",
              "      <td>0.486584</td>\n",
              "      <td>0.0</td>\n",
              "      <td>0.0</td>\n",
              "      <td>0.0</td>\n",
              "      <td>1.0</td>\n",
              "      <td>1.0</td>\n",
              "    </tr>\n",
              "    <tr>\n",
              "      <th>YearlyIncome</th>\n",
              "      <td>2351.0</td>\n",
              "      <td>78498.074011</td>\n",
              "      <td>56728.868863</td>\n",
              "      <td>12108.0</td>\n",
              "      <td>35184.0</td>\n",
              "      <td>59616.0</td>\n",
              "      <td>101844.0</td>\n",
              "      <td>239988.0</td>\n",
              "    </tr>\n",
              "  </tbody>\n",
              "</table>\n",
              "</div>\n",
              "      <button class=\"colab-df-convert\" onclick=\"convertToInteractive('df-cf484105-8f6c-4b5b-8ae9-ce4a2f397a3e')\"\n",
              "              title=\"Convert this dataframe to an interactive table.\"\n",
              "              style=\"display:none;\">\n",
              "        \n",
              "  <svg xmlns=\"http://www.w3.org/2000/svg\" height=\"24px\"viewBox=\"0 0 24 24\"\n",
              "       width=\"24px\">\n",
              "    <path d=\"M0 0h24v24H0V0z\" fill=\"none\"/>\n",
              "    <path d=\"M18.56 5.44l.94 2.06.94-2.06 2.06-.94-2.06-.94-.94-2.06-.94 2.06-2.06.94zm-11 1L8.5 8.5l.94-2.06 2.06-.94-2.06-.94L8.5 2.5l-.94 2.06-2.06.94zm10 10l.94 2.06.94-2.06 2.06-.94-2.06-.94-.94-2.06-.94 2.06-2.06.94z\"/><path d=\"M17.41 7.96l-1.37-1.37c-.4-.4-.92-.59-1.43-.59-.52 0-1.04.2-1.43.59L10.3 9.45l-7.72 7.72c-.78.78-.78 2.05 0 2.83L4 21.41c.39.39.9.59 1.41.59.51 0 1.02-.2 1.41-.59l7.78-7.78 2.81-2.81c.8-.78.8-2.07 0-2.86zM5.41 20L4 18.59l7.72-7.72 1.47 1.35L5.41 20z\"/>\n",
              "  </svg>\n",
              "      </button>\n",
              "      \n",
              "  <style>\n",
              "    .colab-df-container {\n",
              "      display:flex;\n",
              "      flex-wrap:wrap;\n",
              "      gap: 12px;\n",
              "    }\n",
              "\n",
              "    .colab-df-convert {\n",
              "      background-color: #E8F0FE;\n",
              "      border: none;\n",
              "      border-radius: 50%;\n",
              "      cursor: pointer;\n",
              "      display: none;\n",
              "      fill: #1967D2;\n",
              "      height: 32px;\n",
              "      padding: 0 0 0 0;\n",
              "      width: 32px;\n",
              "    }\n",
              "\n",
              "    .colab-df-convert:hover {\n",
              "      background-color: #E2EBFA;\n",
              "      box-shadow: 0px 1px 2px rgba(60, 64, 67, 0.3), 0px 1px 3px 1px rgba(60, 64, 67, 0.15);\n",
              "      fill: #174EA6;\n",
              "    }\n",
              "\n",
              "    [theme=dark] .colab-df-convert {\n",
              "      background-color: #3B4455;\n",
              "      fill: #D2E3FC;\n",
              "    }\n",
              "\n",
              "    [theme=dark] .colab-df-convert:hover {\n",
              "      background-color: #434B5C;\n",
              "      box-shadow: 0px 1px 3px 1px rgba(0, 0, 0, 0.15);\n",
              "      filter: drop-shadow(0px 1px 2px rgba(0, 0, 0, 0.3));\n",
              "      fill: #FFFFFF;\n",
              "    }\n",
              "  </style>\n",
              "\n",
              "      <script>\n",
              "        const buttonEl =\n",
              "          document.querySelector('#df-cf484105-8f6c-4b5b-8ae9-ce4a2f397a3e button.colab-df-convert');\n",
              "        buttonEl.style.display =\n",
              "          google.colab.kernel.accessAllowed ? 'block' : 'none';\n",
              "\n",
              "        async function convertToInteractive(key) {\n",
              "          const element = document.querySelector('#df-cf484105-8f6c-4b5b-8ae9-ce4a2f397a3e');\n",
              "          const dataTable =\n",
              "            await google.colab.kernel.invokeFunction('convertToInteractive',\n",
              "                                                     [key], {});\n",
              "          if (!dataTable) return;\n",
              "\n",
              "          const docLinkHtml = 'Like what you see? Visit the ' +\n",
              "            '<a target=\"_blank\" href=https://colab.research.google.com/notebooks/data_table.ipynb>data table notebook</a>'\n",
              "            + ' to learn more about interactive tables.';\n",
              "          element.innerHTML = '';\n",
              "          dataTable['output_type'] = 'display_data';\n",
              "          await google.colab.output.renderOutput(dataTable, element);\n",
              "          const docLink = document.createElement('div');\n",
              "          docLink.innerHTML = docLinkHtml;\n",
              "          element.appendChild(docLink);\n",
              "        }\n",
              "      </script>\n",
              "    </div>\n",
              "  </div>\n",
              "  "
            ]
          },
          "metadata": {},
          "execution_count": 36
        }
      ],
      "source": [
        "concat.describe().T"
      ]
    },
    {
      "cell_type": "markdown",
      "id": "9bba1a96",
      "metadata": {
        "id": "9bba1a96"
      },
      "source": [
        "### Setting training and testing sets"
      ]
    },
    {
      "cell_type": "code",
      "execution_count": 37,
      "id": "d3570fbb",
      "metadata": {
        "id": "d3570fbb",
        "outputId": "02d0ccd5-e4c1-44eb-9a8a-22b32db29759",
        "colab": {
          "base_uri": "https://localhost:8080/"
        }
      },
      "outputs": [
        {
          "output_type": "execute_result",
          "data": {
            "text/plain": [
              "0       0\n",
              "1       0\n",
              "2       0\n",
              "3       0\n",
              "4       0\n",
              "       ..\n",
              "3200    0\n",
              "3201    1\n",
              "3202    0\n",
              "3203    1\n",
              "3204    1\n",
              "Name: Attrition, Length: 1951, dtype: int64"
            ]
          },
          "metadata": {},
          "execution_count": 37
        }
      ],
      "source": [
        "X_test = df2[-400:]\n",
        "X_train = df2[:-400]\n",
        "\n",
        "y_test = X_test[\"Attrition\"]\n",
        "y_train = X_train[\"Attrition\"]\n",
        "\n",
        "X_test.pop(\"Attrition\")\n",
        "X_train.pop(\"Attrition\")"
      ]
    },
    {
      "cell_type": "markdown",
      "id": "f975eb26",
      "metadata": {
        "id": "f975eb26"
      },
      "source": [
        "### Target variable"
      ]
    },
    {
      "cell_type": "markdown",
      "id": "a75b1cab",
      "metadata": {
        "id": "a75b1cab"
      },
      "source": [
        "##### How many employees left their job? Comment on the number you found."
      ]
    },
    {
      "cell_type": "markdown",
      "id": "589d4c17",
      "metadata": {
        "id": "589d4c17"
      },
      "source": [
        "There are 904 employee left their job while 1447 employee didn’t. This means 38.4% of the total employees left which consider a high percentage, so we need to find out the reasons behind this attrition."
      ]
    },
    {
      "cell_type": "code",
      "execution_count": 38,
      "id": "383f4b00",
      "metadata": {
        "id": "383f4b00",
        "outputId": "bcb0f128-8000-44cb-9fe2-bd5126fc7ff7",
        "colab": {
          "base_uri": "https://localhost:8080/",
          "height": 344
        }
      },
      "outputs": [
        {
          "output_type": "stream",
          "name": "stderr",
          "text": [
            "/usr/local/lib/python3.8/dist-packages/seaborn/_decorators.py:36: FutureWarning: Pass the following variable as a keyword arg: x. From version 0.12, the only valid positional argument will be `data`, and passing other arguments without an explicit keyword will result in an error or misinterpretation.\n",
            "  warnings.warn(\n"
          ]
        },
        {
          "output_type": "display_data",
          "data": {
            "text/plain": [
              "<Figure size 432x288 with 1 Axes>"
            ],
            "image/png": "[encoded data removed]"
          },
          "metadata": {
            "needs_background": "light"
          }
        }
      ],
      "source": [
        "#Set the figure size.\n",
        "plt.figure(figsize=(6,4))\n",
        "\n",
        "# We will use a countplot here from the seaborn library.\n",
        "fig = sns.countplot(df2.Attrition)\n",
        "\n",
        "# Configure the axes labels.\n",
        "fig.set_xlabel('Attrition', fontsize=16)\n",
        "plt.xticks(fontsize=16)\n",
        "fig.set_ylabel('Count', fontsize=16, rotation=0)\n",
        "fig.yaxis.labelpad = 30\n",
        "plt.yticks(fontsize=16)\n",
        "\n",
        "# Add annotations on the plot to show the actual count values on each of the columns.\n",
        "for p in fig.patches:\n",
        "    x=p.get_bbox().get_points()[:,0]\n",
        "    y=p.get_bbox().get_points()[1,1]\n",
        "    fig.annotate('{:}'.format(p.get_height()), (x.mean(), y-150), ha='center', va='bottom', fontsize=16, color='white')\n",
        "plt.show()"
      ]
    },
    {
      "cell_type": "markdown",
      "id": "41c25175",
      "metadata": {
        "id": "41c25175"
      },
      "source": [
        "Show the percentage breakdown of the target column. This also shows us the Baseline accuracy for our models. (61.5%)"
      ]
    },
    {
      "cell_type": "code",
      "execution_count": 39,
      "id": "c3ed60c9",
      "metadata": {
        "id": "c3ed60c9",
        "outputId": "0b2fd083-f77d-4fb2-b358-568b3eb6a182",
        "colab": {
          "base_uri": "https://localhost:8080/",
          "height": 265
        }
      },
      "outputs": [
        {
          "output_type": "execute_result",
          "data": {
            "text/plain": [
              "<matplotlib.axes._subplots.AxesSubplot at 0x7f26940d5a30>"
            ]
          },
          "metadata": {},
          "execution_count": 39
        },
        {
          "output_type": "display_data",
          "data": {
            "text/plain": [
              "<Figure size 432x288 with 1 Axes>"
            ],
            "image/png": "[encoded data removed]"
          },
          "metadata": {}
        }
      ],
      "source": [
        "colors = [\"#C0EDD2\",\"#FF0018\"]\n",
        "round(df2[\"Attrition\"].value_counts()/df2.shape[0]*100,2).plot.pie(colors=colors, autopct= '%2.1f%%')"
      ]
    },
    {
      "cell_type": "code",
      "execution_count": 40,
      "id": "94b1e2df",
      "metadata": {
        "id": "94b1e2df",
        "outputId": "aa5237cd-26e5-4e52-b0a9-1199e1456131",
        "colab": {
          "base_uri": "https://localhost:8080/",
          "height": 1000
        }
      },
      "outputs": [
        {
          "output_type": "execute_result",
          "data": {
            "text/plain": [
              "<matplotlib.axes._subplots.AxesSubplot at 0x7f2693f76490>"
            ]
          },
          "metadata": {},
          "execution_count": 40
        },
        {
          "output_type": "display_data",
          "data": {
            "text/plain": [
              "<Figure size 1296x1296 with 2 Axes>"
            ],
            "image/png": "[encoded data removed]"
          },
          "metadata": {
            "needs_background": "light"
          }
        }
      ],
      "source": [
        "plt.subplots(figsize = (18, 18))\n",
        "sns.heatmap(concat.corr(), annot = False)"
      ]
    },
    {
      "cell_type": "markdown",
      "id": "90563c10",
      "metadata": {
        "id": "90563c10"
      },
      "source": [
        "##### Plot the distribution of Age"
      ]
    },
    {
      "cell_type": "code",
      "execution_count": 41,
      "id": "9cd242eb",
      "metadata": {
        "id": "9cd242eb",
        "outputId": "2aacbedf-7005-4989-eddd-91a948f93345",
        "colab": {
          "base_uri": "https://localhost:8080/",
          "height": 456
        }
      },
      "outputs": [
        {
          "output_type": "stream",
          "name": "stderr",
          "text": [
            "/usr/local/lib/python3.8/dist-packages/seaborn/distributions.py:2619: FutureWarning: `distplot` is a deprecated function and will be removed in a future version. Please adapt your code to use either `displot` (a figure-level function with similar flexibility) or `histplot` (an axes-level function for histograms).\n",
            "  warnings.warn(msg, FutureWarning)\n"
          ]
        },
        {
          "output_type": "display_data",
          "data": {
            "text/plain": [
              "<Figure size 864x432 with 1 Axes>"
            ],
            "image/png": "[encoded data removed]"
          },
          "metadata": {
            "needs_background": "light"
          }
        }
      ],
      "source": [
        "plt.figure(figsize=(12,6))\n",
        "fig = sns.distplot(df1.Age, kde=False, bins=10, hist_kws=dict(alpha=1))\n",
        "sns.despine(left=True)\n",
        "fig.set_xlabel('Age', fontsize=20)\n",
        "plt.xticks(fontsize=14)\n",
        "plt.yticks(fontsize=14)\n",
        "fig.yaxis.labelpad = 35\n",
        "plt.show()"
      ]
    },
    {
      "cell_type": "code",
      "execution_count": 42,
      "id": "0311557c",
      "metadata": {
        "id": "0311557c"
      },
      "outputs": [],
      "source": [
        "# This graph shows a normal distribution with a slightly positive skew as indicated by the longer tail going off toward \n",
        "# the right hand side.\n",
        "\n",
        "# Lets look into the Age feature in more detail in relation to the target variable."
      ]
    },
    {
      "cell_type": "markdown",
      "id": "a10fbda1",
      "metadata": {
        "id": "a10fbda1"
      },
      "source": [
        "##### Relation between age decades and attrition"
      ]
    },
    {
      "cell_type": "code",
      "execution_count": 43,
      "id": "a7c190f8",
      "metadata": {
        "id": "a7c190f8",
        "outputId": "49237bb2-374c-4248-b3c0-6e86296f47ef",
        "colab": {
          "base_uri": "https://localhost:8080/",
          "height": 497
        }
      },
      "outputs": [
        {
          "output_type": "display_data",
          "data": {
            "text/plain": [
              "<Figure size 864x576 with 1 Axes>"
            ],
            "image/png": "[encoded data removed]"
          },
          "metadata": {
            "needs_background": "light"
          }
        }
      ],
      "source": [
        "fig, ax = plt.subplots(figsize=(12,8))\n",
        "ax.hist(concat[concat[\"Attrition\"] == 0][\"Age\"], label=\"Non Attrition\", \n",
        "        bins=20)\n",
        "ax.hist(concat[concat[\"Attrition\"] == 1][\"Age\"], label=\"Attrition\",\n",
        "        bins=20, histtype=\"stepfilled\", alpha = 0.75)\n",
        "ax.set_xlabel(\"Age\")\n",
        "ax.set_ylabel(\"Num. of observations\")\n",
        "ax.legend()\n",
        "plt.show()"
      ]
    },
    {
      "cell_type": "code",
      "execution_count": 44,
      "id": "47ebb71f",
      "metadata": {
        "id": "47ebb71f"
      },
      "outputs": [],
      "source": [
        "# From this graph, we can see that attrition is present across all the age ranges.\n",
        "\n",
        "# However, for some age groups, attrition is much more prevalent. \n",
        "# This is especially true in the early 20s age group where it is almost equal.\n",
        "\n",
        "# Attrition seems to be at its lowest in the mid 40s, and steadily increases as it gets closer the retirement age."
      ]
    },
    {
      "cell_type": "markdown",
      "id": "39d0f06c",
      "metadata": {
        "id": "39d0f06c"
      },
      "source": [
        "##### How many females and males does the company have?"
      ]
    },
    {
      "cell_type": "markdown",
      "id": "57180fe0",
      "metadata": {
        "id": "57180fe0"
      },
      "source": [
        "Males are more than females in this company. Males are 61.3% and females are 48.7%."
      ]
    },
    {
      "cell_type": "code",
      "execution_count": 45,
      "id": "64ade344",
      "metadata": {
        "id": "64ade344",
        "outputId": "69f19e44-cb38-459f-affe-8cfe51a02aa6",
        "colab": {
          "base_uri": "https://localhost:8080/",
          "height": 265
        }
      },
      "outputs": [
        {
          "output_type": "execute_result",
          "data": {
            "text/plain": [
              "<matplotlib.axes._subplots.AxesSubplot at 0x7f269254e040>"
            ]
          },
          "metadata": {},
          "execution_count": 45
        },
        {
          "output_type": "display_data",
          "data": {
            "text/plain": [
              "<Figure size 432x288 with 1 Axes>"
            ],
            "image/png": "[encoded data removed]"
          },
          "metadata": {}
        }
      ],
      "source": [
        "colors = [\"#C0EDD2\",\"#FF0018\"]\n",
        "round(df1[\"Gender\"].value_counts()/df1.shape[0]*100,2).plot.pie(colors=colors, autopct= '%2.1f%%')"
      ]
    },
    {
      "cell_type": "markdown",
      "id": "8cf2db19",
      "metadata": {
        "id": "8cf2db19"
      },
      "source": [
        "**How gender is related to the attrition ? Clarify by plotting.**\n",
        "\n",
        "**The visualization clarify that males are more likely to leave company than females.**"
      ]
    },
    {
      "cell_type": "code",
      "execution_count": 46,
      "id": "d2e79070",
      "metadata": {
        "scrolled": false,
        "id": "d2e79070",
        "outputId": "24761b7c-fb5e-4e98-a58a-0a4dbfc59bab",
        "colab": {
          "base_uri": "https://localhost:8080/",
          "height": 413
        }
      },
      "outputs": [
        {
          "output_type": "execute_result",
          "data": {
            "text/plain": [
              "<matplotlib.legend.Legend at 0x7f26925153d0>"
            ]
          },
          "metadata": {},
          "execution_count": 46
        },
        {
          "output_type": "display_data",
          "data": {
            "text/plain": [
              "<Figure size 640x400 with 1 Axes>"
            ],
            "image/png": "[encoded data removed]"
          },
          "metadata": {
            "needs_background": "light"
          }
        }
      ],
      "source": [
        "plt.figure(figsize=(8,5), dpi=80)\n",
        "sns.set_theme(style=\"darkgrid\", font_scale = 1.1)\n",
        "sns.countplot(data=concat, x='Gender', hue='Attrition', palette='rocket').set_title('Attrition by Gender');\n",
        "plt.legend(labels =['Non Attrition','Attrition'],fontsize='medium', bbox_to_anchor=(0.7, 0.9), loc=2, borderaxespad=0., frameon=0)"
      ]
    },
    {
      "cell_type": "code",
      "execution_count": 47,
      "id": "ce307ac9",
      "metadata": {
        "id": "ce307ac9",
        "outputId": "8e92932c-3589-4e67-8117-37cce5a08c8c",
        "colab": {
          "base_uri": "https://localhost:8080/",
          "height": 531
        }
      },
      "outputs": [
        {
          "output_type": "stream",
          "name": "stderr",
          "text": [
            "/usr/local/lib/python3.8/dist-packages/seaborn/distributions.py:2619: FutureWarning: `distplot` is a deprecated function and will be removed in a future version. Please adapt your code to use either `displot` (a figure-level function with similar flexibility) or `kdeplot` (an axes-level function for kernel density plots).\n",
            "  warnings.warn(msg, FutureWarning)\n",
            "/usr/local/lib/python3.8/dist-packages/seaborn/distributions.py:2619: FutureWarning: `distplot` is a deprecated function and will be removed in a future version. Please adapt your code to use either `displot` (a figure-level function with similar flexibility) or `kdeplot` (an axes-level function for kernel density plots).\n",
            "  warnings.warn(msg, FutureWarning)\n"
          ]
        },
        {
          "output_type": "display_data",
          "data": {
            "text/plain": [
              "<Figure size 720x360 with 1 Axes>"
            ],
            "image/png": "[encoded data removed]"
          },
          "metadata": {}
        }
      ],
      "source": [
        "# age\n",
        "plt.figure(figsize=(10,5))\n",
        "ax = sns.distplot(attrition_yes[\"Age\"],hist=False,label=\"Yes\",color=\"r\")\n",
        "ax = sns.distplot(attrition_no[\"Age\"],hist=False,label=\"No\",color=\"#C0EDD2\")\n",
        "\n",
        "plt.ylabel(\"Density\")\n",
        "plt.legend()\n",
        "# Get the two lines from the axes to generate shading\n",
        "l1 = ax.lines[0]\n",
        "l2 = ax.lines[1]\n",
        "\n",
        "# Get the xy data from the lines so that we can shade\n",
        "x1 = l1.get_xydata()[:,0]\n",
        "y1 = l1.get_xydata()[:,1]\n",
        "x2 = l2.get_xydata()[:,0]\n",
        "y2 = l2.get_xydata()[:,1]\n",
        "ax.fill_between(x1,y1, color=\"red\", alpha=0.3)\n",
        "ax.fill_between(x2,y2, color=\"#C0EDD2\", alpha=0.3)\n",
        "sns.despine()\n",
        "ax.text(5,0.064,\"Age Density Distribution by Attrition\",\n",
        "        fontsize=15,        \n",
        "         fontweight='bold') \n",
        "ax.text(5,0.06,\"The older you get, the less you want to change jobs?\",\n",
        "        fontsize=12) \n",
        "plt.show(block=False)"
      ]
    },
    {
      "cell_type": "markdown",
      "id": "fb9377a7",
      "metadata": {
        "id": "fb9377a7"
      },
      "source": [
        "**Gender does not influence much, but being single and working a lot of overtime are important factors to take into account. Employees who are single are most likely to leave than married or divorced ones.**"
      ]
    },
    {
      "cell_type": "code",
      "execution_count": 48,
      "id": "f9711b6a",
      "metadata": {
        "scrolled": false,
        "id": "f9711b6a",
        "outputId": "f83110bd-fea5-4ef1-fabb-507469381886",
        "colab": {
          "base_uri": "https://localhost:8080/",
          "height": 448
        }
      },
      "outputs": [
        {
          "output_type": "display_data",
          "data": {
            "text/plain": [
              "<Figure size 1008x432 with 3 Axes>"
            ],
            "image/png": "[encoded data removed]"
          },
          "metadata": {}
        }
      ],
      "source": [
        "# marital status and gender\n",
        "#colors = [\"#C0EDD2\",\"#FF0018\"]\n",
        "plt.figure(figsize=(14,6))\n",
        "plt.suptitle('OverTime, Gender and Marital Status versus Attrition, Percentage', fontweight=\"bold\", fontsize=18, y=1.0)\n",
        "\n",
        "for i,column in enumerate([\"Gender\",\"MaritalStatus\",\"OverTime\"],1):\n",
        "    group =concat.groupby(column)[\"Attrition\"].value_counts(normalize=True).to_frame().unstack()\n",
        "\n",
        "    plt.subplot(1, 3,i)\n",
        "    sns.barplot(x=group.index,y=('Attrition', 0),data=group,color=\"#C0EDD2\",label=\"Atrition 0\")\n",
        "    sns.barplot(x=group.index,y=('Attrition', 1),data=group,color=\"#FF0018\",label=\"Atrition 1\")\n",
        "    if i == 1:\n",
        "        plt.ylabel(\"Attrition,s Percentage\",fontweight=\"bold\")\n",
        "    else:\n",
        "        plt.ylabel(\"\",fontweight=\"bold\")\n",
        "    plt.xlabel(column,fontweight=\"bold\")\n",
        "    plt.legend()\n",
        "    plt.grid(False) \n",
        "    "
      ]
    },
    {
      "cell_type": "markdown",
      "id": "d06b3950",
      "metadata": {
        "id": "d06b3950"
      },
      "source": [
        "**Working far away from home is also important, here we see that from 10 km away it begins to be noticed in the attrition rate.**"
      ]
    },
    {
      "cell_type": "code",
      "execution_count": 49,
      "id": "64afa1a6",
      "metadata": {
        "id": "64afa1a6",
        "outputId": "b828c19f-83b4-4693-b151-0c103fe36aea",
        "colab": {
          "base_uri": "https://localhost:8080/",
          "height": 360
        }
      },
      "outputs": [
        {
          "output_type": "stream",
          "name": "stderr",
          "text": [
            "/usr/local/lib/python3.8/dist-packages/seaborn/distributions.py:2619: FutureWarning: `distplot` is a deprecated function and will be removed in a future version. Please adapt your code to use either `displot` (a figure-level function with similar flexibility) or `kdeplot` (an axes-level function for kernel density plots).\n",
            "  warnings.warn(msg, FutureWarning)\n",
            "/usr/local/lib/python3.8/dist-packages/seaborn/distributions.py:2619: FutureWarning: `distplot` is a deprecated function and will be removed in a future version. Please adapt your code to use either `displot` (a figure-level function with similar flexibility) or `kdeplot` (an axes-level function for kernel density plots).\n",
            "  warnings.warn(msg, FutureWarning)\n"
          ]
        },
        {
          "output_type": "display_data",
          "data": {
            "text/plain": [
              "<Figure size 504x216 with 1 Axes>"
            ],
            "image/png": "[encoded data removed]"
          },
          "metadata": {}
        }
      ],
      "source": [
        "plt.figure(figsize=(7,3))\n",
        "ax = sns.distplot(attrition_yes[\"DistanceFromHome\"],hist=False,label=\"Yes\",color=\"r\")\n",
        "ax = sns.distplot(attrition_no[\"DistanceFromHome\"],hist=False,label=\"No\",color=\"#C0EDD2\")\n",
        "\n",
        "plt.ylabel(\"Density\")\n",
        "plt.legend()\n",
        "# Get the two lines from the axes to generate shading\n",
        "l1 = ax.lines[0]\n",
        "l2 = ax.lines[1]\n",
        "\n",
        "# Get the xy data from the lines so that we can shade\n",
        "x1 = l1.get_xydata()[:,0]\n",
        "y1 = l1.get_xydata()[:,1]\n",
        "x2 = l2.get_xydata()[:,0]\n",
        "y2 = l2.get_xydata()[:,1]\n",
        "ax.fill_between(x1,y1, color=\"red\", alpha=0.3)\n",
        "ax.fill_between(x2,y2, color=\"#C0EDD2\", alpha=0.3)\n",
        "sns.despine()\n",
        "ax.text(-11.35,0.093,\"DistanceFromHome Density Distribution by Attrition\",\n",
        "        fontsize=15,        \n",
        "         fontweight='bold') \n",
        "ax.text(-11.35,0.086,\"Is it hard to go to work when your home is so far away?\",\n",
        "        fontsize=12)\n",
        "plt.show(block=False)"
      ]
    },
    {
      "cell_type": "markdown",
      "id": "b7fea30c",
      "metadata": {
        "id": "b7fea30c"
      },
      "source": [
        "### Distribution of Monthly Income"
      ]
    },
    {
      "cell_type": "markdown",
      "id": "71c6a000",
      "metadata": {
        "id": "71c6a000"
      },
      "source": [
        "Employee who get more monthly income are more likely to stay in company."
      ]
    },
    {
      "cell_type": "code",
      "execution_count": 50,
      "id": "dca03302",
      "metadata": {
        "id": "dca03302",
        "outputId": "092d73b4-0ccb-45d0-bd50-ea43d9bf9f74",
        "colab": {
          "base_uri": "https://localhost:8080/",
          "height": 600
        }
      },
      "outputs": [
        {
          "output_type": "stream",
          "name": "stderr",
          "text": [
            "/usr/local/lib/python3.8/dist-packages/seaborn/distributions.py:2619: FutureWarning: `distplot` is a deprecated function and will be removed in a future version. Please adapt your code to use either `displot` (a figure-level function with similar flexibility) or `histplot` (an axes-level function for histograms).\n",
            "  warnings.warn(msg, FutureWarning)\n"
          ]
        },
        {
          "output_type": "display_data",
          "data": {
            "text/plain": [
              "<Figure size 1008x576 with 1 Axes>"
            ],
            "image/png": "[encoded data removed]"
          },
          "metadata": {}
        },
        {
          "output_type": "stream",
          "name": "stdout",
          "text": [
            "Average Monthly Income: 6541.506167588261\n"
          ]
        }
      ],
      "source": [
        "plt.figure(figsize=(14,8))\n",
        "fig = sns.distplot(concat[concat['Attrition'] == 0]['MonthlyIncome'], label='Non Attrition', kde=0, bins=10)\n",
        "sns.distplot(concat[concat['Attrition'] == 1]['MonthlyIncome'], label='Attrition', kde=0, bins=10)\n",
        "sns.despine(left=1)\n",
        "fig.grid(axis='x')\n",
        "plt.xlabel('Monthly Income', fontsize=14)\n",
        "plt.ylabel('Density', fontsize=14, rotation=0)\n",
        "fig.yaxis.labelpad = 30\n",
        "plt.title('Distribution of Monthly Income', fontsize=20);\n",
        "plt.xticks(fontsize=14)\n",
        "plt.yticks(fontsize=14)\n",
        "fig.yaxis.labelpad = 35\n",
        "plt.legend(fontsize='x-large', bbox_to_anchor=(0.71, 0.94), loc=2, borderaxespad=0., frameon=0)\n",
        "plt.show()\n",
        "print('Average Monthly Income:', concat.MonthlyIncome.mean())"
      ]
    },
    {
      "cell_type": "markdown",
      "id": "3840d91e",
      "metadata": {
        "id": "3840d91e"
      },
      "source": [
        "Females are paid more than men."
      ]
    },
    {
      "cell_type": "code",
      "execution_count": 51,
      "id": "40d3bad9",
      "metadata": {
        "id": "40d3bad9",
        "outputId": "83f6c90e-d703-4fe3-b2f2-fbc958b139ad",
        "colab": {
          "base_uri": "https://localhost:8080/",
          "height": 375
        }
      },
      "outputs": [
        {
          "output_type": "execute_result",
          "data": {
            "text/plain": [
              "Text(0.5, 1.0, 'Gender VS. Monthly Income')"
            ]
          },
          "metadata": {},
          "execution_count": 51
        },
        {
          "output_type": "display_data",
          "data": {
            "text/plain": [
              "<Figure size 720x360 with 1 Axes>"
            ],
            "image/png": "[encoded data removed]"
          },
          "metadata": {}
        }
      ],
      "source": [
        "plt.figure(figsize=(10,5))\n",
        "sns.boxplot(x=df1[\"Gender\"],y=df1[\"MonthlyIncome\"])\n",
        "plt.title(\"Gender VS. Monthly Income\")"
      ]
    },
    {
      "cell_type": "markdown",
      "id": "47b081f1",
      "metadata": {
        "id": "47b081f1"
      },
      "source": [
        "### Average Monthly Income"
      ]
    },
    {
      "cell_type": "code",
      "execution_count": 52,
      "id": "772bafe5",
      "metadata": {
        "id": "772bafe5"
      },
      "outputs": [],
      "source": [
        "income = df1.groupby(by='JobRole').mean().MonthlyIncome\n",
        "inc = pd.DataFrame(income)\n",
        "inc = inc.sort_values(by='MonthlyIncome')"
      ]
    },
    {
      "cell_type": "code",
      "execution_count": 53,
      "id": "83b3957f",
      "metadata": {
        "id": "83b3957f"
      },
      "outputs": [],
      "source": [
        "job_atr = concat[concat['Attrition'] == 1]['JobRole']\n",
        "job_atr_val = job_atr.value_counts()\n",
        "job_atr_df = pd.DataFrame(job_atr_val)"
      ]
    },
    {
      "cell_type": "code",
      "execution_count": 54,
      "id": "32875d40",
      "metadata": {
        "id": "32875d40"
      },
      "outputs": [],
      "source": [
        "jobrole_income = concat.groupby(\"JobRole\")[\"MonthlyIncome\"].describe()\n",
        "#obrole_income.style.background_gradient(cmap='Blues',axis=0)"
      ]
    },
    {
      "cell_type": "code",
      "execution_count": 55,
      "id": "ab28f658",
      "metadata": {
        "id": "ab28f658",
        "outputId": "84f856a4-a261-4a18-8bee-5fd06b0a78e6",
        "colab": {
          "base_uri": "https://localhost:8080/",
          "height": 319
        }
      },
      "outputs": [
        {
          "output_type": "display_data",
          "data": {
            "text/plain": [
              "<Figure size 576x288 with 1 Axes>"
            ],
            "image/png": "[encoded data removed]"
          },
          "metadata": {}
        }
      ],
      "source": [
        "job_income_mean = jobrole_income[\"mean\"].reset_index().sort_values(by=\"mean\",ascending=False)\n",
        "\n",
        "\n",
        "plt.figure(figsize=(8,4))\n",
        "ax = sns.barplot(y=\"JobRole\", x=\"mean\", data=job_income_mean, color=\"#C0EDD2\")\n",
        "# with axvline we can draw a vertical line\n",
        "ax.axvline(concat['MonthlyIncome'].mean(),color=\"red\")\n",
        "\n",
        "plt.ylabel(\"\")\n",
        "plt.xlabel(\"\")\n",
        "plt.grid(False)\n",
        "sns.despine()\n",
        "\n",
        "# add text anotation\n",
        "ax.text(7300, 8, \"MonthlyIncome, Mean\", horizontalalignment='left', size='medium', color='black', weight='semibold')\n",
        "for text,num in zip(round(job_income_mean[\"mean\"],2),range(9)):\n",
        "    ax.text(text,num,text)\n",
        "ax.text(-0.3,-2,\"Job Roles MonthlyIncome's mean\",\n",
        "        fontsize=15,        \n",
        "         fontweight='bold') \n",
        "ax.text(-0.3,-1.4,\"Is it good to work in the Sales department?\",\n",
        "        fontsize=12) \n",
        "plt.show(block=False)"
      ]
    },
    {
      "cell_type": "markdown",
      "id": "fed05d7e",
      "metadata": {
        "id": "fed05d7e"
      },
      "source": [
        "### Influence of Education level"
      ]
    },
    {
      "cell_type": "markdown",
      "id": "b8dd389b",
      "metadata": {
        "id": "b8dd389b"
      },
      "source": [
        "##### Monthly income per Education level"
      ]
    },
    {
      "cell_type": "code",
      "execution_count": 56,
      "id": "9da96fe9",
      "metadata": {
        "id": "9da96fe9"
      },
      "outputs": [],
      "source": [
        "edu_sal = df1.groupby('Education').mean().MonthlyIncome\n",
        "edu_sal_df=pd.DataFrame(edu_sal)\n",
        "edu_sal_df = edu_sal_df.sort_values('MonthlyIncome', ascending=False)"
      ]
    },
    {
      "cell_type": "code",
      "execution_count": 57,
      "id": "c45dcb2e",
      "metadata": {
        "id": "c45dcb2e",
        "outputId": "0d6be9c3-31b3-411d-bbb3-c35350cdf80a",
        "colab": {
          "base_uri": "https://localhost:8080/",
          "height": 352
        }
      },
      "outputs": [
        {
          "output_type": "display_data",
          "data": {
            "text/plain": [
              "<Figure size 864x288 with 1 Axes>"
            ],
            "image/png": "[encoded data removed]"
          },
          "metadata": {}
        }
      ],
      "source": [
        "plt.figure(figsize=(12,4))\n",
        "fig = sns.barplot(y=edu_sal_df.index, x='MonthlyIncome', data=edu_sal_df, \n",
        "                  palette=sns.color_palette(\"flare\", n_colors=len(job_atr_df.index)), orient = 'h')\n",
        "fig.set_title('Monthly income per Education level',fontsize=18)\n",
        "fig.set_xlabel('Average Monthly income', fontsize=16)\n",
        "fig.set_ylabel('Education level', fontsize=16, position=(0,1), rotation=90)\n",
        "fig.yaxis.labelpad= 25\n",
        "plt.xticks(fontsize=12, rotation=0)\n",
        "plt.yticks(fontsize=12)\n",
        "\n",
        "plt.show()"
      ]
    },
    {
      "cell_type": "code",
      "execution_count": 58,
      "id": "96c8bdd9",
      "metadata": {
        "id": "96c8bdd9"
      },
      "outputs": [],
      "source": [
        "concat['Education'] = concat['Education'].replace([1, 2, 3, 4, 5], ['Below College','College', 'Bachelor', 'Master', 'Doctor'])"
      ]
    },
    {
      "cell_type": "markdown",
      "id": "6fa62b00",
      "metadata": {
        "id": "6fa62b00"
      },
      "source": [
        "People who got only bachelor degree are most likely yo leave."
      ]
    },
    {
      "cell_type": "code",
      "execution_count": 59,
      "id": "d1d5f57b",
      "metadata": {
        "id": "d1d5f57b",
        "outputId": "8037e906-61a6-4ca1-8341-2358f3abafb9",
        "colab": {
          "base_uri": "https://localhost:8080/",
          "height": 430
        }
      },
      "outputs": [
        {
          "output_type": "execute_result",
          "data": {
            "text/plain": [
              "Text(0.5, 1.0, 'Attrition by education')"
            ]
          },
          "metadata": {},
          "execution_count": 59
        },
        {
          "output_type": "display_data",
          "data": {
            "text/plain": [
              "<Figure size 720x432 with 1 Axes>"
            ],
            "image/png": "[encoded data removed]"
          },
          "metadata": {}
        }
      ],
      "source": [
        "plt.figure(figsize=(10,6))\n",
        "sns.set_theme(style=\"darkgrid\", font_scale = 1.1)\n",
        "sns.countplot(data=concat[(concat['Attrition'] == 1)], x='Education', palette='rocket').set_title('Attrition by education')"
      ]
    },
    {
      "cell_type": "markdown",
      "id": "7397cc2b",
      "metadata": {
        "id": "7397cc2b"
      },
      "source": [
        "### Is there a relation between employees who left and their department? Let's find out the department that contain the highest rate of attrition."
      ]
    },
    {
      "cell_type": "markdown",
      "id": "b706ce55",
      "metadata": {
        "id": "b706ce55"
      },
      "source": [
        "People working in sales, human resources and research are the most likely to leave the company than any other departments. People who work in management positions are more likely to remain in the company. "
      ]
    },
    {
      "cell_type": "code",
      "execution_count": 60,
      "id": "b2da7dd8",
      "metadata": {
        "id": "b2da7dd8"
      },
      "outputs": [],
      "source": [
        "# groupby by jobrole (to_frame and unstack it's not necessary, I did it this way because I was playing with dataframe and colors.)\n",
        "by_jobRole =concat.groupby(\"JobRole\")[\"Attrition\"].value_counts(normalize=True).to_frame().unstack()"
      ]
    },
    {
      "cell_type": "code",
      "execution_count": 61,
      "id": "35ebefbf",
      "metadata": {
        "id": "35ebefbf",
        "outputId": "5035ae1a-c3b6-482d-869f-370d27091b23",
        "colab": {
          "base_uri": "https://localhost:8080/",
          "height": 463
        }
      },
      "outputs": [
        {
          "output_type": "display_data",
          "data": {
            "text/plain": [
              "<Figure size 864x432 with 1 Axes>"
            ],
            "image/png": "[encoded data removed]"
          },
          "metadata": {}
        }
      ],
      "source": [
        "#plot\n",
        "plt.figure(figsize=(12,6))\n",
        "ax=sns.barplot(y=by_jobRole.index,x=('Attrition', 0),data=by_jobRole,color=\"#C0EDD2\",label=\"Atrition 0\")\n",
        "sns.barplot(y=by_jobRole.index,x=('Attrition', 1),data=by_jobRole,color=\"#FF0018\",label=\"Atrition 1\")\n",
        "\n",
        "\n",
        "plt.ylabel(\"\")\n",
        "plt.xlabel(\"Attrition, Percentage\")\n",
        "plt.grid(False)\n",
        "sns.despine()\n",
        "plt.legend()\n",
        "ax.text(0,-2,\"Job Roles and Attriction cases\",\n",
        "        fontsize=15,        \n",
        "         fontweight='bold') \n",
        "# with a loop I add the values to the graphic\n",
        "for num, text in zip(range(9),round(by_jobRole['Attrition', 1],2)):\n",
        "    ax.text(text, num, text)\n",
        "plt.show(block=False)"
      ]
    },
    {
      "cell_type": "markdown",
      "id": "2be367a4",
      "metadata": {
        "id": "2be367a4"
      },
      "source": [
        "### Business Travel"
      ]
    },
    {
      "cell_type": "code",
      "execution_count": 62,
      "id": "9b53bd38",
      "metadata": {
        "scrolled": true,
        "id": "9b53bd38",
        "outputId": "a5635b34-9115-48e6-be71-c991ad3418c9",
        "colab": {
          "base_uri": "https://localhost:8080/",
          "height": 348
        }
      },
      "outputs": [
        {
          "output_type": "display_data",
          "data": {
            "text/plain": [
              "<Figure size 576x360 with 1 Axes>"
            ],
            "image/png": "[encoded data removed]"
          },
          "metadata": {}
        }
      ],
      "source": [
        "plt.figure(figsize=(8,5))\n",
        "fig = sns.countplot(x='BusinessTravel', hue='Attrition', data=concat)\n",
        "sns.despine(left=True)\n",
        "fig.set_xlabel('BusinessTravel', fontsize=18)\n",
        "plt.xticks(fontsize=14)\n",
        "fig.set_ylabel('Attrition', fontsize=14, rotation=90)\n",
        "fig.yaxis.labelpad = 30\n",
        "plt.yticks(fontsize=14)\n",
        "for p in fig.patches:\n",
        "    x=p.get_bbox().get_points()[:,0]\n",
        "    y=p.get_bbox().get_points()[1,1]\n",
        "    fig.annotate('{:}'.format(p.get_height()), (x.mean(), y-150), ha='center', va='bottom', fontsize=14, color='white')\n",
        "plt.legend(labels =['Non Attrition','Attrition'],fontsize='large', bbox_to_anchor=(0.7, 0.9), loc=2, borderaxespad=0., frameon=0)\n",
        "plt.show()"
      ]
    },
    {
      "cell_type": "code",
      "execution_count": 63,
      "id": "91d92845",
      "metadata": {
        "id": "91d92845",
        "outputId": "b8c003ba-8364-4177-aa32-7ca87fb24ed5",
        "colab": {
          "base_uri": "https://localhost:8080/",
          "height": 400
        }
      },
      "outputs": [
        {
          "output_type": "display_data",
          "data": {
            "text/plain": [
              "<Figure size 864x432 with 1 Axes>"
            ],
            "image/png": "[encoded data removed]"
          },
          "metadata": {}
        }
      ],
      "source": [
        "plt.figure(figsize=(12,6))\n",
        "fig = sns.countplot(x='StockOptionLevel', hue='Attrition', data=concat)\n",
        "sns.despine(left=True)\n",
        "fig.set_xlabel('StockOptionLevel', fontsize=16)\n",
        "plt.xticks(fontsize=14)\n",
        "fig.set_ylabel('Attrition', fontsize=16, rotation=90)\n",
        "fig.yaxis.labelpad = 30\n",
        "plt.yticks(fontsize=14)\n",
        "for p in fig.patches:\n",
        "    x=p.get_bbox().get_points()[:,0]\n",
        "    y=p.get_bbox().get_points()[1,1]\n",
        "    fig.annotate('{:}'.format(p.get_height()), (x.mean(), y-50), ha='center', va='bottom', fontsize=14, color='white')\n",
        "plt.legend(labels =['Non Attrition','Attrition'],fontsize='large', bbox_to_anchor=(0.7, 0.9), loc=2, borderaxespad=0., frameon=0)\n",
        "plt.show()"
      ]
    },
    {
      "cell_type": "markdown",
      "id": "0034cd43",
      "metadata": {
        "id": "0034cd43"
      },
      "source": [
        "### Would working for same manager for several years affect the monthly income?"
      ]
    },
    {
      "cell_type": "markdown",
      "id": "a9eecff2",
      "metadata": {
        "id": "a9eecff2"
      },
      "source": [
        "Being with the same manager for several years increase monthly income"
      ]
    },
    {
      "cell_type": "code",
      "execution_count": 64,
      "id": "2aa304f3",
      "metadata": {
        "id": "2aa304f3",
        "outputId": "5b04d50b-23b3-4ef5-8d01-90c7f412ef35",
        "colab": {
          "base_uri": "https://localhost:8080/",
          "height": 375
        }
      },
      "outputs": [
        {
          "output_type": "execute_result",
          "data": {
            "text/plain": [
              "Text(0.5, 1.0, 'YearsWithCurrManager VS. Monthly Income')"
            ]
          },
          "metadata": {},
          "execution_count": 64
        },
        {
          "output_type": "display_data",
          "data": {
            "text/plain": [
              "<Figure size 720x360 with 1 Axes>"
            ],
            "image/png": "[encoded data removed]"
          },
          "metadata": {}
        }
      ],
      "source": [
        "plt.figure(figsize=(10,5))\n",
        "sns.boxplot(x=concat[\"YearsWithCurrManager\"],y=concat[\"MonthlyIncome\"])\n",
        "plt.title(\"YearsWithCurrManager VS. Monthly Income\")"
      ]
    },
    {
      "cell_type": "markdown",
      "id": "9aa485de",
      "metadata": {
        "id": "9aa485de"
      },
      "source": [
        "### Comparing satisfaction for both who left and still employeed"
      ]
    },
    {
      "cell_type": "code",
      "execution_count": 65,
      "id": "8299f418",
      "metadata": {
        "id": "8299f418",
        "outputId": "04ff4284-c7c9-44a6-8e18-8b4f6b42f116",
        "colab": {
          "base_uri": "https://localhost:8080/",
          "height": 352
        }
      },
      "outputs": [
        {
          "output_type": "execute_result",
          "data": {
            "text/plain": [
              "    EmployeeNumber   Age     BusinessTravel  DailyRate  \\\n",
              "5             1467  34.0      Travel_Rarely     1107.0   \n",
              "8              555  34.0  Travel_Frequently      296.0   \n",
              "12              42  39.0      Travel_Rarely      895.0   \n",
              "15            1624  18.0  Travel_Frequently      544.0   \n",
              "18             514  30.0  Travel_Frequently      464.0   \n",
              "\n",
              "                Department  DistanceFromHome Education    EducationField  \\\n",
              "5          Human Resources               9.0    Master  Technical Degree   \n",
              "8                    Sales               6.0   College         Marketing   \n",
              "12                   Sales               5.0  Bachelor  Technical Degree   \n",
              "15                   Sales               3.0   College           Medical   \n",
              "18  Research & Development               4.0  Bachelor  Technical Degree   \n",
              "\n",
              "    EnvironmentSatisfaction  Gender  ...  StockOptionLevel  TotalWorkingYears  \\\n",
              "5                       1.0  Female  ...               0.0                2.0   \n",
              "8                       4.0  Female  ...               1.0                3.0   \n",
              "12                      4.0    Male  ...               1.0               19.0   \n",
              "15                      2.0  Female  ...               0.0                0.0   \n",
              "18                      3.0    Male  ...               0.0                3.0   \n",
              "\n",
              "    TrainingTimesLastYear WorkLifeBalance  YearsAtCompany YearsInCurrentRole  \\\n",
              "5                     0.0             3.0             2.0                2.0   \n",
              "8                     3.0             2.0             2.0                2.0   \n",
              "12                    6.0             4.0             1.0                0.0   \n",
              "15                    2.0             4.0             0.0                0.0   \n",
              "18                    4.0             3.0             1.0                0.0   \n",
              "\n",
              "    YearsSinceLastPromotion  YearsWithCurrManager  Attrition  YearlyIncome  \n",
              "5                       2.0                   2.0          1       32904.0  \n",
              "8                       1.0                   0.0          1       28212.0  \n",
              "12                      0.0                   0.0          1       25032.0  \n",
              "15                      0.0                   0.0          1       18828.0  \n",
              "18                      0.0                   0.0          1       27420.0  \n",
              "\n",
              "[5 rows x 34 columns]"
            ],
            "text/html": [
              "\n",
              "  <div id=\"df-c06f49aa-fa05-467a-9195-8e26717627e0\">\n",
              "    <div class=\"colab-df-container\">\n",
              "      <div>\n",
              "<style scoped>\n",
              "    .dataframe tbody tr th:only-of-type {\n",
              "        vertical-align: middle;\n",
              "    }\n",
              "\n",
              "    .dataframe tbody tr th {\n",
              "        vertical-align: top;\n",
              "    }\n",
              "\n",
              "    .dataframe thead th {\n",
              "        text-align: right;\n",
              "    }\n",
              "</style>\n",
              "<table border=\"1\" class=\"dataframe\">\n",
              "  <thead>\n",
              "    <tr style=\"text-align: right;\">\n",
              "      <th></th>\n",
              "      <th>EmployeeNumber</th>\n",
              "      <th>Age</th>\n",
              "      <th>BusinessTravel</th>\n",
              "      <th>DailyRate</th>\n",
              "      <th>Department</th>\n",
              "      <th>DistanceFromHome</th>\n",
              "      <th>Education</th>\n",
              "      <th>EducationField</th>\n",
              "      <th>EnvironmentSatisfaction</th>\n",
              "      <th>Gender</th>\n",
              "      <th>...</th>\n",
              "      <th>StockOptionLevel</th>\n",
              "      <th>TotalWorkingYears</th>\n",
              "      <th>TrainingTimesLastYear</th>\n",
              "      <th>WorkLifeBalance</th>\n",
              "      <th>YearsAtCompany</th>\n",
              "      <th>YearsInCurrentRole</th>\n",
              "      <th>YearsSinceLastPromotion</th>\n",
              "      <th>YearsWithCurrManager</th>\n",
              "      <th>Attrition</th>\n",
              "      <th>YearlyIncome</th>\n",
              "    </tr>\n",
              "  </thead>\n",
              "  <tbody>\n",
              "    <tr>\n",
              "      <th>5</th>\n",
              "      <td>1467</td>\n",
              "      <td>34.0</td>\n",
              "      <td>Travel_Rarely</td>\n",
              "      <td>1107.0</td>\n",
              "      <td>Human Resources</td>\n",
              "      <td>9.0</td>\n",
              "      <td>Master</td>\n",
              "      <td>Technical Degree</td>\n",
              "      <td>1.0</td>\n",
              "      <td>Female</td>\n",
              "      <td>...</td>\n",
              "      <td>0.0</td>\n",
              "      <td>2.0</td>\n",
              "      <td>0.0</td>\n",
              "      <td>3.0</td>\n",
              "      <td>2.0</td>\n",
              "      <td>2.0</td>\n",
              "      <td>2.0</td>\n",
              "      <td>2.0</td>\n",
              "      <td>1</td>\n",
              "      <td>32904.0</td>\n",
              "    </tr>\n",
              "    <tr>\n",
              "      <th>8</th>\n",
              "      <td>555</td>\n",
              "      <td>34.0</td>\n",
              "      <td>Travel_Frequently</td>\n",
              "      <td>296.0</td>\n",
              "      <td>Sales</td>\n",
              "      <td>6.0</td>\n",
              "      <td>College</td>\n",
              "      <td>Marketing</td>\n",
              "      <td>4.0</td>\n",
              "      <td>Female</td>\n",
              "      <td>...</td>\n",
              "      <td>1.0</td>\n",
              "      <td>3.0</td>\n",
              "      <td>3.0</td>\n",
              "      <td>2.0</td>\n",
              "      <td>2.0</td>\n",
              "      <td>2.0</td>\n",
              "      <td>1.0</td>\n",
              "      <td>0.0</td>\n",
              "      <td>1</td>\n",
              "      <td>28212.0</td>\n",
              "    </tr>\n",
              "    <tr>\n",
              "      <th>12</th>\n",
              "      <td>42</td>\n",
              "      <td>39.0</td>\n",
              "      <td>Travel_Rarely</td>\n",
              "      <td>895.0</td>\n",
              "      <td>Sales</td>\n",
              "      <td>5.0</td>\n",
              "      <td>Bachelor</td>\n",
              "      <td>Technical Degree</td>\n",
              "      <td>4.0</td>\n",
              "      <td>Male</td>\n",
              "      <td>...</td>\n",
              "      <td>1.0</td>\n",
              "      <td>19.0</td>\n",
              "      <td>6.0</td>\n",
              "      <td>4.0</td>\n",
              "      <td>1.0</td>\n",
              "      <td>0.0</td>\n",
              "      <td>0.0</td>\n",
              "      <td>0.0</td>\n",
              "      <td>1</td>\n",
              "      <td>25032.0</td>\n",
              "    </tr>\n",
              "    <tr>\n",
              "      <th>15</th>\n",
              "      <td>1624</td>\n",
              "      <td>18.0</td>\n",
              "      <td>Travel_Frequently</td>\n",
              "      <td>544.0</td>\n",
              "      <td>Sales</td>\n",
              "      <td>3.0</td>\n",
              "      <td>College</td>\n",
              "      <td>Medical</td>\n",
              "      <td>2.0</td>\n",
              "      <td>Female</td>\n",
              "      <td>...</td>\n",
              "      <td>0.0</td>\n",
              "      <td>0.0</td>\n",
              "      <td>2.0</td>\n",
              "      <td>4.0</td>\n",
              "      <td>0.0</td>\n",
              "      <td>0.0</td>\n",
              "      <td>0.0</td>\n",
              "      <td>0.0</td>\n",
              "      <td>1</td>\n",
              "      <td>18828.0</td>\n",
              "    </tr>\n",
              "    <tr>\n",
              "      <th>18</th>\n",
              "      <td>514</td>\n",
              "      <td>30.0</td>\n",
              "      <td>Travel_Frequently</td>\n",
              "      <td>464.0</td>\n",
              "      <td>Research &amp; Development</td>\n",
              "      <td>4.0</td>\n",
              "      <td>Bachelor</td>\n",
              "      <td>Technical Degree</td>\n",
              "      <td>3.0</td>\n",
              "      <td>Male</td>\n",
              "      <td>...</td>\n",
              "      <td>0.0</td>\n",
              "      <td>3.0</td>\n",
              "      <td>4.0</td>\n",
              "      <td>3.0</td>\n",
              "      <td>1.0</td>\n",
              "      <td>0.0</td>\n",
              "      <td>0.0</td>\n",
              "      <td>0.0</td>\n",
              "      <td>1</td>\n",
              "      <td>27420.0</td>\n",
              "    </tr>\n",
              "  </tbody>\n",
              "</table>\n",
              "<p>5 rows × 34 columns</p>\n",
              "</div>\n",
              "      <button class=\"colab-df-convert\" onclick=\"convertToInteractive('df-c06f49aa-fa05-467a-9195-8e26717627e0')\"\n",
              "              title=\"Convert this dataframe to an interactive table.\"\n",
              "              style=\"display:none;\">\n",
              "        \n",
              "  <svg xmlns=\"http://www.w3.org/2000/svg\" height=\"24px\"viewBox=\"0 0 24 24\"\n",
              "       width=\"24px\">\n",
              "    <path d=\"M0 0h24v24H0V0z\" fill=\"none\"/>\n",
              "    <path d=\"M18.56 5.44l.94 2.06.94-2.06 2.06-.94-2.06-.94-.94-2.06-.94 2.06-2.06.94zm-11 1L8.5 8.5l.94-2.06 2.06-.94-2.06-.94L8.5 2.5l-.94 2.06-2.06.94zm10 10l.94 2.06.94-2.06 2.06-.94-2.06-.94-.94-2.06-.94 2.06-2.06.94z\"/><path d=\"M17.41 7.96l-1.37-1.37c-.4-.4-.92-.59-1.43-.59-.52 0-1.04.2-1.43.59L10.3 9.45l-7.72 7.72c-.78.78-.78 2.05 0 2.83L4 21.41c.39.39.9.59 1.41.59.51 0 1.02-.2 1.41-.59l7.78-7.78 2.81-2.81c.8-.78.8-2.07 0-2.86zM5.41 20L4 18.59l7.72-7.72 1.47 1.35L5.41 20z\"/>\n",
              "  </svg>\n",
              "      </button>\n",
              "      \n",
              "  <style>\n",
              "    .colab-df-container {\n",
              "      display:flex;\n",
              "      flex-wrap:wrap;\n",
              "      gap: 12px;\n",
              "    }\n",
              "\n",
              "    .colab-df-convert {\n",
              "      background-color: #E8F0FE;\n",
              "      border: none;\n",
              "      border-radius: 50%;\n",
              "      cursor: pointer;\n",
              "      display: none;\n",
              "      fill: #1967D2;\n",
              "      height: 32px;\n",
              "      padding: 0 0 0 0;\n",
              "      width: 32px;\n",
              "    }\n",
              "\n",
              "    .colab-df-convert:hover {\n",
              "      background-color: #E2EBFA;\n",
              "      box-shadow: 0px 1px 2px rgba(60, 64, 67, 0.3), 0px 1px 3px 1px rgba(60, 64, 67, 0.15);\n",
              "      fill: #174EA6;\n",
              "    }\n",
              "\n",
              "    [theme=dark] .colab-df-convert {\n",
              "      background-color: #3B4455;\n",
              "      fill: #D2E3FC;\n",
              "    }\n",
              "\n",
              "    [theme=dark] .colab-df-convert:hover {\n",
              "      background-color: #434B5C;\n",
              "      box-shadow: 0px 1px 3px 1px rgba(0, 0, 0, 0.15);\n",
              "      filter: drop-shadow(0px 1px 2px rgba(0, 0, 0, 0.3));\n",
              "      fill: #FFFFFF;\n",
              "    }\n",
              "  </style>\n",
              "\n",
              "      <script>\n",
              "        const buttonEl =\n",
              "          document.querySelector('#df-c06f49aa-fa05-467a-9195-8e26717627e0 button.colab-df-convert');\n",
              "        buttonEl.style.display =\n",
              "          google.colab.kernel.accessAllowed ? 'block' : 'none';\n",
              "\n",
              "        async function convertToInteractive(key) {\n",
              "          const element = document.querySelector('#df-c06f49aa-fa05-467a-9195-8e26717627e0');\n",
              "          const dataTable =\n",
              "            await google.colab.kernel.invokeFunction('convertToInteractive',\n",
              "                                                     [key], {});\n",
              "          if (!dataTable) return;\n",
              "\n",
              "          const docLinkHtml = 'Like what you see? Visit the ' +\n",
              "            '<a target=\"_blank\" href=https://colab.research.google.com/notebooks/data_table.ipynb>data table notebook</a>'\n",
              "            + ' to learn more about interactive tables.';\n",
              "          element.innerHTML = '';\n",
              "          dataTable['output_type'] = 'display_data';\n",
              "          await google.colab.output.renderOutput(dataTable, element);\n",
              "          const docLink = document.createElement('div');\n",
              "          docLink.innerHTML = docLinkHtml;\n",
              "          element.appendChild(docLink);\n",
              "        }\n",
              "      </script>\n",
              "    </div>\n",
              "  </div>\n",
              "  "
            ]
          },
          "metadata": {},
          "execution_count": 65
        }
      ],
      "source": [
        "#employees who left the company\n",
        "employee_left = concat.loc[concat['Attrition'] == 1]\n",
        "employee_left.head()"
      ]
    },
    {
      "cell_type": "code",
      "execution_count": 66,
      "id": "71628588",
      "metadata": {
        "id": "71628588",
        "outputId": "ab907e20-f70c-4f2e-f652-443c39d0b8fb",
        "colab": {
          "base_uri": "https://localhost:8080/",
          "height": 300
        }
      },
      "outputs": [
        {
          "output_type": "execute_result",
          "data": {
            "text/plain": [
              "       JobSatisfaction  RelationshipSatisfaction  EnvironmentSatisfaction  \\\n",
              "count       904.000000                904.000000               904.000000   \n",
              "mean          2.617257                  2.748894                 2.654867   \n",
              "std           1.100473                  1.102699                 1.083613   \n",
              "min           1.000000                  1.000000                 1.000000   \n",
              "25%           2.000000                  2.000000                 2.000000   \n",
              "50%           3.000000                  3.000000                 3.000000   \n",
              "75%           4.000000                  4.000000                 4.000000   \n",
              "max           4.000000                  4.000000                 4.000000   \n",
              "\n",
              "       WorkLifeBalance  \n",
              "count       904.000000  \n",
              "mean          2.769912  \n",
              "std           0.730707  \n",
              "min           1.000000  \n",
              "25%           2.000000  \n",
              "50%           3.000000  \n",
              "75%           3.000000  \n",
              "max           4.000000  "
            ],
            "text/html": [
              "\n",
              "  <div id=\"df-5cfcfb31-aa30-4896-a32d-b3fb7a298e9e\">\n",
              "    <div class=\"colab-df-container\">\n",
              "      <div>\n",
              "<style scoped>\n",
              "    .dataframe tbody tr th:only-of-type {\n",
              "        vertical-align: middle;\n",
              "    }\n",
              "\n",
              "    .dataframe tbody tr th {\n",
              "        vertical-align: top;\n",
              "    }\n",
              "\n",
              "    .dataframe thead th {\n",
              "        text-align: right;\n",
              "    }\n",
              "</style>\n",
              "<table border=\"1\" class=\"dataframe\">\n",
              "  <thead>\n",
              "    <tr style=\"text-align: right;\">\n",
              "      <th></th>\n",
              "      <th>JobSatisfaction</th>\n",
              "      <th>RelationshipSatisfaction</th>\n",
              "      <th>EnvironmentSatisfaction</th>\n",
              "      <th>WorkLifeBalance</th>\n",
              "    </tr>\n",
              "  </thead>\n",
              "  <tbody>\n",
              "    <tr>\n",
              "      <th>count</th>\n",
              "      <td>904.000000</td>\n",
              "      <td>904.000000</td>\n",
              "      <td>904.000000</td>\n",
              "      <td>904.000000</td>\n",
              "    </tr>\n",
              "    <tr>\n",
              "      <th>mean</th>\n",
              "      <td>2.617257</td>\n",
              "      <td>2.748894</td>\n",
              "      <td>2.654867</td>\n",
              "      <td>2.769912</td>\n",
              "    </tr>\n",
              "    <tr>\n",
              "      <th>std</th>\n",
              "      <td>1.100473</td>\n",
              "      <td>1.102699</td>\n",
              "      <td>1.083613</td>\n",
              "      <td>0.730707</td>\n",
              "    </tr>\n",
              "    <tr>\n",
              "      <th>min</th>\n",
              "      <td>1.000000</td>\n",
              "      <td>1.000000</td>\n",
              "      <td>1.000000</td>\n",
              "      <td>1.000000</td>\n",
              "    </tr>\n",
              "    <tr>\n",
              "      <th>25%</th>\n",
              "      <td>2.000000</td>\n",
              "      <td>2.000000</td>\n",
              "      <td>2.000000</td>\n",
              "      <td>2.000000</td>\n",
              "    </tr>\n",
              "    <tr>\n",
              "      <th>50%</th>\n",
              "      <td>3.000000</td>\n",
              "      <td>3.000000</td>\n",
              "      <td>3.000000</td>\n",
              "      <td>3.000000</td>\n",
              "    </tr>\n",
              "    <tr>\n",
              "      <th>75%</th>\n",
              "      <td>4.000000</td>\n",
              "      <td>4.000000</td>\n",
              "      <td>4.000000</td>\n",
              "      <td>3.000000</td>\n",
              "    </tr>\n",
              "    <tr>\n",
              "      <th>max</th>\n",
              "      <td>4.000000</td>\n",
              "      <td>4.000000</td>\n",
              "      <td>4.000000</td>\n",
              "      <td>4.000000</td>\n",
              "    </tr>\n",
              "  </tbody>\n",
              "</table>\n",
              "</div>\n",
              "      <button class=\"colab-df-convert\" onclick=\"convertToInteractive('df-5cfcfb31-aa30-4896-a32d-b3fb7a298e9e')\"\n",
              "              title=\"Convert this dataframe to an interactive table.\"\n",
              "              style=\"display:none;\">\n",
              "        \n",
              "  <svg xmlns=\"http://www.w3.org/2000/svg\" height=\"24px\"viewBox=\"0 0 24 24\"\n",
              "       width=\"24px\">\n",
              "    <path d=\"M0 0h24v24H0V0z\" fill=\"none\"/>\n",
              "    <path d=\"M18.56 5.44l.94 2.06.94-2.06 2.06-.94-2.06-.94-.94-2.06-.94 2.06-2.06.94zm-11 1L8.5 8.5l.94-2.06 2.06-.94-2.06-.94L8.5 2.5l-.94 2.06-2.06.94zm10 10l.94 2.06.94-2.06 2.06-.94-2.06-.94-.94-2.06-.94 2.06-2.06.94z\"/><path d=\"M17.41 7.96l-1.37-1.37c-.4-.4-.92-.59-1.43-.59-.52 0-1.04.2-1.43.59L10.3 9.45l-7.72 7.72c-.78.78-.78 2.05 0 2.83L4 21.41c.39.39.9.59 1.41.59.51 0 1.02-.2 1.41-.59l7.78-7.78 2.81-2.81c.8-.78.8-2.07 0-2.86zM5.41 20L4 18.59l7.72-7.72 1.47 1.35L5.41 20z\"/>\n",
              "  </svg>\n",
              "      </button>\n",
              "      \n",
              "  <style>\n",
              "    .colab-df-container {\n",
              "      display:flex;\n",
              "      flex-wrap:wrap;\n",
              "      gap: 12px;\n",
              "    }\n",
              "\n",
              "    .colab-df-convert {\n",
              "      background-color: #E8F0FE;\n",
              "      border: none;\n",
              "      border-radius: 50%;\n",
              "      cursor: pointer;\n",
              "      display: none;\n",
              "      fill: #1967D2;\n",
              "      height: 32px;\n",
              "      padding: 0 0 0 0;\n",
              "      width: 32px;\n",
              "    }\n",
              "\n",
              "    .colab-df-convert:hover {\n",
              "      background-color: #E2EBFA;\n",
              "      box-shadow: 0px 1px 2px rgba(60, 64, 67, 0.3), 0px 1px 3px 1px rgba(60, 64, 67, 0.15);\n",
              "      fill: #174EA6;\n",
              "    }\n",
              "\n",
              "    [theme=dark] .colab-df-convert {\n",
              "      background-color: #3B4455;\n",
              "      fill: #D2E3FC;\n",
              "    }\n",
              "\n",
              "    [theme=dark] .colab-df-convert:hover {\n",
              "      background-color: #434B5C;\n",
              "      box-shadow: 0px 1px 3px 1px rgba(0, 0, 0, 0.15);\n",
              "      filter: drop-shadow(0px 1px 2px rgba(0, 0, 0, 0.3));\n",
              "      fill: #FFFFFF;\n",
              "    }\n",
              "  </style>\n",
              "\n",
              "      <script>\n",
              "        const buttonEl =\n",
              "          document.querySelector('#df-5cfcfb31-aa30-4896-a32d-b3fb7a298e9e button.colab-df-convert');\n",
              "        buttonEl.style.display =\n",
              "          google.colab.kernel.accessAllowed ? 'block' : 'none';\n",
              "\n",
              "        async function convertToInteractive(key) {\n",
              "          const element = document.querySelector('#df-5cfcfb31-aa30-4896-a32d-b3fb7a298e9e');\n",
              "          const dataTable =\n",
              "            await google.colab.kernel.invokeFunction('convertToInteractive',\n",
              "                                                     [key], {});\n",
              "          if (!dataTable) return;\n",
              "\n",
              "          const docLinkHtml = 'Like what you see? Visit the ' +\n",
              "            '<a target=\"_blank\" href=https://colab.research.google.com/notebooks/data_table.ipynb>data table notebook</a>'\n",
              "            + ' to learn more about interactive tables.';\n",
              "          element.innerHTML = '';\n",
              "          dataTable['output_type'] = 'display_data';\n",
              "          await google.colab.output.renderOutput(dataTable, element);\n",
              "          const docLink = document.createElement('div');\n",
              "          docLink.innerHTML = docLinkHtml;\n",
              "          element.appendChild(docLink);\n",
              "        }\n",
              "      </script>\n",
              "    </div>\n",
              "  </div>\n",
              "  "
            ]
          },
          "metadata": {},
          "execution_count": 66
        }
      ],
      "source": [
        "#satisfaction for those who left\n",
        "dfsatisfactionY = employee_left[['JobSatisfaction', 'RelationshipSatisfaction', 'EnvironmentSatisfaction', 'WorkLifeBalance']]\n",
        "dfsatisfactionY.describe()"
      ]
    },
    {
      "cell_type": "code",
      "execution_count": 67,
      "id": "0109784a",
      "metadata": {
        "id": "0109784a",
        "outputId": "00ed8d7a-479d-45c6-b077-756ef409d35b",
        "colab": {
          "base_uri": "https://localhost:8080/",
          "height": 386
        }
      },
      "outputs": [
        {
          "output_type": "execute_result",
          "data": {
            "text/plain": [
              "   EmployeeNumber   Age BusinessTravel  DailyRate              Department  \\\n",
              "0             104  30.0  Travel_Rarely      852.0  Research & Development   \n",
              "1            1638  38.0  Travel_Rarely      397.0  Research & Development   \n",
              "2             164  26.0  Travel_Rarely      841.0  Research & Development   \n",
              "3             395  28.0  Travel_Rarely     1117.0  Research & Development   \n",
              "4              53  35.0  Travel_Rarely      464.0  Research & Development   \n",
              "\n",
              "   DistanceFromHome      Education EducationField  EnvironmentSatisfaction  \\\n",
              "0               1.0  Below College  Life Sciences                      4.0   \n",
              "1               2.0        College        Medical                      4.0   \n",
              "2               6.0       Bachelor          Other                      3.0   \n",
              "3               8.0        College  Life Sciences                      4.0   \n",
              "4               4.0        College          Other                      3.0   \n",
              "\n",
              "   Gender  ...  StockOptionLevel  TotalWorkingYears  TrainingTimesLastYear  \\\n",
              "0    Male  ...               2.0               10.0                    1.0   \n",
              "1  Female  ...               1.0               10.0                    6.0   \n",
              "2  Female  ...               0.0                5.0                    3.0   \n",
              "3  Female  ...               0.0                5.0                    3.0   \n",
              "4    Male  ...               1.0                1.0                    3.0   \n",
              "\n",
              "  WorkLifeBalance  YearsAtCompany YearsInCurrentRole  YearsSinceLastPromotion  \\\n",
              "0             2.0            10.0                8.0                      3.0   \n",
              "1             4.0             5.0                4.0                      0.0   \n",
              "2             2.0             5.0                4.0                      4.0   \n",
              "3             3.0             5.0                3.0                      0.0   \n",
              "4             3.0             1.0                0.0                      0.0   \n",
              "\n",
              "   YearsWithCurrManager  Attrition  YearlyIncome  \n",
              "0                   0.0          0       61512.0  \n",
              "1                   2.0          0       93072.0  \n",
              "2                   3.0          0       28416.0  \n",
              "3                   2.0          0       39720.0  \n",
              "4                   0.0          0       23412.0  \n",
              "\n",
              "[5 rows x 34 columns]"
            ],
            "text/html": [
              "\n",
              "  <div id=\"df-1e3e2f8e-ca20-4065-9a53-41705523bb12\">\n",
              "    <div class=\"colab-df-container\">\n",
              "      <div>\n",
              "<style scoped>\n",
              "    .dataframe tbody tr th:only-of-type {\n",
              "        vertical-align: middle;\n",
              "    }\n",
              "\n",
              "    .dataframe tbody tr th {\n",
              "        vertical-align: top;\n",
              "    }\n",
              "\n",
              "    .dataframe thead th {\n",
              "        text-align: right;\n",
              "    }\n",
              "</style>\n",
              "<table border=\"1\" class=\"dataframe\">\n",
              "  <thead>\n",
              "    <tr style=\"text-align: right;\">\n",
              "      <th></th>\n",
              "      <th>EmployeeNumber</th>\n",
              "      <th>Age</th>\n",
              "      <th>BusinessTravel</th>\n",
              "      <th>DailyRate</th>\n",
              "      <th>Department</th>\n",
              "      <th>DistanceFromHome</th>\n",
              "      <th>Education</th>\n",
              "      <th>EducationField</th>\n",
              "      <th>EnvironmentSatisfaction</th>\n",
              "      <th>Gender</th>\n",
              "      <th>...</th>\n",
              "      <th>StockOptionLevel</th>\n",
              "      <th>TotalWorkingYears</th>\n",
              "      <th>TrainingTimesLastYear</th>\n",
              "      <th>WorkLifeBalance</th>\n",
              "      <th>YearsAtCompany</th>\n",
              "      <th>YearsInCurrentRole</th>\n",
              "      <th>YearsSinceLastPromotion</th>\n",
              "      <th>YearsWithCurrManager</th>\n",
              "      <th>Attrition</th>\n",
              "      <th>YearlyIncome</th>\n",
              "    </tr>\n",
              "  </thead>\n",
              "  <tbody>\n",
              "    <tr>\n",
              "      <th>0</th>\n",
              "      <td>104</td>\n",
              "      <td>30.0</td>\n",
              "      <td>Travel_Rarely</td>\n",
              "      <td>852.0</td>\n",
              "      <td>Research &amp; Development</td>\n",
              "      <td>1.0</td>\n",
              "      <td>Below College</td>\n",
              "      <td>Life Sciences</td>\n",
              "      <td>4.0</td>\n",
              "      <td>Male</td>\n",
              "      <td>...</td>\n",
              "      <td>2.0</td>\n",
              "      <td>10.0</td>\n",
              "      <td>1.0</td>\n",
              "      <td>2.0</td>\n",
              "      <td>10.0</td>\n",
              "      <td>8.0</td>\n",
              "      <td>3.0</td>\n",
              "      <td>0.0</td>\n",
              "      <td>0</td>\n",
              "      <td>61512.0</td>\n",
              "    </tr>\n",
              "    <tr>\n",
              "      <th>1</th>\n",
              "      <td>1638</td>\n",
              "      <td>38.0</td>\n",
              "      <td>Travel_Rarely</td>\n",
              "      <td>397.0</td>\n",
              "      <td>Research &amp; Development</td>\n",
              "      <td>2.0</td>\n",
              "      <td>College</td>\n",
              "      <td>Medical</td>\n",
              "      <td>4.0</td>\n",
              "      <td>Female</td>\n",
              "      <td>...</td>\n",
              "      <td>1.0</td>\n",
              "      <td>10.0</td>\n",
              "      <td>6.0</td>\n",
              "      <td>4.0</td>\n",
              "      <td>5.0</td>\n",
              "      <td>4.0</td>\n",
              "      <td>0.0</td>\n",
              "      <td>2.0</td>\n",
              "      <td>0</td>\n",
              "      <td>93072.0</td>\n",
              "    </tr>\n",
              "    <tr>\n",
              "      <th>2</th>\n",
              "      <td>164</td>\n",
              "      <td>26.0</td>\n",
              "      <td>Travel_Rarely</td>\n",
              "      <td>841.0</td>\n",
              "      <td>Research &amp; Development</td>\n",
              "      <td>6.0</td>\n",
              "      <td>Bachelor</td>\n",
              "      <td>Other</td>\n",
              "      <td>3.0</td>\n",
              "      <td>Female</td>\n",
              "      <td>...</td>\n",
              "      <td>0.0</td>\n",
              "      <td>5.0</td>\n",
              "      <td>3.0</td>\n",
              "      <td>2.0</td>\n",
              "      <td>5.0</td>\n",
              "      <td>4.0</td>\n",
              "      <td>4.0</td>\n",
              "      <td>3.0</td>\n",
              "      <td>0</td>\n",
              "      <td>28416.0</td>\n",
              "    </tr>\n",
              "    <tr>\n",
              "      <th>3</th>\n",
              "      <td>395</td>\n",
              "      <td>28.0</td>\n",
              "      <td>Travel_Rarely</td>\n",
              "      <td>1117.0</td>\n",
              "      <td>Research &amp; Development</td>\n",
              "      <td>8.0</td>\n",
              "      <td>College</td>\n",
              "      <td>Life Sciences</td>\n",
              "      <td>4.0</td>\n",
              "      <td>Female</td>\n",
              "      <td>...</td>\n",
              "      <td>0.0</td>\n",
              "      <td>5.0</td>\n",
              "      <td>3.0</td>\n",
              "      <td>3.0</td>\n",
              "      <td>5.0</td>\n",
              "      <td>3.0</td>\n",
              "      <td>0.0</td>\n",
              "      <td>2.0</td>\n",
              "      <td>0</td>\n",
              "      <td>39720.0</td>\n",
              "    </tr>\n",
              "    <tr>\n",
              "      <th>4</th>\n",
              "      <td>53</td>\n",
              "      <td>35.0</td>\n",
              "      <td>Travel_Rarely</td>\n",
              "      <td>464.0</td>\n",
              "      <td>Research &amp; Development</td>\n",
              "      <td>4.0</td>\n",
              "      <td>College</td>\n",
              "      <td>Other</td>\n",
              "      <td>3.0</td>\n",
              "      <td>Male</td>\n",
              "      <td>...</td>\n",
              "      <td>1.0</td>\n",
              "      <td>1.0</td>\n",
              "      <td>3.0</td>\n",
              "      <td>3.0</td>\n",
              "      <td>1.0</td>\n",
              "      <td>0.0</td>\n",
              "      <td>0.0</td>\n",
              "      <td>0.0</td>\n",
              "      <td>0</td>\n",
              "      <td>23412.0</td>\n",
              "    </tr>\n",
              "  </tbody>\n",
              "</table>\n",
              "<p>5 rows × 34 columns</p>\n",
              "</div>\n",
              "      <button class=\"colab-df-convert\" onclick=\"convertToInteractive('df-1e3e2f8e-ca20-4065-9a53-41705523bb12')\"\n",
              "              title=\"Convert this dataframe to an interactive table.\"\n",
              "              style=\"display:none;\">\n",
              "        \n",
              "  <svg xmlns=\"http://www.w3.org/2000/svg\" height=\"24px\"viewBox=\"0 0 24 24\"\n",
              "       width=\"24px\">\n",
              "    <path d=\"M0 0h24v24H0V0z\" fill=\"none\"/>\n",
              "    <path d=\"M18.56 5.44l.94 2.06.94-2.06 2.06-.94-2.06-.94-.94-2.06-.94 2.06-2.06.94zm-11 1L8.5 8.5l.94-2.06 2.06-.94-2.06-.94L8.5 2.5l-.94 2.06-2.06.94zm10 10l.94 2.06.94-2.06 2.06-.94-2.06-.94-.94-2.06-.94 2.06-2.06.94z\"/><path d=\"M17.41 7.96l-1.37-1.37c-.4-.4-.92-.59-1.43-.59-.52 0-1.04.2-1.43.59L10.3 9.45l-7.72 7.72c-.78.78-.78 2.05 0 2.83L4 21.41c.39.39.9.59 1.41.59.51 0 1.02-.2 1.41-.59l7.78-7.78 2.81-2.81c.8-.78.8-2.07 0-2.86zM5.41 20L4 18.59l7.72-7.72 1.47 1.35L5.41 20z\"/>\n",
              "  </svg>\n",
              "      </button>\n",
              "      \n",
              "  <style>\n",
              "    .colab-df-container {\n",
              "      display:flex;\n",
              "      flex-wrap:wrap;\n",
              "      gap: 12px;\n",
              "    }\n",
              "\n",
              "    .colab-df-convert {\n",
              "      background-color: #E8F0FE;\n",
              "      border: none;\n",
              "      border-radius: 50%;\n",
              "      cursor: pointer;\n",
              "      display: none;\n",
              "      fill: #1967D2;\n",
              "      height: 32px;\n",
              "      padding: 0 0 0 0;\n",
              "      width: 32px;\n",
              "    }\n",
              "\n",
              "    .colab-df-convert:hover {\n",
              "      background-color: #E2EBFA;\n",
              "      box-shadow: 0px 1px 2px rgba(60, 64, 67, 0.3), 0px 1px 3px 1px rgba(60, 64, 67, 0.15);\n",
              "      fill: #174EA6;\n",
              "    }\n",
              "\n",
              "    [theme=dark] .colab-df-convert {\n",
              "      background-color: #3B4455;\n",
              "      fill: #D2E3FC;\n",
              "    }\n",
              "\n",
              "    [theme=dark] .colab-df-convert:hover {\n",
              "      background-color: #434B5C;\n",
              "      box-shadow: 0px 1px 3px 1px rgba(0, 0, 0, 0.15);\n",
              "      filter: drop-shadow(0px 1px 2px rgba(0, 0, 0, 0.3));\n",
              "      fill: #FFFFFF;\n",
              "    }\n",
              "  </style>\n",
              "\n",
              "      <script>\n",
              "        const buttonEl =\n",
              "          document.querySelector('#df-1e3e2f8e-ca20-4065-9a53-41705523bb12 button.colab-df-convert');\n",
              "        buttonEl.style.display =\n",
              "          google.colab.kernel.accessAllowed ? 'block' : 'none';\n",
              "\n",
              "        async function convertToInteractive(key) {\n",
              "          const element = document.querySelector('#df-1e3e2f8e-ca20-4065-9a53-41705523bb12');\n",
              "          const dataTable =\n",
              "            await google.colab.kernel.invokeFunction('convertToInteractive',\n",
              "                                                     [key], {});\n",
              "          if (!dataTable) return;\n",
              "\n",
              "          const docLinkHtml = 'Like what you see? Visit the ' +\n",
              "            '<a target=\"_blank\" href=https://colab.research.google.com/notebooks/data_table.ipynb>data table notebook</a>'\n",
              "            + ' to learn more about interactive tables.';\n",
              "          element.innerHTML = '';\n",
              "          dataTable['output_type'] = 'display_data';\n",
              "          await google.colab.output.renderOutput(dataTable, element);\n",
              "          const docLink = document.createElement('div');\n",
              "          docLink.innerHTML = docLinkHtml;\n",
              "          element.appendChild(docLink);\n",
              "        }\n",
              "      </script>\n",
              "    </div>\n",
              "  </div>\n",
              "  "
            ]
          },
          "metadata": {},
          "execution_count": 67
        }
      ],
      "source": [
        "#currently employed\n",
        "still_employeed =concat.loc[concat['Attrition'] == 0]\n",
        "still_employeed.head()"
      ]
    },
    {
      "cell_type": "code",
      "execution_count": 68,
      "id": "8e20107b",
      "metadata": {
        "id": "8e20107b",
        "outputId": "42431f35-f984-4acf-8fd2-f865cc6f8bd1",
        "colab": {
          "base_uri": "https://localhost:8080/",
          "height": 300
        }
      },
      "outputs": [
        {
          "output_type": "execute_result",
          "data": {
            "text/plain": [
              "       JobSatisfaction  RelationshipSatisfaction  EnvironmentSatisfaction  \\\n",
              "count      1447.000000               1447.000000              1447.000000   \n",
              "mean          2.784381                  2.766413                 2.749827   \n",
              "std           1.083233                  1.061409                 1.082182   \n",
              "min           1.000000                  1.000000                 1.000000   \n",
              "25%           2.000000                  2.000000                 2.000000   \n",
              "50%           3.000000                  3.000000                 3.000000   \n",
              "75%           4.000000                  4.000000                 4.000000   \n",
              "max           4.000000                  4.000000                 4.000000   \n",
              "\n",
              "       WorkLifeBalance  \n",
              "count      1447.000000  \n",
              "mean          2.781617  \n",
              "std           0.693275  \n",
              "min           1.000000  \n",
              "25%           2.000000  \n",
              "50%           3.000000  \n",
              "75%           3.000000  \n",
              "max           4.000000  "
            ],
            "text/html": [
              "\n",
              "  <div id=\"df-3052ae64-eec9-4fc7-a805-5bde03337186\">\n",
              "    <div class=\"colab-df-container\">\n",
              "      <div>\n",
              "<style scoped>\n",
              "    .dataframe tbody tr th:only-of-type {\n",
              "        vertical-align: middle;\n",
              "    }\n",
              "\n",
              "    .dataframe tbody tr th {\n",
              "        vertical-align: top;\n",
              "    }\n",
              "\n",
              "    .dataframe thead th {\n",
              "        text-align: right;\n",
              "    }\n",
              "</style>\n",
              "<table border=\"1\" class=\"dataframe\">\n",
              "  <thead>\n",
              "    <tr style=\"text-align: right;\">\n",
              "      <th></th>\n",
              "      <th>JobSatisfaction</th>\n",
              "      <th>RelationshipSatisfaction</th>\n",
              "      <th>EnvironmentSatisfaction</th>\n",
              "      <th>WorkLifeBalance</th>\n",
              "    </tr>\n",
              "  </thead>\n",
              "  <tbody>\n",
              "    <tr>\n",
              "      <th>count</th>\n",
              "      <td>1447.000000</td>\n",
              "      <td>1447.000000</td>\n",
              "      <td>1447.000000</td>\n",
              "      <td>1447.000000</td>\n",
              "    </tr>\n",
              "    <tr>\n",
              "      <th>mean</th>\n",
              "      <td>2.784381</td>\n",
              "      <td>2.766413</td>\n",
              "      <td>2.749827</td>\n",
              "      <td>2.781617</td>\n",
              "    </tr>\n",
              "    <tr>\n",
              "      <th>std</th>\n",
              "      <td>1.083233</td>\n",
              "      <td>1.061409</td>\n",
              "      <td>1.082182</td>\n",
              "      <td>0.693275</td>\n",
              "    </tr>\n",
              "    <tr>\n",
              "      <th>min</th>\n",
              "      <td>1.000000</td>\n",
              "      <td>1.000000</td>\n",
              "      <td>1.000000</td>\n",
              "      <td>1.000000</td>\n",
              "    </tr>\n",
              "    <tr>\n",
              "      <th>25%</th>\n",
              "      <td>2.000000</td>\n",
              "      <td>2.000000</td>\n",
              "      <td>2.000000</td>\n",
              "      <td>2.000000</td>\n",
              "    </tr>\n",
              "    <tr>\n",
              "      <th>50%</th>\n",
              "      <td>3.000000</td>\n",
              "      <td>3.000000</td>\n",
              "      <td>3.000000</td>\n",
              "      <td>3.000000</td>\n",
              "    </tr>\n",
              "    <tr>\n",
              "      <th>75%</th>\n",
              "      <td>4.000000</td>\n",
              "      <td>4.000000</td>\n",
              "      <td>4.000000</td>\n",
              "      <td>3.000000</td>\n",
              "    </tr>\n",
              "    <tr>\n",
              "      <th>max</th>\n",
              "      <td>4.000000</td>\n",
              "      <td>4.000000</td>\n",
              "      <td>4.000000</td>\n",
              "      <td>4.000000</td>\n",
              "    </tr>\n",
              "  </tbody>\n",
              "</table>\n",
              "</div>\n",
              "      <button class=\"colab-df-convert\" onclick=\"convertToInteractive('df-3052ae64-eec9-4fc7-a805-5bde03337186')\"\n",
              "              title=\"Convert this dataframe to an interactive table.\"\n",
              "              style=\"display:none;\">\n",
              "        \n",
              "  <svg xmlns=\"http://www.w3.org/2000/svg\" height=\"24px\"viewBox=\"0 0 24 24\"\n",
              "       width=\"24px\">\n",
              "    <path d=\"M0 0h24v24H0V0z\" fill=\"none\"/>\n",
              "    <path d=\"M18.56 5.44l.94 2.06.94-2.06 2.06-.94-2.06-.94-.94-2.06-.94 2.06-2.06.94zm-11 1L8.5 8.5l.94-2.06 2.06-.94-2.06-.94L8.5 2.5l-.94 2.06-2.06.94zm10 10l.94 2.06.94-2.06 2.06-.94-2.06-.94-.94-2.06-.94 2.06-2.06.94z\"/><path d=\"M17.41 7.96l-1.37-1.37c-.4-.4-.92-.59-1.43-.59-.52 0-1.04.2-1.43.59L10.3 9.45l-7.72 7.72c-.78.78-.78 2.05 0 2.83L4 21.41c.39.39.9.59 1.41.59.51 0 1.02-.2 1.41-.59l7.78-7.78 2.81-2.81c.8-.78.8-2.07 0-2.86zM5.41 20L4 18.59l7.72-7.72 1.47 1.35L5.41 20z\"/>\n",
              "  </svg>\n",
              "      </button>\n",
              "      \n",
              "  <style>\n",
              "    .colab-df-container {\n",
              "      display:flex;\n",
              "      flex-wrap:wrap;\n",
              "      gap: 12px;\n",
              "    }\n",
              "\n",
              "    .colab-df-convert {\n",
              "      background-color: #E8F0FE;\n",
              "      border: none;\n",
              "      border-radius: 50%;\n",
              "      cursor: pointer;\n",
              "      display: none;\n",
              "      fill: #1967D2;\n",
              "      height: 32px;\n",
              "      padding: 0 0 0 0;\n",
              "      width: 32px;\n",
              "    }\n",
              "\n",
              "    .colab-df-convert:hover {\n",
              "      background-color: #E2EBFA;\n",
              "      box-shadow: 0px 1px 2px rgba(60, 64, 67, 0.3), 0px 1px 3px 1px rgba(60, 64, 67, 0.15);\n",
              "      fill: #174EA6;\n",
              "    }\n",
              "\n",
              "    [theme=dark] .colab-df-convert {\n",
              "      background-color: #3B4455;\n",
              "      fill: #D2E3FC;\n",
              "    }\n",
              "\n",
              "    [theme=dark] .colab-df-convert:hover {\n",
              "      background-color: #434B5C;\n",
              "      box-shadow: 0px 1px 3px 1px rgba(0, 0, 0, 0.15);\n",
              "      filter: drop-shadow(0px 1px 2px rgba(0, 0, 0, 0.3));\n",
              "      fill: #FFFFFF;\n",
              "    }\n",
              "  </style>\n",
              "\n",
              "      <script>\n",
              "        const buttonEl =\n",
              "          document.querySelector('#df-3052ae64-eec9-4fc7-a805-5bde03337186 button.colab-df-convert');\n",
              "        buttonEl.style.display =\n",
              "          google.colab.kernel.accessAllowed ? 'block' : 'none';\n",
              "\n",
              "        async function convertToInteractive(key) {\n",
              "          const element = document.querySelector('#df-3052ae64-eec9-4fc7-a805-5bde03337186');\n",
              "          const dataTable =\n",
              "            await google.colab.kernel.invokeFunction('convertToInteractive',\n",
              "                                                     [key], {});\n",
              "          if (!dataTable) return;\n",
              "\n",
              "          const docLinkHtml = 'Like what you see? Visit the ' +\n",
              "            '<a target=\"_blank\" href=https://colab.research.google.com/notebooks/data_table.ipynb>data table notebook</a>'\n",
              "            + ' to learn more about interactive tables.';\n",
              "          element.innerHTML = '';\n",
              "          dataTable['output_type'] = 'display_data';\n",
              "          await google.colab.output.renderOutput(dataTable, element);\n",
              "          const docLink = document.createElement('div');\n",
              "          docLink.innerHTML = docLinkHtml;\n",
              "          element.appendChild(docLink);\n",
              "        }\n",
              "      </script>\n",
              "    </div>\n",
              "  </div>\n",
              "  "
            ]
          },
          "metadata": {},
          "execution_count": 68
        }
      ],
      "source": [
        "dfsatisfactionN = still_employeed[['JobSatisfaction', 'RelationshipSatisfaction', 'EnvironmentSatisfaction', 'WorkLifeBalance' ]]\n",
        "dfsatisfactionN.describe()"
      ]
    },
    {
      "cell_type": "code",
      "execution_count": 69,
      "id": "abd2ec75",
      "metadata": {
        "id": "abd2ec75",
        "outputId": "afcf4691-c613-4cdf-df8c-17b768d7c6a5",
        "colab": {
          "base_uri": "https://localhost:8080/"
        }
      },
      "outputs": [
        {
          "output_type": "execute_result",
          "data": {
            "text/plain": [
              "3.0    260\n",
              "4.0    246\n",
              "2.0    204\n",
              "1.0    194\n",
              "Name: JobSatisfaction, dtype: int64"
            ]
          },
          "metadata": {},
          "execution_count": 69
        }
      ],
      "source": [
        "employee_left['JobSatisfaction'].value_counts()"
      ]
    },
    {
      "cell_type": "code",
      "execution_count": 70,
      "id": "5486090f",
      "metadata": {
        "id": "5486090f",
        "outputId": "2b33bccc-f307-49a8-de2f-93204ba91905",
        "colab": {
          "base_uri": "https://localhost:8080/"
        }
      },
      "outputs": [
        {
          "output_type": "execute_result",
          "data": {
            "text/plain": [
              "4.0    478\n",
              "3.0    427\n",
              "2.0    294\n",
              "1.0    248\n",
              "Name: JobSatisfaction, dtype: int64"
            ]
          },
          "metadata": {},
          "execution_count": 70
        }
      ],
      "source": [
        "still_employeed['JobSatisfaction'].value_counts()"
      ]
    },
    {
      "cell_type": "code",
      "execution_count": 71,
      "id": "cfec8850",
      "metadata": {
        "id": "cfec8850",
        "outputId": "bf3f575f-531f-417f-fda9-0cf5332a4f69",
        "colab": {
          "base_uri": "https://localhost:8080/",
          "height": 421
        }
      },
      "outputs": [
        {
          "output_type": "error",
          "ename": "AttributeError",
          "evalue": "ignored",
          "traceback": [
            "\u001b[0;31m---------------------------------------------------------------------------\u001b[0m",
            "\u001b[0;31mAttributeError\u001b[0m                            Traceback (most recent call last)",
            "\u001b[0;32m<ipython-input-71-ef994a83c8ec>\u001b[0m in \u001b[0;36m<module>\u001b[0;34m\u001b[0m\n\u001b[1;32m      6\u001b[0m     \u001b[0max\u001b[0m \u001b[0;34m=\u001b[0m \u001b[0msns\u001b[0m\u001b[0;34m.\u001b[0m\u001b[0mhistplot\u001b[0m\u001b[0;34m(\u001b[0m\u001b[0mdata\u001b[0m \u001b[0;34m=\u001b[0m \u001b[0mdfsatisfactionN\u001b[0m\u001b[0;34m,\u001b[0m \u001b[0mx\u001b[0m \u001b[0;34m=\u001b[0m \u001b[0mcol\u001b[0m\u001b[0;34m,\u001b[0m \u001b[0mbinwidth\u001b[0m \u001b[0;34m=\u001b[0m \u001b[0;36m1\u001b[0m\u001b[0;34m,\u001b[0m \u001b[0mbinrange\u001b[0m \u001b[0;34m=\u001b[0m \u001b[0;34m(\u001b[0m\u001b[0;36m1\u001b[0m\u001b[0;34m,\u001b[0m\u001b[0;36m5\u001b[0m\u001b[0;34m)\u001b[0m\u001b[0;34m,\u001b[0m\u001b[0mlegend\u001b[0m \u001b[0;34m=\u001b[0m \u001b[0;32mTrue\u001b[0m\u001b[0;34m,\u001b[0m \u001b[0mpalette\u001b[0m \u001b[0;34m=\u001b[0m \u001b[0;34m'rocket'\u001b[0m\u001b[0;34m)\u001b[0m\u001b[0;34m\u001b[0m\u001b[0;34m\u001b[0m\u001b[0m\n\u001b[1;32m      7\u001b[0m     \u001b[0;32mfor\u001b[0m \u001b[0mi\u001b[0m \u001b[0;32min\u001b[0m \u001b[0max\u001b[0m\u001b[0;34m.\u001b[0m\u001b[0mcontainers\u001b[0m\u001b[0;34m:\u001b[0m\u001b[0;34m\u001b[0m\u001b[0;34m\u001b[0m\u001b[0m\n\u001b[0;32m----> 8\u001b[0;31m         \u001b[0max\u001b[0m\u001b[0;34m.\u001b[0m\u001b[0mbar_label\u001b[0m\u001b[0;34m(\u001b[0m\u001b[0mi\u001b[0m\u001b[0;34m,\u001b[0m\u001b[0;34m)\u001b[0m\u001b[0;34m\u001b[0m\u001b[0;34m\u001b[0m\u001b[0m\n\u001b[0m",
            "\u001b[0;31mAttributeError\u001b[0m: 'AxesSubplot' object has no attribute 'bar_label'"
          ]
        },
        {
          "output_type": "display_data",
          "data": {
            "text/plain": [
              "<Figure size 432x216 with 1 Axes>"
            ],
            "image/png": "[encoded data removed]"
          },
          "metadata": {}
        }
      ],
      "source": [
        "#still employed\n",
        "\n",
        "for col in dfsatisfactionN.columns:\n",
        "    fig, ax = plt.subplots(figsize=(6,3))\n",
        "    sns.set_theme(style=\"darkgrid\", font_scale = 0.75)\n",
        "    ax = sns.histplot(data = dfsatisfactionN, x = col, binwidth = 1, binrange = (1,5),legend = True, palette = 'rocket')\n",
        "    for i in ax.containers:\n",
        "        ax.bar_label(i,)"
      ]
    },
    {
      "cell_type": "code",
      "execution_count": 72,
      "id": "db90e1db",
      "metadata": {
        "id": "db90e1db",
        "outputId": "ac5e223e-c4f7-4574-9999-86b133a2a605",
        "colab": {
          "base_uri": "https://localhost:8080/",
          "height": 408
        }
      },
      "outputs": [
        {
          "output_type": "error",
          "ename": "AttributeError",
          "evalue": "ignored",
          "traceback": [
            "\u001b[0;31m---------------------------------------------------------------------------\u001b[0m",
            "\u001b[0;31mAttributeError\u001b[0m                            Traceback (most recent call last)",
            "\u001b[0;32m<ipython-input-72-7af1a0b9d07e>\u001b[0m in \u001b[0;36m<module>\u001b[0;34m\u001b[0m\n\u001b[1;32m      5\u001b[0m     \u001b[0max\u001b[0m \u001b[0;34m=\u001b[0m \u001b[0msns\u001b[0m\u001b[0;34m.\u001b[0m\u001b[0mhistplot\u001b[0m\u001b[0;34m(\u001b[0m\u001b[0mdata\u001b[0m \u001b[0;34m=\u001b[0m \u001b[0mdfsatisfactionY\u001b[0m\u001b[0;34m,\u001b[0m \u001b[0mx\u001b[0m \u001b[0;34m=\u001b[0m \u001b[0mcol\u001b[0m\u001b[0;34m,\u001b[0m \u001b[0mbinwidth\u001b[0m \u001b[0;34m=\u001b[0m \u001b[0;36m1\u001b[0m\u001b[0;34m,\u001b[0m \u001b[0mbinrange\u001b[0m \u001b[0;34m=\u001b[0m \u001b[0;34m(\u001b[0m\u001b[0;36m1\u001b[0m\u001b[0;34m,\u001b[0m\u001b[0;36m5\u001b[0m\u001b[0;34m)\u001b[0m\u001b[0;34m,\u001b[0m\u001b[0mlegend\u001b[0m \u001b[0;34m=\u001b[0m \u001b[0;32mTrue\u001b[0m\u001b[0;34m,\u001b[0m \u001b[0mpalette\u001b[0m \u001b[0;34m=\u001b[0m \u001b[0;34m'rocket'\u001b[0m\u001b[0;34m)\u001b[0m\u001b[0;34m\u001b[0m\u001b[0;34m\u001b[0m\u001b[0m\n\u001b[1;32m      6\u001b[0m     \u001b[0;32mfor\u001b[0m \u001b[0mi\u001b[0m \u001b[0;32min\u001b[0m \u001b[0max\u001b[0m\u001b[0;34m.\u001b[0m\u001b[0mcontainers\u001b[0m\u001b[0;34m:\u001b[0m\u001b[0;34m\u001b[0m\u001b[0;34m\u001b[0m\u001b[0m\n\u001b[0;32m----> 7\u001b[0;31m         \u001b[0max\u001b[0m\u001b[0;34m.\u001b[0m\u001b[0mbar_label\u001b[0m\u001b[0;34m(\u001b[0m\u001b[0mi\u001b[0m\u001b[0;34m,\u001b[0m\u001b[0;34m)\u001b[0m\u001b[0;34m\u001b[0m\u001b[0;34m\u001b[0m\u001b[0m\n\u001b[0m",
            "\u001b[0;31mAttributeError\u001b[0m: 'AxesSubplot' object has no attribute 'bar_label'"
          ]
        },
        {
          "output_type": "display_data",
          "data": {
            "text/plain": [
              "<Figure size 432x216 with 1 Axes>"
            ],
            "image/png": "[encoded data removed]"
          },
          "metadata": {}
        }
      ],
      "source": [
        "#left employees\n",
        "for col in dfsatisfactionY.columns:\n",
        "    plt.figure(figsize=(6,3))\n",
        "    sns.set_theme(style=\"darkgrid\", font_scale = 0.75)\n",
        "    ax = sns.histplot(data = dfsatisfactionY, x = col, binwidth = 1, binrange = (1,5),legend = True, palette = 'rocket')\n",
        "    for i in ax.containers:\n",
        "        ax.bar_label(i,)"
      ]
    },
    {
      "cell_type": "markdown",
      "id": "d36d8591",
      "metadata": {
        "id": "d36d8591"
      },
      "source": [
        "### Data Visualization Summary"
      ]
    },
    {
      "cell_type": "markdown",
      "id": "898d68aa",
      "metadata": {
        "id": "898d68aa"
      },
      "source": [
        "##### Attrition & Age"
      ]
    },
    {
      "cell_type": "markdown",
      "id": "01cd324e",
      "metadata": {
        "id": "01cd324e"
      },
      "source": [
        "Attrition seems to be more prevalent in the early career stages, most notebly between the ages of 20 and 30. \n",
        "Whilst there is records of attrition at almost every age grouping, it would be beneficial to retain these younger employees\n",
        "and develop them within the business"
      ]
    },
    {
      "cell_type": "markdown",
      "id": "d5a4d77f",
      "metadata": {
        "id": "d5a4d77f"
      },
      "source": [
        "##### Attrition & monthly income"
      ]
    },
    {
      "cell_type": "markdown",
      "id": "9055b1f4",
      "metadata": {
        "id": "9055b1f4"
      },
      "source": [
        "While it isn't groundbreaking that the employees getting paid more are less likely to quit their jobs, exploring this area \n",
        "did uncover certain job roles where despite their pay level, attrition was abnormally higher than other roles. \n",
        "This relationship between income and retention could also be worth exploring in relation to preventing attrition, \n",
        "by offering incentives in the form of pay increases, how much of an effect, if any, would this have on the employees \n",
        "attrition chance."
      ]
    },
    {
      "cell_type": "markdown",
      "id": "0c53d725",
      "metadata": {
        "id": "0c53d725"
      },
      "source": [
        "### What type of measures should the company take in order to retain their employees?"
      ]
    },
    {
      "cell_type": "markdown",
      "id": "7338e3d2",
      "metadata": {
        "id": "7338e3d2"
      },
      "source": [
        "Woman are getting more salary than men so they are more likely to leave the company so we should increase men’s salary to decrease attrition. Also the company should care more about employees’ satisfactory."
      ]
    }
  ],
  "metadata": {
    "kernelspec": {
      "display_name": "Python 3 (ipykernel)",
      "language": "python",
      "name": "python3"
    },
    "language_info": {
      "codemirror_mode": {
        "name": "ipython",
        "version": 3
      },
      "file_extension": ".py",
      "mimetype": "text/x-python",
      "name": "python",
      "nbconvert_exporter": "python",
      "pygments_lexer": "ipython3",
      "version": "3.10.4"
    },
    "colab": {
      "provenance": []
    }
  },
  "nbformat": 4,
  "nbformat_minor": 5
}